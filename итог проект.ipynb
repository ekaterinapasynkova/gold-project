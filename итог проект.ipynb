{
 "cells": [
  {
   "cell_type": "markdown",
   "metadata": {
    "toc": true
   },
   "source": [
    "<h1>Содержание<span class=\"tocSkip\"></span></h1>\n",
    "<div class=\"toc\"><ul class=\"toc-item\"><li><span><a href=\"#Подготовка-данных\" data-toc-modified-id=\"Подготовка-данных-1\"><span class=\"toc-item-num\">1&nbsp;&nbsp;</span>Подготовка данных</a></span><ul class=\"toc-item\"><li><span><a href=\"#Откроем-и-изучим-файлы\" data-toc-modified-id=\"Откроем-и-изучим-файлы-1.1\"><span class=\"toc-item-num\">1.1&nbsp;&nbsp;</span>Откроем и изучим файлы</a></span></li><li><span><a href=\"#Проверим-правильность-расчета-эффективности-обогащения\" data-toc-modified-id=\"Проверим-правильность-расчета-эффективности-обогащения-1.2\"><span class=\"toc-item-num\">1.2&nbsp;&nbsp;</span>Проверим правильность расчета эффективности обогащения</a></span></li><li><span><a href=\"#Анализ-признаков,-недоступных-в-тестовой-выборке\" data-toc-modified-id=\"Анализ-признаков,-недоступных-в-тестовой-выборке-1.3\"><span class=\"toc-item-num\">1.3&nbsp;&nbsp;</span>Анализ признаков, недоступных в тестовой выборке</a></span></li><li><span><a href=\"#Предобработка-данных\" data-toc-modified-id=\"Предобработка-данных-1.4\"><span class=\"toc-item-num\">1.4&nbsp;&nbsp;</span>Предобработка данных</a></span></li></ul></li><li><span><a href=\"#Анализ-данных\" data-toc-modified-id=\"Анализ-данных-2\"><span class=\"toc-item-num\">2&nbsp;&nbsp;</span>Анализ данных</a></span><ul class=\"toc-item\"><li><span><a href=\"#Изменение-концентрации-металлов-на-различных-этапах-очистки\" data-toc-modified-id=\"Изменение-концентрации-металлов-на-различных-этапах-очистки-2.1\"><span class=\"toc-item-num\">2.1&nbsp;&nbsp;</span>Изменение концентрации металлов на различных этапах очистки</a></span></li><li><span><a href=\"#Распределение-гранул-сырья\" data-toc-modified-id=\"Распределение-гранул-сырья-2.2\"><span class=\"toc-item-num\">2.2&nbsp;&nbsp;</span>Распределение гранул сырья</a></span></li><li><span><a href=\"#Суммарная-концентрация-веществ-на-разных-стадиях\" data-toc-modified-id=\"Суммарная-концентрация-веществ-на-разных-стадиях-2.3\"><span class=\"toc-item-num\">2.3&nbsp;&nbsp;</span>Суммарная концентрация веществ на разных стадиях</a></span></li></ul></li><li><span><a href=\"#Модель\" data-toc-modified-id=\"Модель-3\"><span class=\"toc-item-num\">3&nbsp;&nbsp;</span>Модель</a></span><ul class=\"toc-item\"><li><span><a href=\"#Напишем-функцию-для-вычисления-итоговой-sMAPE\" data-toc-modified-id=\"Напишем-функцию-для-вычисления-итоговой-sMAPE-3.1\"><span class=\"toc-item-num\">3.1&nbsp;&nbsp;</span>Напишем функцию для вычисления итоговой sMAPE</a></span></li><li><span><a href=\"#Обучим-разные-модели-и-оценим-их-качество\" data-toc-modified-id=\"Обучим-разные-модели-и-оценим-их-качество-3.2\"><span class=\"toc-item-num\">3.2&nbsp;&nbsp;</span>Обучим разные модели и оценим их качество</a></span><ul class=\"toc-item\"><li><span><a href=\"#Модель-дерева-решений\" data-toc-modified-id=\"Модель-дерева-решений-3.2.1\"><span class=\"toc-item-num\">3.2.1&nbsp;&nbsp;</span>Модель дерева решений</a></span></li><li><span><a href=\"#Модель-случайного-леса\" data-toc-modified-id=\"Модель-случайного-леса-3.2.2\"><span class=\"toc-item-num\">3.2.2&nbsp;&nbsp;</span>Модель случайного леса</a></span></li><li><span><a href=\"#Модель-линейной-регрессии\" data-toc-modified-id=\"Модель-линейной-регрессии-3.2.3\"><span class=\"toc-item-num\">3.2.3&nbsp;&nbsp;</span>Модель линейной регрессии</a></span></li></ul></li><li><span><a href=\"#Проверка-моделей-на-адекватность\" data-toc-modified-id=\"Проверка-моделей-на-адекватность-3.3\"><span class=\"toc-item-num\">3.3&nbsp;&nbsp;</span>Проверка моделей на адекватность</a></span></li><li><span><a href=\"#Итог\" data-toc-modified-id=\"Итог-3.4\"><span class=\"toc-item-num\">3.4&nbsp;&nbsp;</span>Итог</a></span></li></ul></li><li><span><a href=\"#Выводы\" data-toc-modified-id=\"Выводы-4\"><span class=\"toc-item-num\">4&nbsp;&nbsp;</span>Выводы</a></span></li></ul></div>"
   ]
  },
  {
   "cell_type": "markdown",
   "metadata": {},
   "source": [
    "# Восстановление золота из руды"
   ]
  },
  {
   "cell_type": "markdown",
   "metadata": {},
   "source": [
    "Подготовьте прототип модели машинного обучения для «Цифры». Компания разрабатывает решения для эффективной работы промышленных предприятий.\n",
    "\n",
    "Модель должна предсказать коэффициент восстановления золота из золотосодержащей руды. Используйте данные с параметрами добычи и очистки. \n",
    "\n",
    "Модель поможет оптимизировать производство, чтобы не запускать предприятие с убыточными характеристиками.\n",
    "\n",
    "Вам нужно:\n",
    "\n",
    "1. Подготовить данные;\n",
    "2. Провести исследовательский анализ данных;\n",
    "3. Построить и обучить модель.\n"
   ]
  },
  {
   "cell_type": "markdown",
   "metadata": {},
   "source": [
    "**Описание данных**\n",
    "\n",
    "*Технологический процесс*\n",
    "\n",
    "- `Rougher feed` — исходное сырье\n",
    "- `Rougher additions` (или reagent additions) — флотационные реагенты: Xanthate, Sulphate, Depressant\n",
    "- `Xanthate` — ксантогенат (промотер, или активатор флотации);\n",
    "- `Sulphate` — сульфат (на данном производстве сульфид натрия);\n",
    "- `Depressant` — депрессант (силикат натрия).\n",
    "- `Rougher process` (англ. «грубый процесс») — флотация\n",
    "- `Rougher tails` — отвальные хвосты\n",
    "- `Float banks` — флотационная установка\n",
    "- `Cleaner process` — очистка\n",
    "- `Rougher Au` — черновой концентрат золота\n",
    "- `Final Au` — финальный концентрат золота\n",
    "\n",
    "*Параметры этапов*\n",
    "\n",
    "- `air amount` — объём воздуха\n",
    "- `fluid levels` — уровень жидкости\n",
    "- `feed size` — размер гранул сырья\n",
    "- `feed rate` — скорость подачи"
   ]
  },
  {
   "cell_type": "markdown",
   "metadata": {},
   "source": [
    "## Подготовка данных"
   ]
  },
  {
   "cell_type": "markdown",
   "metadata": {},
   "source": [
    "### Откроем и изучим файлы"
   ]
  },
  {
   "cell_type": "code",
   "execution_count": 78,
   "metadata": {},
   "outputs": [],
   "source": [
    "# импортируем нужные библиотеки и методы\n",
    "import pandas as pd\n",
    "from sklearn.model_selection import train_test_split\n",
    "from sklearn.tree import DecisionTreeRegressor\n",
    "from sklearn.ensemble import RandomForestRegressor\n",
    "from sklearn.linear_model import LinearRegression\n",
    "from sklearn.metrics import accuracy_score\n",
    "from sklearn.metrics import mean_absolute_error\n",
    "from sklearn.model_selection import cross_val_score, KFold\n",
    "from sklearn.metrics import make_scorer\n",
    "from sklearn.dummy import DummyRegressor\n",
    "from sklearn.linear_model import Ridge\n",
    "import matplotlib.pyplot as plt\n",
    "import seaborn as sns\n",
    "import numpy as np\n",
    "pd.options.display.float_format = '{:,.2f}'.format\n",
    "pd.set_option('display.max_columns', None)"
   ]
  },
  {
   "cell_type": "code",
   "execution_count": 2,
   "metadata": {},
   "outputs": [
    {
     "data": {
      "text/html": [
       "<div>\n",
       "<style scoped>\n",
       "    .dataframe tbody tr th:only-of-type {\n",
       "        vertical-align: middle;\n",
       "    }\n",
       "\n",
       "    .dataframe tbody tr th {\n",
       "        vertical-align: top;\n",
       "    }\n",
       "\n",
       "    .dataframe thead th {\n",
       "        text-align: right;\n",
       "    }\n",
       "</style>\n",
       "<table border=\"1\" class=\"dataframe\">\n",
       "  <thead>\n",
       "    <tr style=\"text-align: right;\">\n",
       "      <th></th>\n",
       "      <th>date</th>\n",
       "      <th>final.output.concentrate_ag</th>\n",
       "      <th>final.output.concentrate_pb</th>\n",
       "      <th>final.output.concentrate_sol</th>\n",
       "      <th>final.output.concentrate_au</th>\n",
       "      <th>final.output.recovery</th>\n",
       "      <th>final.output.tail_ag</th>\n",
       "      <th>final.output.tail_pb</th>\n",
       "      <th>final.output.tail_sol</th>\n",
       "      <th>final.output.tail_au</th>\n",
       "      <th>primary_cleaner.input.sulfate</th>\n",
       "      <th>primary_cleaner.input.depressant</th>\n",
       "      <th>primary_cleaner.input.feed_size</th>\n",
       "      <th>primary_cleaner.input.xanthate</th>\n",
       "      <th>primary_cleaner.output.concentrate_ag</th>\n",
       "      <th>primary_cleaner.output.concentrate_pb</th>\n",
       "      <th>primary_cleaner.output.concentrate_sol</th>\n",
       "      <th>primary_cleaner.output.concentrate_au</th>\n",
       "      <th>primary_cleaner.output.tail_ag</th>\n",
       "      <th>primary_cleaner.output.tail_pb</th>\n",
       "      <th>primary_cleaner.output.tail_sol</th>\n",
       "      <th>primary_cleaner.output.tail_au</th>\n",
       "      <th>primary_cleaner.state.floatbank8_a_air</th>\n",
       "      <th>primary_cleaner.state.floatbank8_a_level</th>\n",
       "      <th>primary_cleaner.state.floatbank8_b_air</th>\n",
       "      <th>primary_cleaner.state.floatbank8_b_level</th>\n",
       "      <th>primary_cleaner.state.floatbank8_c_air</th>\n",
       "      <th>primary_cleaner.state.floatbank8_c_level</th>\n",
       "      <th>primary_cleaner.state.floatbank8_d_air</th>\n",
       "      <th>primary_cleaner.state.floatbank8_d_level</th>\n",
       "      <th>rougher.calculation.sulfate_to_au_concentrate</th>\n",
       "      <th>rougher.calculation.floatbank10_sulfate_to_au_feed</th>\n",
       "      <th>rougher.calculation.floatbank11_sulfate_to_au_feed</th>\n",
       "      <th>rougher.calculation.au_pb_ratio</th>\n",
       "      <th>rougher.input.feed_ag</th>\n",
       "      <th>rougher.input.feed_pb</th>\n",
       "      <th>rougher.input.feed_rate</th>\n",
       "      <th>rougher.input.feed_size</th>\n",
       "      <th>rougher.input.feed_sol</th>\n",
       "      <th>rougher.input.feed_au</th>\n",
       "      <th>rougher.input.floatbank10_sulfate</th>\n",
       "      <th>rougher.input.floatbank10_xanthate</th>\n",
       "      <th>rougher.input.floatbank11_sulfate</th>\n",
       "      <th>rougher.input.floatbank11_xanthate</th>\n",
       "      <th>rougher.output.concentrate_ag</th>\n",
       "      <th>rougher.output.concentrate_pb</th>\n",
       "      <th>rougher.output.concentrate_sol</th>\n",
       "      <th>rougher.output.concentrate_au</th>\n",
       "      <th>rougher.output.recovery</th>\n",
       "      <th>rougher.output.tail_ag</th>\n",
       "      <th>rougher.output.tail_pb</th>\n",
       "      <th>rougher.output.tail_sol</th>\n",
       "      <th>rougher.output.tail_au</th>\n",
       "      <th>rougher.state.floatbank10_a_air</th>\n",
       "      <th>rougher.state.floatbank10_a_level</th>\n",
       "      <th>rougher.state.floatbank10_b_air</th>\n",
       "      <th>rougher.state.floatbank10_b_level</th>\n",
       "      <th>rougher.state.floatbank10_c_air</th>\n",
       "      <th>rougher.state.floatbank10_c_level</th>\n",
       "      <th>rougher.state.floatbank10_d_air</th>\n",
       "      <th>rougher.state.floatbank10_d_level</th>\n",
       "      <th>rougher.state.floatbank10_e_air</th>\n",
       "      <th>rougher.state.floatbank10_e_level</th>\n",
       "      <th>rougher.state.floatbank10_f_air</th>\n",
       "      <th>rougher.state.floatbank10_f_level</th>\n",
       "      <th>secondary_cleaner.output.tail_ag</th>\n",
       "      <th>secondary_cleaner.output.tail_pb</th>\n",
       "      <th>secondary_cleaner.output.tail_sol</th>\n",
       "      <th>secondary_cleaner.output.tail_au</th>\n",
       "      <th>secondary_cleaner.state.floatbank2_a_air</th>\n",
       "      <th>secondary_cleaner.state.floatbank2_a_level</th>\n",
       "      <th>secondary_cleaner.state.floatbank2_b_air</th>\n",
       "      <th>secondary_cleaner.state.floatbank2_b_level</th>\n",
       "      <th>secondary_cleaner.state.floatbank3_a_air</th>\n",
       "      <th>secondary_cleaner.state.floatbank3_a_level</th>\n",
       "      <th>secondary_cleaner.state.floatbank3_b_air</th>\n",
       "      <th>secondary_cleaner.state.floatbank3_b_level</th>\n",
       "      <th>secondary_cleaner.state.floatbank4_a_air</th>\n",
       "      <th>secondary_cleaner.state.floatbank4_a_level</th>\n",
       "      <th>secondary_cleaner.state.floatbank4_b_air</th>\n",
       "      <th>secondary_cleaner.state.floatbank4_b_level</th>\n",
       "      <th>secondary_cleaner.state.floatbank5_a_air</th>\n",
       "      <th>secondary_cleaner.state.floatbank5_a_level</th>\n",
       "      <th>secondary_cleaner.state.floatbank5_b_air</th>\n",
       "      <th>secondary_cleaner.state.floatbank5_b_level</th>\n",
       "      <th>secondary_cleaner.state.floatbank6_a_air</th>\n",
       "      <th>secondary_cleaner.state.floatbank6_a_level</th>\n",
       "    </tr>\n",
       "  </thead>\n",
       "  <tbody>\n",
       "    <tr>\n",
       "      <th>0</th>\n",
       "      <td>2016-01-15 00:00:00</td>\n",
       "      <td>6.06</td>\n",
       "      <td>9.89</td>\n",
       "      <td>5.51</td>\n",
       "      <td>42.19</td>\n",
       "      <td>70.54</td>\n",
       "      <td>10.41</td>\n",
       "      <td>0.90</td>\n",
       "      <td>16.90</td>\n",
       "      <td>2.14</td>\n",
       "      <td>127.09</td>\n",
       "      <td>10.13</td>\n",
       "      <td>7.25</td>\n",
       "      <td>0.99</td>\n",
       "      <td>8.55</td>\n",
       "      <td>10.39</td>\n",
       "      <td>19.53</td>\n",
       "      <td>34.17</td>\n",
       "      <td>14.94</td>\n",
       "      <td>2.53</td>\n",
       "      <td>7.48</td>\n",
       "      <td>2.11</td>\n",
       "      <td>1,549.78</td>\n",
       "      <td>-498.91</td>\n",
       "      <td>1,551.43</td>\n",
       "      <td>-516.40</td>\n",
       "      <td>1,549.87</td>\n",
       "      <td>-498.67</td>\n",
       "      <td>1,554.37</td>\n",
       "      <td>-493.43</td>\n",
       "      <td>41,885.71</td>\n",
       "      <td>3,481.78</td>\n",
       "      <td>3,520.34</td>\n",
       "      <td>2.84</td>\n",
       "      <td>6.10</td>\n",
       "      <td>2.28</td>\n",
       "      <td>523.55</td>\n",
       "      <td>55.49</td>\n",
       "      <td>36.81</td>\n",
       "      <td>6.49</td>\n",
       "      <td>11.99</td>\n",
       "      <td>6.01</td>\n",
       "      <td>11.84</td>\n",
       "      <td>6.01</td>\n",
       "      <td>11.50</td>\n",
       "      <td>7.10</td>\n",
       "      <td>28.03</td>\n",
       "      <td>19.79</td>\n",
       "      <td>87.11</td>\n",
       "      <td>5.01</td>\n",
       "      <td>0.51</td>\n",
       "      <td>19.15</td>\n",
       "      <td>1.17</td>\n",
       "      <td>999.71</td>\n",
       "      <td>-404.07</td>\n",
       "      <td>1,603.01</td>\n",
       "      <td>-434.72</td>\n",
       "      <td>1,602.38</td>\n",
       "      <td>-442.20</td>\n",
       "      <td>1,598.94</td>\n",
       "      <td>-451.29</td>\n",
       "      <td>1,404.47</td>\n",
       "      <td>-455.46</td>\n",
       "      <td>1,416.35</td>\n",
       "      <td>-451.94</td>\n",
       "      <td>14.50</td>\n",
       "      <td>4.69</td>\n",
       "      <td>8.76</td>\n",
       "      <td>2.61</td>\n",
       "      <td>25.85</td>\n",
       "      <td>-498.53</td>\n",
       "      <td>23.89</td>\n",
       "      <td>-501.41</td>\n",
       "      <td>23.96</td>\n",
       "      <td>-495.26</td>\n",
       "      <td>21.94</td>\n",
       "      <td>-499.34</td>\n",
       "      <td>14.02</td>\n",
       "      <td>-502.49</td>\n",
       "      <td>12.10</td>\n",
       "      <td>-504.72</td>\n",
       "      <td>9.93</td>\n",
       "      <td>-498.31</td>\n",
       "      <td>8.08</td>\n",
       "      <td>-500.47</td>\n",
       "      <td>14.15</td>\n",
       "      <td>-605.84</td>\n",
       "    </tr>\n",
       "    <tr>\n",
       "      <th>1</th>\n",
       "      <td>2016-01-15 01:00:00</td>\n",
       "      <td>6.03</td>\n",
       "      <td>9.97</td>\n",
       "      <td>5.26</td>\n",
       "      <td>42.70</td>\n",
       "      <td>69.27</td>\n",
       "      <td>10.46</td>\n",
       "      <td>0.93</td>\n",
       "      <td>16.63</td>\n",
       "      <td>2.22</td>\n",
       "      <td>125.63</td>\n",
       "      <td>10.30</td>\n",
       "      <td>7.25</td>\n",
       "      <td>1.00</td>\n",
       "      <td>8.56</td>\n",
       "      <td>10.50</td>\n",
       "      <td>19.37</td>\n",
       "      <td>34.12</td>\n",
       "      <td>16.25</td>\n",
       "      <td>3.05</td>\n",
       "      <td>6.73</td>\n",
       "      <td>2.35</td>\n",
       "      <td>1,576.17</td>\n",
       "      <td>-500.90</td>\n",
       "      <td>1,575.95</td>\n",
       "      <td>-499.87</td>\n",
       "      <td>1,575.99</td>\n",
       "      <td>-499.32</td>\n",
       "      <td>1,574.48</td>\n",
       "      <td>-498.93</td>\n",
       "      <td>42,050.86</td>\n",
       "      <td>3,498.37</td>\n",
       "      <td>3,489.98</td>\n",
       "      <td>2.86</td>\n",
       "      <td>6.16</td>\n",
       "      <td>2.27</td>\n",
       "      <td>525.29</td>\n",
       "      <td>57.28</td>\n",
       "      <td>35.75</td>\n",
       "      <td>6.48</td>\n",
       "      <td>11.97</td>\n",
       "      <td>6.01</td>\n",
       "      <td>12.00</td>\n",
       "      <td>6.01</td>\n",
       "      <td>11.62</td>\n",
       "      <td>7.28</td>\n",
       "      <td>28.07</td>\n",
       "      <td>20.05</td>\n",
       "      <td>86.84</td>\n",
       "      <td>4.96</td>\n",
       "      <td>0.54</td>\n",
       "      <td>18.97</td>\n",
       "      <td>1.18</td>\n",
       "      <td>1,000.29</td>\n",
       "      <td>-400.07</td>\n",
       "      <td>1,600.75</td>\n",
       "      <td>-449.95</td>\n",
       "      <td>1,600.48</td>\n",
       "      <td>-449.83</td>\n",
       "      <td>1,600.53</td>\n",
       "      <td>-449.95</td>\n",
       "      <td>1,399.23</td>\n",
       "      <td>-450.87</td>\n",
       "      <td>1,399.72</td>\n",
       "      <td>-450.12</td>\n",
       "      <td>14.27</td>\n",
       "      <td>4.59</td>\n",
       "      <td>9.00</td>\n",
       "      <td>2.49</td>\n",
       "      <td>25.88</td>\n",
       "      <td>-499.99</td>\n",
       "      <td>23.89</td>\n",
       "      <td>-500.37</td>\n",
       "      <td>23.97</td>\n",
       "      <td>-500.09</td>\n",
       "      <td>22.09</td>\n",
       "      <td>-499.45</td>\n",
       "      <td>13.99</td>\n",
       "      <td>-505.50</td>\n",
       "      <td>11.95</td>\n",
       "      <td>-501.33</td>\n",
       "      <td>10.04</td>\n",
       "      <td>-500.17</td>\n",
       "      <td>7.98</td>\n",
       "      <td>-500.58</td>\n",
       "      <td>14.00</td>\n",
       "      <td>-599.79</td>\n",
       "    </tr>\n",
       "    <tr>\n",
       "      <th>2</th>\n",
       "      <td>2016-01-15 02:00:00</td>\n",
       "      <td>6.06</td>\n",
       "      <td>10.21</td>\n",
       "      <td>5.38</td>\n",
       "      <td>42.66</td>\n",
       "      <td>68.12</td>\n",
       "      <td>10.51</td>\n",
       "      <td>0.95</td>\n",
       "      <td>16.21</td>\n",
       "      <td>2.26</td>\n",
       "      <td>123.82</td>\n",
       "      <td>11.32</td>\n",
       "      <td>7.25</td>\n",
       "      <td>0.99</td>\n",
       "      <td>8.60</td>\n",
       "      <td>10.35</td>\n",
       "      <td>19.17</td>\n",
       "      <td>33.97</td>\n",
       "      <td>16.49</td>\n",
       "      <td>3.12</td>\n",
       "      <td>6.47</td>\n",
       "      <td>2.42</td>\n",
       "      <td>1,601.56</td>\n",
       "      <td>-500.00</td>\n",
       "      <td>1,600.39</td>\n",
       "      <td>-500.61</td>\n",
       "      <td>1,602.00</td>\n",
       "      <td>-500.87</td>\n",
       "      <td>1,599.54</td>\n",
       "      <td>-499.83</td>\n",
       "      <td>42,018.10</td>\n",
       "      <td>3,495.35</td>\n",
       "      <td>3,502.36</td>\n",
       "      <td>2.95</td>\n",
       "      <td>6.12</td>\n",
       "      <td>2.16</td>\n",
       "      <td>530.03</td>\n",
       "      <td>57.51</td>\n",
       "      <td>35.97</td>\n",
       "      <td>6.36</td>\n",
       "      <td>11.92</td>\n",
       "      <td>6.20</td>\n",
       "      <td>11.92</td>\n",
       "      <td>6.20</td>\n",
       "      <td>11.70</td>\n",
       "      <td>7.22</td>\n",
       "      <td>27.45</td>\n",
       "      <td>19.74</td>\n",
       "      <td>86.84</td>\n",
       "      <td>4.84</td>\n",
       "      <td>0.55</td>\n",
       "      <td>18.81</td>\n",
       "      <td>1.16</td>\n",
       "      <td>999.72</td>\n",
       "      <td>-400.07</td>\n",
       "      <td>1,599.34</td>\n",
       "      <td>-450.01</td>\n",
       "      <td>1,599.67</td>\n",
       "      <td>-449.95</td>\n",
       "      <td>1,599.85</td>\n",
       "      <td>-449.95</td>\n",
       "      <td>1,399.18</td>\n",
       "      <td>-449.94</td>\n",
       "      <td>1,400.32</td>\n",
       "      <td>-450.53</td>\n",
       "      <td>14.12</td>\n",
       "      <td>4.62</td>\n",
       "      <td>8.84</td>\n",
       "      <td>2.46</td>\n",
       "      <td>26.01</td>\n",
       "      <td>-499.93</td>\n",
       "      <td>23.89</td>\n",
       "      <td>-499.95</td>\n",
       "      <td>23.91</td>\n",
       "      <td>-499.44</td>\n",
       "      <td>23.96</td>\n",
       "      <td>-499.90</td>\n",
       "      <td>14.02</td>\n",
       "      <td>-502.52</td>\n",
       "      <td>11.91</td>\n",
       "      <td>-501.13</td>\n",
       "      <td>10.07</td>\n",
       "      <td>-500.13</td>\n",
       "      <td>8.01</td>\n",
       "      <td>-500.52</td>\n",
       "      <td>14.03</td>\n",
       "      <td>-601.43</td>\n",
       "    </tr>\n",
       "    <tr>\n",
       "      <th>3</th>\n",
       "      <td>2016-01-15 03:00:00</td>\n",
       "      <td>6.05</td>\n",
       "      <td>9.98</td>\n",
       "      <td>4.86</td>\n",
       "      <td>42.69</td>\n",
       "      <td>68.35</td>\n",
       "      <td>10.42</td>\n",
       "      <td>0.88</td>\n",
       "      <td>16.53</td>\n",
       "      <td>2.15</td>\n",
       "      <td>122.27</td>\n",
       "      <td>11.32</td>\n",
       "      <td>7.25</td>\n",
       "      <td>1.00</td>\n",
       "      <td>7.22</td>\n",
       "      <td>8.50</td>\n",
       "      <td>15.98</td>\n",
       "      <td>28.26</td>\n",
       "      <td>16.02</td>\n",
       "      <td>2.96</td>\n",
       "      <td>6.84</td>\n",
       "      <td>2.26</td>\n",
       "      <td>1,599.97</td>\n",
       "      <td>-500.95</td>\n",
       "      <td>1,600.66</td>\n",
       "      <td>-499.68</td>\n",
       "      <td>1,600.30</td>\n",
       "      <td>-500.73</td>\n",
       "      <td>1,600.45</td>\n",
       "      <td>-500.05</td>\n",
       "      <td>42,029.45</td>\n",
       "      <td>3,498.58</td>\n",
       "      <td>3,499.16</td>\n",
       "      <td>3.00</td>\n",
       "      <td>6.04</td>\n",
       "      <td>2.04</td>\n",
       "      <td>542.59</td>\n",
       "      <td>57.79</td>\n",
       "      <td>36.86</td>\n",
       "      <td>6.12</td>\n",
       "      <td>11.63</td>\n",
       "      <td>6.20</td>\n",
       "      <td>11.69</td>\n",
       "      <td>6.20</td>\n",
       "      <td>11.92</td>\n",
       "      <td>7.18</td>\n",
       "      <td>27.34</td>\n",
       "      <td>19.32</td>\n",
       "      <td>87.23</td>\n",
       "      <td>4.66</td>\n",
       "      <td>0.54</td>\n",
       "      <td>19.33</td>\n",
       "      <td>1.08</td>\n",
       "      <td>999.81</td>\n",
       "      <td>-400.20</td>\n",
       "      <td>1,600.06</td>\n",
       "      <td>-450.62</td>\n",
       "      <td>1,600.01</td>\n",
       "      <td>-449.91</td>\n",
       "      <td>1,597.73</td>\n",
       "      <td>-450.13</td>\n",
       "      <td>1,400.94</td>\n",
       "      <td>-450.03</td>\n",
       "      <td>1,400.23</td>\n",
       "      <td>-449.79</td>\n",
       "      <td>13.73</td>\n",
       "      <td>4.48</td>\n",
       "      <td>9.12</td>\n",
       "      <td>2.32</td>\n",
       "      <td>25.94</td>\n",
       "      <td>-499.18</td>\n",
       "      <td>23.96</td>\n",
       "      <td>-499.85</td>\n",
       "      <td>23.97</td>\n",
       "      <td>-500.01</td>\n",
       "      <td>23.95</td>\n",
       "      <td>-499.94</td>\n",
       "      <td>14.04</td>\n",
       "      <td>-500.86</td>\n",
       "      <td>12.00</td>\n",
       "      <td>-501.19</td>\n",
       "      <td>9.97</td>\n",
       "      <td>-499.20</td>\n",
       "      <td>7.98</td>\n",
       "      <td>-500.26</td>\n",
       "      <td>14.01</td>\n",
       "      <td>-600.00</td>\n",
       "    </tr>\n",
       "    <tr>\n",
       "      <th>4</th>\n",
       "      <td>2016-01-15 04:00:00</td>\n",
       "      <td>6.15</td>\n",
       "      <td>10.14</td>\n",
       "      <td>4.94</td>\n",
       "      <td>42.77</td>\n",
       "      <td>66.93</td>\n",
       "      <td>10.36</td>\n",
       "      <td>0.79</td>\n",
       "      <td>16.53</td>\n",
       "      <td>2.06</td>\n",
       "      <td>117.99</td>\n",
       "      <td>11.91</td>\n",
       "      <td>7.25</td>\n",
       "      <td>1.01</td>\n",
       "      <td>9.09</td>\n",
       "      <td>9.99</td>\n",
       "      <td>19.20</td>\n",
       "      <td>33.04</td>\n",
       "      <td>16.48</td>\n",
       "      <td>3.11</td>\n",
       "      <td>6.55</td>\n",
       "      <td>2.28</td>\n",
       "      <td>1,601.34</td>\n",
       "      <td>-498.98</td>\n",
       "      <td>1,601.44</td>\n",
       "      <td>-500.32</td>\n",
       "      <td>1,599.58</td>\n",
       "      <td>-500.89</td>\n",
       "      <td>1,602.65</td>\n",
       "      <td>-500.59</td>\n",
       "      <td>42,125.35</td>\n",
       "      <td>3,494.80</td>\n",
       "      <td>3,506.68</td>\n",
       "      <td>3.17</td>\n",
       "      <td>6.06</td>\n",
       "      <td>1.79</td>\n",
       "      <td>540.53</td>\n",
       "      <td>56.05</td>\n",
       "      <td>34.35</td>\n",
       "      <td>5.66</td>\n",
       "      <td>10.96</td>\n",
       "      <td>6.20</td>\n",
       "      <td>10.96</td>\n",
       "      <td>6.19</td>\n",
       "      <td>12.41</td>\n",
       "      <td>7.24</td>\n",
       "      <td>27.04</td>\n",
       "      <td>19.22</td>\n",
       "      <td>86.69</td>\n",
       "      <td>4.55</td>\n",
       "      <td>0.52</td>\n",
       "      <td>19.27</td>\n",
       "      <td>1.01</td>\n",
       "      <td>999.68</td>\n",
       "      <td>-399.75</td>\n",
       "      <td>1,600.21</td>\n",
       "      <td>-449.60</td>\n",
       "      <td>1,600.36</td>\n",
       "      <td>-450.03</td>\n",
       "      <td>1,599.76</td>\n",
       "      <td>-449.91</td>\n",
       "      <td>1,401.56</td>\n",
       "      <td>-448.88</td>\n",
       "      <td>1,401.16</td>\n",
       "      <td>-450.41</td>\n",
       "      <td>14.08</td>\n",
       "      <td>4.47</td>\n",
       "      <td>8.87</td>\n",
       "      <td>2.33</td>\n",
       "      <td>26.02</td>\n",
       "      <td>-500.28</td>\n",
       "      <td>23.96</td>\n",
       "      <td>-500.59</td>\n",
       "      <td>23.99</td>\n",
       "      <td>-500.08</td>\n",
       "      <td>23.96</td>\n",
       "      <td>-499.99</td>\n",
       "      <td>14.03</td>\n",
       "      <td>-499.84</td>\n",
       "      <td>11.95</td>\n",
       "      <td>-501.05</td>\n",
       "      <td>9.93</td>\n",
       "      <td>-501.69</td>\n",
       "      <td>7.89</td>\n",
       "      <td>-500.36</td>\n",
       "      <td>14.00</td>\n",
       "      <td>-601.50</td>\n",
       "    </tr>\n",
       "  </tbody>\n",
       "</table>\n",
       "</div>"
      ],
      "text/plain": [
       "                  date  final.output.concentrate_ag  \\\n",
       "0  2016-01-15 00:00:00                         6.06   \n",
       "1  2016-01-15 01:00:00                         6.03   \n",
       "2  2016-01-15 02:00:00                         6.06   \n",
       "3  2016-01-15 03:00:00                         6.05   \n",
       "4  2016-01-15 04:00:00                         6.15   \n",
       "\n",
       "   final.output.concentrate_pb  final.output.concentrate_sol  \\\n",
       "0                         9.89                          5.51   \n",
       "1                         9.97                          5.26   \n",
       "2                        10.21                          5.38   \n",
       "3                         9.98                          4.86   \n",
       "4                        10.14                          4.94   \n",
       "\n",
       "   final.output.concentrate_au  final.output.recovery  final.output.tail_ag  \\\n",
       "0                        42.19                  70.54                 10.41   \n",
       "1                        42.70                  69.27                 10.46   \n",
       "2                        42.66                  68.12                 10.51   \n",
       "3                        42.69                  68.35                 10.42   \n",
       "4                        42.77                  66.93                 10.36   \n",
       "\n",
       "   final.output.tail_pb  final.output.tail_sol  final.output.tail_au  \\\n",
       "0                  0.90                  16.90                  2.14   \n",
       "1                  0.93                  16.63                  2.22   \n",
       "2                  0.95                  16.21                  2.26   \n",
       "3                  0.88                  16.53                  2.15   \n",
       "4                  0.79                  16.53                  2.06   \n",
       "\n",
       "   primary_cleaner.input.sulfate  primary_cleaner.input.depressant  \\\n",
       "0                         127.09                             10.13   \n",
       "1                         125.63                             10.30   \n",
       "2                         123.82                             11.32   \n",
       "3                         122.27                             11.32   \n",
       "4                         117.99                             11.91   \n",
       "\n",
       "   primary_cleaner.input.feed_size  primary_cleaner.input.xanthate  \\\n",
       "0                             7.25                            0.99   \n",
       "1                             7.25                            1.00   \n",
       "2                             7.25                            0.99   \n",
       "3                             7.25                            1.00   \n",
       "4                             7.25                            1.01   \n",
       "\n",
       "   primary_cleaner.output.concentrate_ag  \\\n",
       "0                                   8.55   \n",
       "1                                   8.56   \n",
       "2                                   8.60   \n",
       "3                                   7.22   \n",
       "4                                   9.09   \n",
       "\n",
       "   primary_cleaner.output.concentrate_pb  \\\n",
       "0                                  10.39   \n",
       "1                                  10.50   \n",
       "2                                  10.35   \n",
       "3                                   8.50   \n",
       "4                                   9.99   \n",
       "\n",
       "   primary_cleaner.output.concentrate_sol  \\\n",
       "0                                   19.53   \n",
       "1                                   19.37   \n",
       "2                                   19.17   \n",
       "3                                   15.98   \n",
       "4                                   19.20   \n",
       "\n",
       "   primary_cleaner.output.concentrate_au  primary_cleaner.output.tail_ag  \\\n",
       "0                                  34.17                           14.94   \n",
       "1                                  34.12                           16.25   \n",
       "2                                  33.97                           16.49   \n",
       "3                                  28.26                           16.02   \n",
       "4                                  33.04                           16.48   \n",
       "\n",
       "   primary_cleaner.output.tail_pb  primary_cleaner.output.tail_sol  \\\n",
       "0                            2.53                             7.48   \n",
       "1                            3.05                             6.73   \n",
       "2                            3.12                             6.47   \n",
       "3                            2.96                             6.84   \n",
       "4                            3.11                             6.55   \n",
       "\n",
       "   primary_cleaner.output.tail_au  primary_cleaner.state.floatbank8_a_air  \\\n",
       "0                            2.11                                1,549.78   \n",
       "1                            2.35                                1,576.17   \n",
       "2                            2.42                                1,601.56   \n",
       "3                            2.26                                1,599.97   \n",
       "4                            2.28                                1,601.34   \n",
       "\n",
       "   primary_cleaner.state.floatbank8_a_level  \\\n",
       "0                                   -498.91   \n",
       "1                                   -500.90   \n",
       "2                                   -500.00   \n",
       "3                                   -500.95   \n",
       "4                                   -498.98   \n",
       "\n",
       "   primary_cleaner.state.floatbank8_b_air  \\\n",
       "0                                1,551.43   \n",
       "1                                1,575.95   \n",
       "2                                1,600.39   \n",
       "3                                1,600.66   \n",
       "4                                1,601.44   \n",
       "\n",
       "   primary_cleaner.state.floatbank8_b_level  \\\n",
       "0                                   -516.40   \n",
       "1                                   -499.87   \n",
       "2                                   -500.61   \n",
       "3                                   -499.68   \n",
       "4                                   -500.32   \n",
       "\n",
       "   primary_cleaner.state.floatbank8_c_air  \\\n",
       "0                                1,549.87   \n",
       "1                                1,575.99   \n",
       "2                                1,602.00   \n",
       "3                                1,600.30   \n",
       "4                                1,599.58   \n",
       "\n",
       "   primary_cleaner.state.floatbank8_c_level  \\\n",
       "0                                   -498.67   \n",
       "1                                   -499.32   \n",
       "2                                   -500.87   \n",
       "3                                   -500.73   \n",
       "4                                   -500.89   \n",
       "\n",
       "   primary_cleaner.state.floatbank8_d_air  \\\n",
       "0                                1,554.37   \n",
       "1                                1,574.48   \n",
       "2                                1,599.54   \n",
       "3                                1,600.45   \n",
       "4                                1,602.65   \n",
       "\n",
       "   primary_cleaner.state.floatbank8_d_level  \\\n",
       "0                                   -493.43   \n",
       "1                                   -498.93   \n",
       "2                                   -499.83   \n",
       "3                                   -500.05   \n",
       "4                                   -500.59   \n",
       "\n",
       "   rougher.calculation.sulfate_to_au_concentrate  \\\n",
       "0                                      41,885.71   \n",
       "1                                      42,050.86   \n",
       "2                                      42,018.10   \n",
       "3                                      42,029.45   \n",
       "4                                      42,125.35   \n",
       "\n",
       "   rougher.calculation.floatbank10_sulfate_to_au_feed  \\\n",
       "0                                           3,481.78    \n",
       "1                                           3,498.37    \n",
       "2                                           3,495.35    \n",
       "3                                           3,498.58    \n",
       "4                                           3,494.80    \n",
       "\n",
       "   rougher.calculation.floatbank11_sulfate_to_au_feed  \\\n",
       "0                                           3,520.34    \n",
       "1                                           3,489.98    \n",
       "2                                           3,502.36    \n",
       "3                                           3,499.16    \n",
       "4                                           3,506.68    \n",
       "\n",
       "   rougher.calculation.au_pb_ratio  rougher.input.feed_ag  \\\n",
       "0                             2.84                   6.10   \n",
       "1                             2.86                   6.16   \n",
       "2                             2.95                   6.12   \n",
       "3                             3.00                   6.04   \n",
       "4                             3.17                   6.06   \n",
       "\n",
       "   rougher.input.feed_pb  rougher.input.feed_rate  rougher.input.feed_size  \\\n",
       "0                   2.28                   523.55                    55.49   \n",
       "1                   2.27                   525.29                    57.28   \n",
       "2                   2.16                   530.03                    57.51   \n",
       "3                   2.04                   542.59                    57.79   \n",
       "4                   1.79                   540.53                    56.05   \n",
       "\n",
       "   rougher.input.feed_sol  rougher.input.feed_au  \\\n",
       "0                   36.81                   6.49   \n",
       "1                   35.75                   6.48   \n",
       "2                   35.97                   6.36   \n",
       "3                   36.86                   6.12   \n",
       "4                   34.35                   5.66   \n",
       "\n",
       "   rougher.input.floatbank10_sulfate  rougher.input.floatbank10_xanthate  \\\n",
       "0                              11.99                                6.01   \n",
       "1                              11.97                                6.01   \n",
       "2                              11.92                                6.20   \n",
       "3                              11.63                                6.20   \n",
       "4                              10.96                                6.20   \n",
       "\n",
       "   rougher.input.floatbank11_sulfate  rougher.input.floatbank11_xanthate  \\\n",
       "0                              11.84                                6.01   \n",
       "1                              12.00                                6.01   \n",
       "2                              11.92                                6.20   \n",
       "3                              11.69                                6.20   \n",
       "4                              10.96                                6.19   \n",
       "\n",
       "   rougher.output.concentrate_ag  rougher.output.concentrate_pb  \\\n",
       "0                          11.50                           7.10   \n",
       "1                          11.62                           7.28   \n",
       "2                          11.70                           7.22   \n",
       "3                          11.92                           7.18   \n",
       "4                          12.41                           7.24   \n",
       "\n",
       "   rougher.output.concentrate_sol  rougher.output.concentrate_au  \\\n",
       "0                           28.03                          19.79   \n",
       "1                           28.07                          20.05   \n",
       "2                           27.45                          19.74   \n",
       "3                           27.34                          19.32   \n",
       "4                           27.04                          19.22   \n",
       "\n",
       "   rougher.output.recovery  rougher.output.tail_ag  rougher.output.tail_pb  \\\n",
       "0                    87.11                    5.01                    0.51   \n",
       "1                    86.84                    4.96                    0.54   \n",
       "2                    86.84                    4.84                    0.55   \n",
       "3                    87.23                    4.66                    0.54   \n",
       "4                    86.69                    4.55                    0.52   \n",
       "\n",
       "   rougher.output.tail_sol  rougher.output.tail_au  \\\n",
       "0                    19.15                    1.17   \n",
       "1                    18.97                    1.18   \n",
       "2                    18.81                    1.16   \n",
       "3                    19.33                    1.08   \n",
       "4                    19.27                    1.01   \n",
       "\n",
       "   rougher.state.floatbank10_a_air  rougher.state.floatbank10_a_level  \\\n",
       "0                           999.71                            -404.07   \n",
       "1                         1,000.29                            -400.07   \n",
       "2                           999.72                            -400.07   \n",
       "3                           999.81                            -400.20   \n",
       "4                           999.68                            -399.75   \n",
       "\n",
       "   rougher.state.floatbank10_b_air  rougher.state.floatbank10_b_level  \\\n",
       "0                         1,603.01                            -434.72   \n",
       "1                         1,600.75                            -449.95   \n",
       "2                         1,599.34                            -450.01   \n",
       "3                         1,600.06                            -450.62   \n",
       "4                         1,600.21                            -449.60   \n",
       "\n",
       "   rougher.state.floatbank10_c_air  rougher.state.floatbank10_c_level  \\\n",
       "0                         1,602.38                            -442.20   \n",
       "1                         1,600.48                            -449.83   \n",
       "2                         1,599.67                            -449.95   \n",
       "3                         1,600.01                            -449.91   \n",
       "4                         1,600.36                            -450.03   \n",
       "\n",
       "   rougher.state.floatbank10_d_air  rougher.state.floatbank10_d_level  \\\n",
       "0                         1,598.94                            -451.29   \n",
       "1                         1,600.53                            -449.95   \n",
       "2                         1,599.85                            -449.95   \n",
       "3                         1,597.73                            -450.13   \n",
       "4                         1,599.76                            -449.91   \n",
       "\n",
       "   rougher.state.floatbank10_e_air  rougher.state.floatbank10_e_level  \\\n",
       "0                         1,404.47                            -455.46   \n",
       "1                         1,399.23                            -450.87   \n",
       "2                         1,399.18                            -449.94   \n",
       "3                         1,400.94                            -450.03   \n",
       "4                         1,401.56                            -448.88   \n",
       "\n",
       "   rougher.state.floatbank10_f_air  rougher.state.floatbank10_f_level  \\\n",
       "0                         1,416.35                            -451.94   \n",
       "1                         1,399.72                            -450.12   \n",
       "2                         1,400.32                            -450.53   \n",
       "3                         1,400.23                            -449.79   \n",
       "4                         1,401.16                            -450.41   \n",
       "\n",
       "   secondary_cleaner.output.tail_ag  secondary_cleaner.output.tail_pb  \\\n",
       "0                             14.50                              4.69   \n",
       "1                             14.27                              4.59   \n",
       "2                             14.12                              4.62   \n",
       "3                             13.73                              4.48   \n",
       "4                             14.08                              4.47   \n",
       "\n",
       "   secondary_cleaner.output.tail_sol  secondary_cleaner.output.tail_au  \\\n",
       "0                               8.76                              2.61   \n",
       "1                               9.00                              2.49   \n",
       "2                               8.84                              2.46   \n",
       "3                               9.12                              2.32   \n",
       "4                               8.87                              2.33   \n",
       "\n",
       "   secondary_cleaner.state.floatbank2_a_air  \\\n",
       "0                                     25.85   \n",
       "1                                     25.88   \n",
       "2                                     26.01   \n",
       "3                                     25.94   \n",
       "4                                     26.02   \n",
       "\n",
       "   secondary_cleaner.state.floatbank2_a_level  \\\n",
       "0                                     -498.53   \n",
       "1                                     -499.99   \n",
       "2                                     -499.93   \n",
       "3                                     -499.18   \n",
       "4                                     -500.28   \n",
       "\n",
       "   secondary_cleaner.state.floatbank2_b_air  \\\n",
       "0                                     23.89   \n",
       "1                                     23.89   \n",
       "2                                     23.89   \n",
       "3                                     23.96   \n",
       "4                                     23.96   \n",
       "\n",
       "   secondary_cleaner.state.floatbank2_b_level  \\\n",
       "0                                     -501.41   \n",
       "1                                     -500.37   \n",
       "2                                     -499.95   \n",
       "3                                     -499.85   \n",
       "4                                     -500.59   \n",
       "\n",
       "   secondary_cleaner.state.floatbank3_a_air  \\\n",
       "0                                     23.96   \n",
       "1                                     23.97   \n",
       "2                                     23.91   \n",
       "3                                     23.97   \n",
       "4                                     23.99   \n",
       "\n",
       "   secondary_cleaner.state.floatbank3_a_level  \\\n",
       "0                                     -495.26   \n",
       "1                                     -500.09   \n",
       "2                                     -499.44   \n",
       "3                                     -500.01   \n",
       "4                                     -500.08   \n",
       "\n",
       "   secondary_cleaner.state.floatbank3_b_air  \\\n",
       "0                                     21.94   \n",
       "1                                     22.09   \n",
       "2                                     23.96   \n",
       "3                                     23.95   \n",
       "4                                     23.96   \n",
       "\n",
       "   secondary_cleaner.state.floatbank3_b_level  \\\n",
       "0                                     -499.34   \n",
       "1                                     -499.45   \n",
       "2                                     -499.90   \n",
       "3                                     -499.94   \n",
       "4                                     -499.99   \n",
       "\n",
       "   secondary_cleaner.state.floatbank4_a_air  \\\n",
       "0                                     14.02   \n",
       "1                                     13.99   \n",
       "2                                     14.02   \n",
       "3                                     14.04   \n",
       "4                                     14.03   \n",
       "\n",
       "   secondary_cleaner.state.floatbank4_a_level  \\\n",
       "0                                     -502.49   \n",
       "1                                     -505.50   \n",
       "2                                     -502.52   \n",
       "3                                     -500.86   \n",
       "4                                     -499.84   \n",
       "\n",
       "   secondary_cleaner.state.floatbank4_b_air  \\\n",
       "0                                     12.10   \n",
       "1                                     11.95   \n",
       "2                                     11.91   \n",
       "3                                     12.00   \n",
       "4                                     11.95   \n",
       "\n",
       "   secondary_cleaner.state.floatbank4_b_level  \\\n",
       "0                                     -504.72   \n",
       "1                                     -501.33   \n",
       "2                                     -501.13   \n",
       "3                                     -501.19   \n",
       "4                                     -501.05   \n",
       "\n",
       "   secondary_cleaner.state.floatbank5_a_air  \\\n",
       "0                                      9.93   \n",
       "1                                     10.04   \n",
       "2                                     10.07   \n",
       "3                                      9.97   \n",
       "4                                      9.93   \n",
       "\n",
       "   secondary_cleaner.state.floatbank5_a_level  \\\n",
       "0                                     -498.31   \n",
       "1                                     -500.17   \n",
       "2                                     -500.13   \n",
       "3                                     -499.20   \n",
       "4                                     -501.69   \n",
       "\n",
       "   secondary_cleaner.state.floatbank5_b_air  \\\n",
       "0                                      8.08   \n",
       "1                                      7.98   \n",
       "2                                      8.01   \n",
       "3                                      7.98   \n",
       "4                                      7.89   \n",
       "\n",
       "   secondary_cleaner.state.floatbank5_b_level  \\\n",
       "0                                     -500.47   \n",
       "1                                     -500.58   \n",
       "2                                     -500.52   \n",
       "3                                     -500.26   \n",
       "4                                     -500.36   \n",
       "\n",
       "   secondary_cleaner.state.floatbank6_a_air  \\\n",
       "0                                     14.15   \n",
       "1                                     14.00   \n",
       "2                                     14.03   \n",
       "3                                     14.01   \n",
       "4                                     14.00   \n",
       "\n",
       "   secondary_cleaner.state.floatbank6_a_level  \n",
       "0                                     -605.84  \n",
       "1                                     -599.79  \n",
       "2                                     -601.43  \n",
       "3                                     -600.00  \n",
       "4                                     -601.50  "
      ]
     },
     "execution_count": 2,
     "metadata": {},
     "output_type": "execute_result"
    }
   ],
   "source": [
    "# откроем файл с исходными данными и запишем в переменную data\n",
    "try:\n",
    "    data = pd.read_csv('/datasets/gold_recovery_full_new.csv')\n",
    "except:\n",
    "    data = pd.read_csv('https://code.s3.yandex.net//datasets/gold_recovery_full_new.csv')\n",
    "data.head()"
   ]
  },
  {
   "cell_type": "code",
   "execution_count": 3,
   "metadata": {},
   "outputs": [
    {
     "name": "stdout",
     "output_type": "stream",
     "text": [
      "<class 'pandas.core.frame.DataFrame'>\n",
      "RangeIndex: 19439 entries, 0 to 19438\n",
      "Data columns (total 87 columns):\n",
      " #   Column                                              Non-Null Count  Dtype  \n",
      "---  ------                                              --------------  -----  \n",
      " 0   date                                                19439 non-null  object \n",
      " 1   final.output.concentrate_ag                         19438 non-null  float64\n",
      " 2   final.output.concentrate_pb                         19438 non-null  float64\n",
      " 3   final.output.concentrate_sol                        19228 non-null  float64\n",
      " 4   final.output.concentrate_au                         19439 non-null  float64\n",
      " 5   final.output.recovery                               19439 non-null  float64\n",
      " 6   final.output.tail_ag                                19438 non-null  float64\n",
      " 7   final.output.tail_pb                                19338 non-null  float64\n",
      " 8   final.output.tail_sol                               19433 non-null  float64\n",
      " 9   final.output.tail_au                                19439 non-null  float64\n",
      " 10  primary_cleaner.input.sulfate                       19415 non-null  float64\n",
      " 11  primary_cleaner.input.depressant                    19402 non-null  float64\n",
      " 12  primary_cleaner.input.feed_size                     19439 non-null  float64\n",
      " 13  primary_cleaner.input.xanthate                      19335 non-null  float64\n",
      " 14  primary_cleaner.output.concentrate_ag               19439 non-null  float64\n",
      " 15  primary_cleaner.output.concentrate_pb               19323 non-null  float64\n",
      " 16  primary_cleaner.output.concentrate_sol              19069 non-null  float64\n",
      " 17  primary_cleaner.output.concentrate_au               19439 non-null  float64\n",
      " 18  primary_cleaner.output.tail_ag                      19435 non-null  float64\n",
      " 19  primary_cleaner.output.tail_pb                      19418 non-null  float64\n",
      " 20  primary_cleaner.output.tail_sol                     19377 non-null  float64\n",
      " 21  primary_cleaner.output.tail_au                      19439 non-null  float64\n",
      " 22  primary_cleaner.state.floatbank8_a_air              19435 non-null  float64\n",
      " 23  primary_cleaner.state.floatbank8_a_level            19438 non-null  float64\n",
      " 24  primary_cleaner.state.floatbank8_b_air              19435 non-null  float64\n",
      " 25  primary_cleaner.state.floatbank8_b_level            19438 non-null  float64\n",
      " 26  primary_cleaner.state.floatbank8_c_air              19437 non-null  float64\n",
      " 27  primary_cleaner.state.floatbank8_c_level            19438 non-null  float64\n",
      " 28  primary_cleaner.state.floatbank8_d_air              19436 non-null  float64\n",
      " 29  primary_cleaner.state.floatbank8_d_level            19438 non-null  float64\n",
      " 30  rougher.calculation.sulfate_to_au_concentrate       19437 non-null  float64\n",
      " 31  rougher.calculation.floatbank10_sulfate_to_au_feed  19437 non-null  float64\n",
      " 32  rougher.calculation.floatbank11_sulfate_to_au_feed  19437 non-null  float64\n",
      " 33  rougher.calculation.au_pb_ratio                     19439 non-null  float64\n",
      " 34  rougher.input.feed_ag                               19439 non-null  float64\n",
      " 35  rougher.input.feed_pb                               19339 non-null  float64\n",
      " 36  rougher.input.feed_rate                             19428 non-null  float64\n",
      " 37  rougher.input.feed_size                             19294 non-null  float64\n",
      " 38  rougher.input.feed_sol                              19340 non-null  float64\n",
      " 39  rougher.input.feed_au                               19439 non-null  float64\n",
      " 40  rougher.input.floatbank10_sulfate                   19405 non-null  float64\n",
      " 41  rougher.input.floatbank10_xanthate                  19431 non-null  float64\n",
      " 42  rougher.input.floatbank11_sulfate                   19395 non-null  float64\n",
      " 43  rougher.input.floatbank11_xanthate                  18986 non-null  float64\n",
      " 44  rougher.output.concentrate_ag                       19439 non-null  float64\n",
      " 45  rougher.output.concentrate_pb                       19439 non-null  float64\n",
      " 46  rougher.output.concentrate_sol                      19416 non-null  float64\n",
      " 47  rougher.output.concentrate_au                       19439 non-null  float64\n",
      " 48  rougher.output.recovery                             19439 non-null  float64\n",
      " 49  rougher.output.tail_ag                              19438 non-null  float64\n",
      " 50  rougher.output.tail_pb                              19439 non-null  float64\n",
      " 51  rougher.output.tail_sol                             19439 non-null  float64\n",
      " 52  rougher.output.tail_au                              19439 non-null  float64\n",
      " 53  rougher.state.floatbank10_a_air                     19438 non-null  float64\n",
      " 54  rougher.state.floatbank10_a_level                   19438 non-null  float64\n",
      " 55  rougher.state.floatbank10_b_air                     19438 non-null  float64\n",
      " 56  rougher.state.floatbank10_b_level                   19438 non-null  float64\n",
      " 57  rougher.state.floatbank10_c_air                     19438 non-null  float64\n",
      " 58  rougher.state.floatbank10_c_level                   19438 non-null  float64\n",
      " 59  rougher.state.floatbank10_d_air                     19439 non-null  float64\n",
      " 60  rougher.state.floatbank10_d_level                   19439 non-null  float64\n",
      " 61  rougher.state.floatbank10_e_air                     19003 non-null  float64\n",
      " 62  rougher.state.floatbank10_e_level                   19439 non-null  float64\n",
      " 63  rougher.state.floatbank10_f_air                     19439 non-null  float64\n",
      " 64  rougher.state.floatbank10_f_level                   19439 non-null  float64\n",
      " 65  secondary_cleaner.output.tail_ag                    19437 non-null  float64\n",
      " 66  secondary_cleaner.output.tail_pb                    19427 non-null  float64\n",
      " 67  secondary_cleaner.output.tail_sol                   17691 non-null  float64\n",
      " 68  secondary_cleaner.output.tail_au                    19439 non-null  float64\n",
      " 69  secondary_cleaner.state.floatbank2_a_air            19219 non-null  float64\n",
      " 70  secondary_cleaner.state.floatbank2_a_level          19438 non-null  float64\n",
      " 71  secondary_cleaner.state.floatbank2_b_air            19416 non-null  float64\n",
      " 72  secondary_cleaner.state.floatbank2_b_level          19438 non-null  float64\n",
      " 73  secondary_cleaner.state.floatbank3_a_air            19426 non-null  float64\n",
      " 74  secondary_cleaner.state.floatbank3_a_level          19438 non-null  float64\n",
      " 75  secondary_cleaner.state.floatbank3_b_air            19438 non-null  float64\n",
      " 76  secondary_cleaner.state.floatbank3_b_level          19438 non-null  float64\n",
      " 77  secondary_cleaner.state.floatbank4_a_air            19433 non-null  float64\n",
      " 78  secondary_cleaner.state.floatbank4_a_level          19438 non-null  float64\n",
      " 79  secondary_cleaner.state.floatbank4_b_air            19438 non-null  float64\n",
      " 80  secondary_cleaner.state.floatbank4_b_level          19438 non-null  float64\n",
      " 81  secondary_cleaner.state.floatbank5_a_air            19438 non-null  float64\n",
      " 82  secondary_cleaner.state.floatbank5_a_level          19438 non-null  float64\n",
      " 83  secondary_cleaner.state.floatbank5_b_air            19438 non-null  float64\n",
      " 84  secondary_cleaner.state.floatbank5_b_level          19438 non-null  float64\n",
      " 85  secondary_cleaner.state.floatbank6_a_air            19437 non-null  float64\n",
      " 86  secondary_cleaner.state.floatbank6_a_level          19438 non-null  float64\n",
      "dtypes: float64(86), object(1)\n",
      "memory usage: 12.9+ MB\n"
     ]
    }
   ],
   "source": [
    "# выведем общую информацию \n",
    "data.info()"
   ]
  },
  {
   "cell_type": "code",
   "execution_count": 4,
   "metadata": {},
   "outputs": [
    {
     "data": {
      "text/html": [
       "<div>\n",
       "<style scoped>\n",
       "    .dataframe tbody tr th:only-of-type {\n",
       "        vertical-align: middle;\n",
       "    }\n",
       "\n",
       "    .dataframe tbody tr th {\n",
       "        vertical-align: top;\n",
       "    }\n",
       "\n",
       "    .dataframe thead th {\n",
       "        text-align: right;\n",
       "    }\n",
       "</style>\n",
       "<table border=\"1\" class=\"dataframe\">\n",
       "  <thead>\n",
       "    <tr style=\"text-align: right;\">\n",
       "      <th></th>\n",
       "      <th>date</th>\n",
       "      <th>final.output.concentrate_ag</th>\n",
       "      <th>final.output.concentrate_pb</th>\n",
       "      <th>final.output.concentrate_sol</th>\n",
       "      <th>final.output.concentrate_au</th>\n",
       "      <th>final.output.recovery</th>\n",
       "      <th>final.output.tail_ag</th>\n",
       "      <th>final.output.tail_pb</th>\n",
       "      <th>final.output.tail_sol</th>\n",
       "      <th>final.output.tail_au</th>\n",
       "      <th>primary_cleaner.input.sulfate</th>\n",
       "      <th>primary_cleaner.input.depressant</th>\n",
       "      <th>primary_cleaner.input.feed_size</th>\n",
       "      <th>primary_cleaner.input.xanthate</th>\n",
       "      <th>primary_cleaner.output.concentrate_ag</th>\n",
       "      <th>primary_cleaner.output.concentrate_pb</th>\n",
       "      <th>primary_cleaner.output.concentrate_sol</th>\n",
       "      <th>primary_cleaner.output.concentrate_au</th>\n",
       "      <th>primary_cleaner.output.tail_ag</th>\n",
       "      <th>primary_cleaner.output.tail_pb</th>\n",
       "      <th>primary_cleaner.output.tail_sol</th>\n",
       "      <th>primary_cleaner.output.tail_au</th>\n",
       "      <th>primary_cleaner.state.floatbank8_a_air</th>\n",
       "      <th>primary_cleaner.state.floatbank8_a_level</th>\n",
       "      <th>primary_cleaner.state.floatbank8_b_air</th>\n",
       "      <th>primary_cleaner.state.floatbank8_b_level</th>\n",
       "      <th>primary_cleaner.state.floatbank8_c_air</th>\n",
       "      <th>primary_cleaner.state.floatbank8_c_level</th>\n",
       "      <th>primary_cleaner.state.floatbank8_d_air</th>\n",
       "      <th>primary_cleaner.state.floatbank8_d_level</th>\n",
       "      <th>rougher.calculation.sulfate_to_au_concentrate</th>\n",
       "      <th>rougher.calculation.floatbank10_sulfate_to_au_feed</th>\n",
       "      <th>rougher.calculation.floatbank11_sulfate_to_au_feed</th>\n",
       "      <th>rougher.calculation.au_pb_ratio</th>\n",
       "      <th>rougher.input.feed_ag</th>\n",
       "      <th>rougher.input.feed_pb</th>\n",
       "      <th>rougher.input.feed_rate</th>\n",
       "      <th>rougher.input.feed_size</th>\n",
       "      <th>rougher.input.feed_sol</th>\n",
       "      <th>rougher.input.feed_au</th>\n",
       "      <th>rougher.input.floatbank10_sulfate</th>\n",
       "      <th>rougher.input.floatbank10_xanthate</th>\n",
       "      <th>rougher.input.floatbank11_sulfate</th>\n",
       "      <th>rougher.input.floatbank11_xanthate</th>\n",
       "      <th>rougher.output.concentrate_ag</th>\n",
       "      <th>rougher.output.concentrate_pb</th>\n",
       "      <th>rougher.output.concentrate_sol</th>\n",
       "      <th>rougher.output.concentrate_au</th>\n",
       "      <th>rougher.output.recovery</th>\n",
       "      <th>rougher.output.tail_ag</th>\n",
       "      <th>rougher.output.tail_pb</th>\n",
       "      <th>rougher.output.tail_sol</th>\n",
       "      <th>rougher.output.tail_au</th>\n",
       "      <th>rougher.state.floatbank10_a_air</th>\n",
       "      <th>rougher.state.floatbank10_a_level</th>\n",
       "      <th>rougher.state.floatbank10_b_air</th>\n",
       "      <th>rougher.state.floatbank10_b_level</th>\n",
       "      <th>rougher.state.floatbank10_c_air</th>\n",
       "      <th>rougher.state.floatbank10_c_level</th>\n",
       "      <th>rougher.state.floatbank10_d_air</th>\n",
       "      <th>rougher.state.floatbank10_d_level</th>\n",
       "      <th>rougher.state.floatbank10_e_air</th>\n",
       "      <th>rougher.state.floatbank10_e_level</th>\n",
       "      <th>rougher.state.floatbank10_f_air</th>\n",
       "      <th>rougher.state.floatbank10_f_level</th>\n",
       "      <th>secondary_cleaner.output.tail_ag</th>\n",
       "      <th>secondary_cleaner.output.tail_pb</th>\n",
       "      <th>secondary_cleaner.output.tail_sol</th>\n",
       "      <th>secondary_cleaner.output.tail_au</th>\n",
       "      <th>secondary_cleaner.state.floatbank2_a_air</th>\n",
       "      <th>secondary_cleaner.state.floatbank2_a_level</th>\n",
       "      <th>secondary_cleaner.state.floatbank2_b_air</th>\n",
       "      <th>secondary_cleaner.state.floatbank2_b_level</th>\n",
       "      <th>secondary_cleaner.state.floatbank3_a_air</th>\n",
       "      <th>secondary_cleaner.state.floatbank3_a_level</th>\n",
       "      <th>secondary_cleaner.state.floatbank3_b_air</th>\n",
       "      <th>secondary_cleaner.state.floatbank3_b_level</th>\n",
       "      <th>secondary_cleaner.state.floatbank4_a_air</th>\n",
       "      <th>secondary_cleaner.state.floatbank4_a_level</th>\n",
       "      <th>secondary_cleaner.state.floatbank4_b_air</th>\n",
       "      <th>secondary_cleaner.state.floatbank4_b_level</th>\n",
       "      <th>secondary_cleaner.state.floatbank5_a_air</th>\n",
       "      <th>secondary_cleaner.state.floatbank5_a_level</th>\n",
       "      <th>secondary_cleaner.state.floatbank5_b_air</th>\n",
       "      <th>secondary_cleaner.state.floatbank5_b_level</th>\n",
       "      <th>secondary_cleaner.state.floatbank6_a_air</th>\n",
       "      <th>secondary_cleaner.state.floatbank6_a_level</th>\n",
       "    </tr>\n",
       "  </thead>\n",
       "  <tbody>\n",
       "    <tr>\n",
       "      <th>0</th>\n",
       "      <td>2016-01-15 00:00:00</td>\n",
       "      <td>6.06</td>\n",
       "      <td>9.89</td>\n",
       "      <td>5.51</td>\n",
       "      <td>42.19</td>\n",
       "      <td>70.54</td>\n",
       "      <td>10.41</td>\n",
       "      <td>0.90</td>\n",
       "      <td>16.90</td>\n",
       "      <td>2.14</td>\n",
       "      <td>127.09</td>\n",
       "      <td>10.13</td>\n",
       "      <td>7.25</td>\n",
       "      <td>0.99</td>\n",
       "      <td>8.55</td>\n",
       "      <td>10.39</td>\n",
       "      <td>19.53</td>\n",
       "      <td>34.17</td>\n",
       "      <td>14.94</td>\n",
       "      <td>2.53</td>\n",
       "      <td>7.48</td>\n",
       "      <td>2.11</td>\n",
       "      <td>1,549.78</td>\n",
       "      <td>-498.91</td>\n",
       "      <td>1,551.43</td>\n",
       "      <td>-516.40</td>\n",
       "      <td>1,549.87</td>\n",
       "      <td>-498.67</td>\n",
       "      <td>1,554.37</td>\n",
       "      <td>-493.43</td>\n",
       "      <td>41,885.71</td>\n",
       "      <td>3,481.78</td>\n",
       "      <td>3,520.34</td>\n",
       "      <td>2.84</td>\n",
       "      <td>6.10</td>\n",
       "      <td>2.28</td>\n",
       "      <td>523.55</td>\n",
       "      <td>55.49</td>\n",
       "      <td>36.81</td>\n",
       "      <td>6.49</td>\n",
       "      <td>11.99</td>\n",
       "      <td>6.01</td>\n",
       "      <td>11.84</td>\n",
       "      <td>6.01</td>\n",
       "      <td>11.50</td>\n",
       "      <td>7.10</td>\n",
       "      <td>28.03</td>\n",
       "      <td>19.79</td>\n",
       "      <td>87.11</td>\n",
       "      <td>5.01</td>\n",
       "      <td>0.51</td>\n",
       "      <td>19.15</td>\n",
       "      <td>1.17</td>\n",
       "      <td>999.71</td>\n",
       "      <td>-404.07</td>\n",
       "      <td>1,603.01</td>\n",
       "      <td>-434.72</td>\n",
       "      <td>1,602.38</td>\n",
       "      <td>-442.20</td>\n",
       "      <td>1,598.94</td>\n",
       "      <td>-451.29</td>\n",
       "      <td>1,404.47</td>\n",
       "      <td>-455.46</td>\n",
       "      <td>1,416.35</td>\n",
       "      <td>-451.94</td>\n",
       "      <td>14.50</td>\n",
       "      <td>4.69</td>\n",
       "      <td>8.76</td>\n",
       "      <td>2.61</td>\n",
       "      <td>25.85</td>\n",
       "      <td>-498.53</td>\n",
       "      <td>23.89</td>\n",
       "      <td>-501.41</td>\n",
       "      <td>23.96</td>\n",
       "      <td>-495.26</td>\n",
       "      <td>21.94</td>\n",
       "      <td>-499.34</td>\n",
       "      <td>14.02</td>\n",
       "      <td>-502.49</td>\n",
       "      <td>12.10</td>\n",
       "      <td>-504.72</td>\n",
       "      <td>9.93</td>\n",
       "      <td>-498.31</td>\n",
       "      <td>8.08</td>\n",
       "      <td>-500.47</td>\n",
       "      <td>14.15</td>\n",
       "      <td>-605.84</td>\n",
       "    </tr>\n",
       "    <tr>\n",
       "      <th>1</th>\n",
       "      <td>2016-01-15 01:00:00</td>\n",
       "      <td>6.03</td>\n",
       "      <td>9.97</td>\n",
       "      <td>5.26</td>\n",
       "      <td>42.70</td>\n",
       "      <td>69.27</td>\n",
       "      <td>10.46</td>\n",
       "      <td>0.93</td>\n",
       "      <td>16.63</td>\n",
       "      <td>2.22</td>\n",
       "      <td>125.63</td>\n",
       "      <td>10.30</td>\n",
       "      <td>7.25</td>\n",
       "      <td>1.00</td>\n",
       "      <td>8.56</td>\n",
       "      <td>10.50</td>\n",
       "      <td>19.37</td>\n",
       "      <td>34.12</td>\n",
       "      <td>16.25</td>\n",
       "      <td>3.05</td>\n",
       "      <td>6.73</td>\n",
       "      <td>2.35</td>\n",
       "      <td>1,576.17</td>\n",
       "      <td>-500.90</td>\n",
       "      <td>1,575.95</td>\n",
       "      <td>-499.87</td>\n",
       "      <td>1,575.99</td>\n",
       "      <td>-499.32</td>\n",
       "      <td>1,574.48</td>\n",
       "      <td>-498.93</td>\n",
       "      <td>42,050.86</td>\n",
       "      <td>3,498.37</td>\n",
       "      <td>3,489.98</td>\n",
       "      <td>2.86</td>\n",
       "      <td>6.16</td>\n",
       "      <td>2.27</td>\n",
       "      <td>525.29</td>\n",
       "      <td>57.28</td>\n",
       "      <td>35.75</td>\n",
       "      <td>6.48</td>\n",
       "      <td>11.97</td>\n",
       "      <td>6.01</td>\n",
       "      <td>12.00</td>\n",
       "      <td>6.01</td>\n",
       "      <td>11.62</td>\n",
       "      <td>7.28</td>\n",
       "      <td>28.07</td>\n",
       "      <td>20.05</td>\n",
       "      <td>86.84</td>\n",
       "      <td>4.96</td>\n",
       "      <td>0.54</td>\n",
       "      <td>18.97</td>\n",
       "      <td>1.18</td>\n",
       "      <td>1,000.29</td>\n",
       "      <td>-400.07</td>\n",
       "      <td>1,600.75</td>\n",
       "      <td>-449.95</td>\n",
       "      <td>1,600.48</td>\n",
       "      <td>-449.83</td>\n",
       "      <td>1,600.53</td>\n",
       "      <td>-449.95</td>\n",
       "      <td>1,399.23</td>\n",
       "      <td>-450.87</td>\n",
       "      <td>1,399.72</td>\n",
       "      <td>-450.12</td>\n",
       "      <td>14.27</td>\n",
       "      <td>4.59</td>\n",
       "      <td>9.00</td>\n",
       "      <td>2.49</td>\n",
       "      <td>25.88</td>\n",
       "      <td>-499.99</td>\n",
       "      <td>23.89</td>\n",
       "      <td>-500.37</td>\n",
       "      <td>23.97</td>\n",
       "      <td>-500.09</td>\n",
       "      <td>22.09</td>\n",
       "      <td>-499.45</td>\n",
       "      <td>13.99</td>\n",
       "      <td>-505.50</td>\n",
       "      <td>11.95</td>\n",
       "      <td>-501.33</td>\n",
       "      <td>10.04</td>\n",
       "      <td>-500.17</td>\n",
       "      <td>7.98</td>\n",
       "      <td>-500.58</td>\n",
       "      <td>14.00</td>\n",
       "      <td>-599.79</td>\n",
       "    </tr>\n",
       "    <tr>\n",
       "      <th>2</th>\n",
       "      <td>2016-01-15 02:00:00</td>\n",
       "      <td>6.06</td>\n",
       "      <td>10.21</td>\n",
       "      <td>5.38</td>\n",
       "      <td>42.66</td>\n",
       "      <td>68.12</td>\n",
       "      <td>10.51</td>\n",
       "      <td>0.95</td>\n",
       "      <td>16.21</td>\n",
       "      <td>2.26</td>\n",
       "      <td>123.82</td>\n",
       "      <td>11.32</td>\n",
       "      <td>7.25</td>\n",
       "      <td>0.99</td>\n",
       "      <td>8.60</td>\n",
       "      <td>10.35</td>\n",
       "      <td>19.17</td>\n",
       "      <td>33.97</td>\n",
       "      <td>16.49</td>\n",
       "      <td>3.12</td>\n",
       "      <td>6.47</td>\n",
       "      <td>2.42</td>\n",
       "      <td>1,601.56</td>\n",
       "      <td>-500.00</td>\n",
       "      <td>1,600.39</td>\n",
       "      <td>-500.61</td>\n",
       "      <td>1,602.00</td>\n",
       "      <td>-500.87</td>\n",
       "      <td>1,599.54</td>\n",
       "      <td>-499.83</td>\n",
       "      <td>42,018.10</td>\n",
       "      <td>3,495.35</td>\n",
       "      <td>3,502.36</td>\n",
       "      <td>2.95</td>\n",
       "      <td>6.12</td>\n",
       "      <td>2.16</td>\n",
       "      <td>530.03</td>\n",
       "      <td>57.51</td>\n",
       "      <td>35.97</td>\n",
       "      <td>6.36</td>\n",
       "      <td>11.92</td>\n",
       "      <td>6.20</td>\n",
       "      <td>11.92</td>\n",
       "      <td>6.20</td>\n",
       "      <td>11.70</td>\n",
       "      <td>7.22</td>\n",
       "      <td>27.45</td>\n",
       "      <td>19.74</td>\n",
       "      <td>86.84</td>\n",
       "      <td>4.84</td>\n",
       "      <td>0.55</td>\n",
       "      <td>18.81</td>\n",
       "      <td>1.16</td>\n",
       "      <td>999.72</td>\n",
       "      <td>-400.07</td>\n",
       "      <td>1,599.34</td>\n",
       "      <td>-450.01</td>\n",
       "      <td>1,599.67</td>\n",
       "      <td>-449.95</td>\n",
       "      <td>1,599.85</td>\n",
       "      <td>-449.95</td>\n",
       "      <td>1,399.18</td>\n",
       "      <td>-449.94</td>\n",
       "      <td>1,400.32</td>\n",
       "      <td>-450.53</td>\n",
       "      <td>14.12</td>\n",
       "      <td>4.62</td>\n",
       "      <td>8.84</td>\n",
       "      <td>2.46</td>\n",
       "      <td>26.01</td>\n",
       "      <td>-499.93</td>\n",
       "      <td>23.89</td>\n",
       "      <td>-499.95</td>\n",
       "      <td>23.91</td>\n",
       "      <td>-499.44</td>\n",
       "      <td>23.96</td>\n",
       "      <td>-499.90</td>\n",
       "      <td>14.02</td>\n",
       "      <td>-502.52</td>\n",
       "      <td>11.91</td>\n",
       "      <td>-501.13</td>\n",
       "      <td>10.07</td>\n",
       "      <td>-500.13</td>\n",
       "      <td>8.01</td>\n",
       "      <td>-500.52</td>\n",
       "      <td>14.03</td>\n",
       "      <td>-601.43</td>\n",
       "    </tr>\n",
       "    <tr>\n",
       "      <th>3</th>\n",
       "      <td>2016-01-15 03:00:00</td>\n",
       "      <td>6.05</td>\n",
       "      <td>9.98</td>\n",
       "      <td>4.86</td>\n",
       "      <td>42.69</td>\n",
       "      <td>68.35</td>\n",
       "      <td>10.42</td>\n",
       "      <td>0.88</td>\n",
       "      <td>16.53</td>\n",
       "      <td>2.15</td>\n",
       "      <td>122.27</td>\n",
       "      <td>11.32</td>\n",
       "      <td>7.25</td>\n",
       "      <td>1.00</td>\n",
       "      <td>7.22</td>\n",
       "      <td>8.50</td>\n",
       "      <td>15.98</td>\n",
       "      <td>28.26</td>\n",
       "      <td>16.02</td>\n",
       "      <td>2.96</td>\n",
       "      <td>6.84</td>\n",
       "      <td>2.26</td>\n",
       "      <td>1,599.97</td>\n",
       "      <td>-500.95</td>\n",
       "      <td>1,600.66</td>\n",
       "      <td>-499.68</td>\n",
       "      <td>1,600.30</td>\n",
       "      <td>-500.73</td>\n",
       "      <td>1,600.45</td>\n",
       "      <td>-500.05</td>\n",
       "      <td>42,029.45</td>\n",
       "      <td>3,498.58</td>\n",
       "      <td>3,499.16</td>\n",
       "      <td>3.00</td>\n",
       "      <td>6.04</td>\n",
       "      <td>2.04</td>\n",
       "      <td>542.59</td>\n",
       "      <td>57.79</td>\n",
       "      <td>36.86</td>\n",
       "      <td>6.12</td>\n",
       "      <td>11.63</td>\n",
       "      <td>6.20</td>\n",
       "      <td>11.69</td>\n",
       "      <td>6.20</td>\n",
       "      <td>11.92</td>\n",
       "      <td>7.18</td>\n",
       "      <td>27.34</td>\n",
       "      <td>19.32</td>\n",
       "      <td>87.23</td>\n",
       "      <td>4.66</td>\n",
       "      <td>0.54</td>\n",
       "      <td>19.33</td>\n",
       "      <td>1.08</td>\n",
       "      <td>999.81</td>\n",
       "      <td>-400.20</td>\n",
       "      <td>1,600.06</td>\n",
       "      <td>-450.62</td>\n",
       "      <td>1,600.01</td>\n",
       "      <td>-449.91</td>\n",
       "      <td>1,597.73</td>\n",
       "      <td>-450.13</td>\n",
       "      <td>1,400.94</td>\n",
       "      <td>-450.03</td>\n",
       "      <td>1,400.23</td>\n",
       "      <td>-449.79</td>\n",
       "      <td>13.73</td>\n",
       "      <td>4.48</td>\n",
       "      <td>9.12</td>\n",
       "      <td>2.32</td>\n",
       "      <td>25.94</td>\n",
       "      <td>-499.18</td>\n",
       "      <td>23.96</td>\n",
       "      <td>-499.85</td>\n",
       "      <td>23.97</td>\n",
       "      <td>-500.01</td>\n",
       "      <td>23.95</td>\n",
       "      <td>-499.94</td>\n",
       "      <td>14.04</td>\n",
       "      <td>-500.86</td>\n",
       "      <td>12.00</td>\n",
       "      <td>-501.19</td>\n",
       "      <td>9.97</td>\n",
       "      <td>-499.20</td>\n",
       "      <td>7.98</td>\n",
       "      <td>-500.26</td>\n",
       "      <td>14.01</td>\n",
       "      <td>-600.00</td>\n",
       "    </tr>\n",
       "    <tr>\n",
       "      <th>4</th>\n",
       "      <td>2016-01-15 04:00:00</td>\n",
       "      <td>6.15</td>\n",
       "      <td>10.14</td>\n",
       "      <td>4.94</td>\n",
       "      <td>42.77</td>\n",
       "      <td>66.93</td>\n",
       "      <td>10.36</td>\n",
       "      <td>0.79</td>\n",
       "      <td>16.53</td>\n",
       "      <td>2.06</td>\n",
       "      <td>117.99</td>\n",
       "      <td>11.91</td>\n",
       "      <td>7.25</td>\n",
       "      <td>1.01</td>\n",
       "      <td>9.09</td>\n",
       "      <td>9.99</td>\n",
       "      <td>19.20</td>\n",
       "      <td>33.04</td>\n",
       "      <td>16.48</td>\n",
       "      <td>3.11</td>\n",
       "      <td>6.55</td>\n",
       "      <td>2.28</td>\n",
       "      <td>1,601.34</td>\n",
       "      <td>-498.98</td>\n",
       "      <td>1,601.44</td>\n",
       "      <td>-500.32</td>\n",
       "      <td>1,599.58</td>\n",
       "      <td>-500.89</td>\n",
       "      <td>1,602.65</td>\n",
       "      <td>-500.59</td>\n",
       "      <td>42,125.35</td>\n",
       "      <td>3,494.80</td>\n",
       "      <td>3,506.68</td>\n",
       "      <td>3.17</td>\n",
       "      <td>6.06</td>\n",
       "      <td>1.79</td>\n",
       "      <td>540.53</td>\n",
       "      <td>56.05</td>\n",
       "      <td>34.35</td>\n",
       "      <td>5.66</td>\n",
       "      <td>10.96</td>\n",
       "      <td>6.20</td>\n",
       "      <td>10.96</td>\n",
       "      <td>6.19</td>\n",
       "      <td>12.41</td>\n",
       "      <td>7.24</td>\n",
       "      <td>27.04</td>\n",
       "      <td>19.22</td>\n",
       "      <td>86.69</td>\n",
       "      <td>4.55</td>\n",
       "      <td>0.52</td>\n",
       "      <td>19.27</td>\n",
       "      <td>1.01</td>\n",
       "      <td>999.68</td>\n",
       "      <td>-399.75</td>\n",
       "      <td>1,600.21</td>\n",
       "      <td>-449.60</td>\n",
       "      <td>1,600.36</td>\n",
       "      <td>-450.03</td>\n",
       "      <td>1,599.76</td>\n",
       "      <td>-449.91</td>\n",
       "      <td>1,401.56</td>\n",
       "      <td>-448.88</td>\n",
       "      <td>1,401.16</td>\n",
       "      <td>-450.41</td>\n",
       "      <td>14.08</td>\n",
       "      <td>4.47</td>\n",
       "      <td>8.87</td>\n",
       "      <td>2.33</td>\n",
       "      <td>26.02</td>\n",
       "      <td>-500.28</td>\n",
       "      <td>23.96</td>\n",
       "      <td>-500.59</td>\n",
       "      <td>23.99</td>\n",
       "      <td>-500.08</td>\n",
       "      <td>23.96</td>\n",
       "      <td>-499.99</td>\n",
       "      <td>14.03</td>\n",
       "      <td>-499.84</td>\n",
       "      <td>11.95</td>\n",
       "      <td>-501.05</td>\n",
       "      <td>9.93</td>\n",
       "      <td>-501.69</td>\n",
       "      <td>7.89</td>\n",
       "      <td>-500.36</td>\n",
       "      <td>14.00</td>\n",
       "      <td>-601.50</td>\n",
       "    </tr>\n",
       "  </tbody>\n",
       "</table>\n",
       "</div>"
      ],
      "text/plain": [
       "                  date  final.output.concentrate_ag  \\\n",
       "0  2016-01-15 00:00:00                         6.06   \n",
       "1  2016-01-15 01:00:00                         6.03   \n",
       "2  2016-01-15 02:00:00                         6.06   \n",
       "3  2016-01-15 03:00:00                         6.05   \n",
       "4  2016-01-15 04:00:00                         6.15   \n",
       "\n",
       "   final.output.concentrate_pb  final.output.concentrate_sol  \\\n",
       "0                         9.89                          5.51   \n",
       "1                         9.97                          5.26   \n",
       "2                        10.21                          5.38   \n",
       "3                         9.98                          4.86   \n",
       "4                        10.14                          4.94   \n",
       "\n",
       "   final.output.concentrate_au  final.output.recovery  final.output.tail_ag  \\\n",
       "0                        42.19                  70.54                 10.41   \n",
       "1                        42.70                  69.27                 10.46   \n",
       "2                        42.66                  68.12                 10.51   \n",
       "3                        42.69                  68.35                 10.42   \n",
       "4                        42.77                  66.93                 10.36   \n",
       "\n",
       "   final.output.tail_pb  final.output.tail_sol  final.output.tail_au  \\\n",
       "0                  0.90                  16.90                  2.14   \n",
       "1                  0.93                  16.63                  2.22   \n",
       "2                  0.95                  16.21                  2.26   \n",
       "3                  0.88                  16.53                  2.15   \n",
       "4                  0.79                  16.53                  2.06   \n",
       "\n",
       "   primary_cleaner.input.sulfate  primary_cleaner.input.depressant  \\\n",
       "0                         127.09                             10.13   \n",
       "1                         125.63                             10.30   \n",
       "2                         123.82                             11.32   \n",
       "3                         122.27                             11.32   \n",
       "4                         117.99                             11.91   \n",
       "\n",
       "   primary_cleaner.input.feed_size  primary_cleaner.input.xanthate  \\\n",
       "0                             7.25                            0.99   \n",
       "1                             7.25                            1.00   \n",
       "2                             7.25                            0.99   \n",
       "3                             7.25                            1.00   \n",
       "4                             7.25                            1.01   \n",
       "\n",
       "   primary_cleaner.output.concentrate_ag  \\\n",
       "0                                   8.55   \n",
       "1                                   8.56   \n",
       "2                                   8.60   \n",
       "3                                   7.22   \n",
       "4                                   9.09   \n",
       "\n",
       "   primary_cleaner.output.concentrate_pb  \\\n",
       "0                                  10.39   \n",
       "1                                  10.50   \n",
       "2                                  10.35   \n",
       "3                                   8.50   \n",
       "4                                   9.99   \n",
       "\n",
       "   primary_cleaner.output.concentrate_sol  \\\n",
       "0                                   19.53   \n",
       "1                                   19.37   \n",
       "2                                   19.17   \n",
       "3                                   15.98   \n",
       "4                                   19.20   \n",
       "\n",
       "   primary_cleaner.output.concentrate_au  primary_cleaner.output.tail_ag  \\\n",
       "0                                  34.17                           14.94   \n",
       "1                                  34.12                           16.25   \n",
       "2                                  33.97                           16.49   \n",
       "3                                  28.26                           16.02   \n",
       "4                                  33.04                           16.48   \n",
       "\n",
       "   primary_cleaner.output.tail_pb  primary_cleaner.output.tail_sol  \\\n",
       "0                            2.53                             7.48   \n",
       "1                            3.05                             6.73   \n",
       "2                            3.12                             6.47   \n",
       "3                            2.96                             6.84   \n",
       "4                            3.11                             6.55   \n",
       "\n",
       "   primary_cleaner.output.tail_au  primary_cleaner.state.floatbank8_a_air  \\\n",
       "0                            2.11                                1,549.78   \n",
       "1                            2.35                                1,576.17   \n",
       "2                            2.42                                1,601.56   \n",
       "3                            2.26                                1,599.97   \n",
       "4                            2.28                                1,601.34   \n",
       "\n",
       "   primary_cleaner.state.floatbank8_a_level  \\\n",
       "0                                   -498.91   \n",
       "1                                   -500.90   \n",
       "2                                   -500.00   \n",
       "3                                   -500.95   \n",
       "4                                   -498.98   \n",
       "\n",
       "   primary_cleaner.state.floatbank8_b_air  \\\n",
       "0                                1,551.43   \n",
       "1                                1,575.95   \n",
       "2                                1,600.39   \n",
       "3                                1,600.66   \n",
       "4                                1,601.44   \n",
       "\n",
       "   primary_cleaner.state.floatbank8_b_level  \\\n",
       "0                                   -516.40   \n",
       "1                                   -499.87   \n",
       "2                                   -500.61   \n",
       "3                                   -499.68   \n",
       "4                                   -500.32   \n",
       "\n",
       "   primary_cleaner.state.floatbank8_c_air  \\\n",
       "0                                1,549.87   \n",
       "1                                1,575.99   \n",
       "2                                1,602.00   \n",
       "3                                1,600.30   \n",
       "4                                1,599.58   \n",
       "\n",
       "   primary_cleaner.state.floatbank8_c_level  \\\n",
       "0                                   -498.67   \n",
       "1                                   -499.32   \n",
       "2                                   -500.87   \n",
       "3                                   -500.73   \n",
       "4                                   -500.89   \n",
       "\n",
       "   primary_cleaner.state.floatbank8_d_air  \\\n",
       "0                                1,554.37   \n",
       "1                                1,574.48   \n",
       "2                                1,599.54   \n",
       "3                                1,600.45   \n",
       "4                                1,602.65   \n",
       "\n",
       "   primary_cleaner.state.floatbank8_d_level  \\\n",
       "0                                   -493.43   \n",
       "1                                   -498.93   \n",
       "2                                   -499.83   \n",
       "3                                   -500.05   \n",
       "4                                   -500.59   \n",
       "\n",
       "   rougher.calculation.sulfate_to_au_concentrate  \\\n",
       "0                                      41,885.71   \n",
       "1                                      42,050.86   \n",
       "2                                      42,018.10   \n",
       "3                                      42,029.45   \n",
       "4                                      42,125.35   \n",
       "\n",
       "   rougher.calculation.floatbank10_sulfate_to_au_feed  \\\n",
       "0                                           3,481.78    \n",
       "1                                           3,498.37    \n",
       "2                                           3,495.35    \n",
       "3                                           3,498.58    \n",
       "4                                           3,494.80    \n",
       "\n",
       "   rougher.calculation.floatbank11_sulfate_to_au_feed  \\\n",
       "0                                           3,520.34    \n",
       "1                                           3,489.98    \n",
       "2                                           3,502.36    \n",
       "3                                           3,499.16    \n",
       "4                                           3,506.68    \n",
       "\n",
       "   rougher.calculation.au_pb_ratio  rougher.input.feed_ag  \\\n",
       "0                             2.84                   6.10   \n",
       "1                             2.86                   6.16   \n",
       "2                             2.95                   6.12   \n",
       "3                             3.00                   6.04   \n",
       "4                             3.17                   6.06   \n",
       "\n",
       "   rougher.input.feed_pb  rougher.input.feed_rate  rougher.input.feed_size  \\\n",
       "0                   2.28                   523.55                    55.49   \n",
       "1                   2.27                   525.29                    57.28   \n",
       "2                   2.16                   530.03                    57.51   \n",
       "3                   2.04                   542.59                    57.79   \n",
       "4                   1.79                   540.53                    56.05   \n",
       "\n",
       "   rougher.input.feed_sol  rougher.input.feed_au  \\\n",
       "0                   36.81                   6.49   \n",
       "1                   35.75                   6.48   \n",
       "2                   35.97                   6.36   \n",
       "3                   36.86                   6.12   \n",
       "4                   34.35                   5.66   \n",
       "\n",
       "   rougher.input.floatbank10_sulfate  rougher.input.floatbank10_xanthate  \\\n",
       "0                              11.99                                6.01   \n",
       "1                              11.97                                6.01   \n",
       "2                              11.92                                6.20   \n",
       "3                              11.63                                6.20   \n",
       "4                              10.96                                6.20   \n",
       "\n",
       "   rougher.input.floatbank11_sulfate  rougher.input.floatbank11_xanthate  \\\n",
       "0                              11.84                                6.01   \n",
       "1                              12.00                                6.01   \n",
       "2                              11.92                                6.20   \n",
       "3                              11.69                                6.20   \n",
       "4                              10.96                                6.19   \n",
       "\n",
       "   rougher.output.concentrate_ag  rougher.output.concentrate_pb  \\\n",
       "0                          11.50                           7.10   \n",
       "1                          11.62                           7.28   \n",
       "2                          11.70                           7.22   \n",
       "3                          11.92                           7.18   \n",
       "4                          12.41                           7.24   \n",
       "\n",
       "   rougher.output.concentrate_sol  rougher.output.concentrate_au  \\\n",
       "0                           28.03                          19.79   \n",
       "1                           28.07                          20.05   \n",
       "2                           27.45                          19.74   \n",
       "3                           27.34                          19.32   \n",
       "4                           27.04                          19.22   \n",
       "\n",
       "   rougher.output.recovery  rougher.output.tail_ag  rougher.output.tail_pb  \\\n",
       "0                    87.11                    5.01                    0.51   \n",
       "1                    86.84                    4.96                    0.54   \n",
       "2                    86.84                    4.84                    0.55   \n",
       "3                    87.23                    4.66                    0.54   \n",
       "4                    86.69                    4.55                    0.52   \n",
       "\n",
       "   rougher.output.tail_sol  rougher.output.tail_au  \\\n",
       "0                    19.15                    1.17   \n",
       "1                    18.97                    1.18   \n",
       "2                    18.81                    1.16   \n",
       "3                    19.33                    1.08   \n",
       "4                    19.27                    1.01   \n",
       "\n",
       "   rougher.state.floatbank10_a_air  rougher.state.floatbank10_a_level  \\\n",
       "0                           999.71                            -404.07   \n",
       "1                         1,000.29                            -400.07   \n",
       "2                           999.72                            -400.07   \n",
       "3                           999.81                            -400.20   \n",
       "4                           999.68                            -399.75   \n",
       "\n",
       "   rougher.state.floatbank10_b_air  rougher.state.floatbank10_b_level  \\\n",
       "0                         1,603.01                            -434.72   \n",
       "1                         1,600.75                            -449.95   \n",
       "2                         1,599.34                            -450.01   \n",
       "3                         1,600.06                            -450.62   \n",
       "4                         1,600.21                            -449.60   \n",
       "\n",
       "   rougher.state.floatbank10_c_air  rougher.state.floatbank10_c_level  \\\n",
       "0                         1,602.38                            -442.20   \n",
       "1                         1,600.48                            -449.83   \n",
       "2                         1,599.67                            -449.95   \n",
       "3                         1,600.01                            -449.91   \n",
       "4                         1,600.36                            -450.03   \n",
       "\n",
       "   rougher.state.floatbank10_d_air  rougher.state.floatbank10_d_level  \\\n",
       "0                         1,598.94                            -451.29   \n",
       "1                         1,600.53                            -449.95   \n",
       "2                         1,599.85                            -449.95   \n",
       "3                         1,597.73                            -450.13   \n",
       "4                         1,599.76                            -449.91   \n",
       "\n",
       "   rougher.state.floatbank10_e_air  rougher.state.floatbank10_e_level  \\\n",
       "0                         1,404.47                            -455.46   \n",
       "1                         1,399.23                            -450.87   \n",
       "2                         1,399.18                            -449.94   \n",
       "3                         1,400.94                            -450.03   \n",
       "4                         1,401.56                            -448.88   \n",
       "\n",
       "   rougher.state.floatbank10_f_air  rougher.state.floatbank10_f_level  \\\n",
       "0                         1,416.35                            -451.94   \n",
       "1                         1,399.72                            -450.12   \n",
       "2                         1,400.32                            -450.53   \n",
       "3                         1,400.23                            -449.79   \n",
       "4                         1,401.16                            -450.41   \n",
       "\n",
       "   secondary_cleaner.output.tail_ag  secondary_cleaner.output.tail_pb  \\\n",
       "0                             14.50                              4.69   \n",
       "1                             14.27                              4.59   \n",
       "2                             14.12                              4.62   \n",
       "3                             13.73                              4.48   \n",
       "4                             14.08                              4.47   \n",
       "\n",
       "   secondary_cleaner.output.tail_sol  secondary_cleaner.output.tail_au  \\\n",
       "0                               8.76                              2.61   \n",
       "1                               9.00                              2.49   \n",
       "2                               8.84                              2.46   \n",
       "3                               9.12                              2.32   \n",
       "4                               8.87                              2.33   \n",
       "\n",
       "   secondary_cleaner.state.floatbank2_a_air  \\\n",
       "0                                     25.85   \n",
       "1                                     25.88   \n",
       "2                                     26.01   \n",
       "3                                     25.94   \n",
       "4                                     26.02   \n",
       "\n",
       "   secondary_cleaner.state.floatbank2_a_level  \\\n",
       "0                                     -498.53   \n",
       "1                                     -499.99   \n",
       "2                                     -499.93   \n",
       "3                                     -499.18   \n",
       "4                                     -500.28   \n",
       "\n",
       "   secondary_cleaner.state.floatbank2_b_air  \\\n",
       "0                                     23.89   \n",
       "1                                     23.89   \n",
       "2                                     23.89   \n",
       "3                                     23.96   \n",
       "4                                     23.96   \n",
       "\n",
       "   secondary_cleaner.state.floatbank2_b_level  \\\n",
       "0                                     -501.41   \n",
       "1                                     -500.37   \n",
       "2                                     -499.95   \n",
       "3                                     -499.85   \n",
       "4                                     -500.59   \n",
       "\n",
       "   secondary_cleaner.state.floatbank3_a_air  \\\n",
       "0                                     23.96   \n",
       "1                                     23.97   \n",
       "2                                     23.91   \n",
       "3                                     23.97   \n",
       "4                                     23.99   \n",
       "\n",
       "   secondary_cleaner.state.floatbank3_a_level  \\\n",
       "0                                     -495.26   \n",
       "1                                     -500.09   \n",
       "2                                     -499.44   \n",
       "3                                     -500.01   \n",
       "4                                     -500.08   \n",
       "\n",
       "   secondary_cleaner.state.floatbank3_b_air  \\\n",
       "0                                     21.94   \n",
       "1                                     22.09   \n",
       "2                                     23.96   \n",
       "3                                     23.95   \n",
       "4                                     23.96   \n",
       "\n",
       "   secondary_cleaner.state.floatbank3_b_level  \\\n",
       "0                                     -499.34   \n",
       "1                                     -499.45   \n",
       "2                                     -499.90   \n",
       "3                                     -499.94   \n",
       "4                                     -499.99   \n",
       "\n",
       "   secondary_cleaner.state.floatbank4_a_air  \\\n",
       "0                                     14.02   \n",
       "1                                     13.99   \n",
       "2                                     14.02   \n",
       "3                                     14.04   \n",
       "4                                     14.03   \n",
       "\n",
       "   secondary_cleaner.state.floatbank4_a_level  \\\n",
       "0                                     -502.49   \n",
       "1                                     -505.50   \n",
       "2                                     -502.52   \n",
       "3                                     -500.86   \n",
       "4                                     -499.84   \n",
       "\n",
       "   secondary_cleaner.state.floatbank4_b_air  \\\n",
       "0                                     12.10   \n",
       "1                                     11.95   \n",
       "2                                     11.91   \n",
       "3                                     12.00   \n",
       "4                                     11.95   \n",
       "\n",
       "   secondary_cleaner.state.floatbank4_b_level  \\\n",
       "0                                     -504.72   \n",
       "1                                     -501.33   \n",
       "2                                     -501.13   \n",
       "3                                     -501.19   \n",
       "4                                     -501.05   \n",
       "\n",
       "   secondary_cleaner.state.floatbank5_a_air  \\\n",
       "0                                      9.93   \n",
       "1                                     10.04   \n",
       "2                                     10.07   \n",
       "3                                      9.97   \n",
       "4                                      9.93   \n",
       "\n",
       "   secondary_cleaner.state.floatbank5_a_level  \\\n",
       "0                                     -498.31   \n",
       "1                                     -500.17   \n",
       "2                                     -500.13   \n",
       "3                                     -499.20   \n",
       "4                                     -501.69   \n",
       "\n",
       "   secondary_cleaner.state.floatbank5_b_air  \\\n",
       "0                                      8.08   \n",
       "1                                      7.98   \n",
       "2                                      8.01   \n",
       "3                                      7.98   \n",
       "4                                      7.89   \n",
       "\n",
       "   secondary_cleaner.state.floatbank5_b_level  \\\n",
       "0                                     -500.47   \n",
       "1                                     -500.58   \n",
       "2                                     -500.52   \n",
       "3                                     -500.26   \n",
       "4                                     -500.36   \n",
       "\n",
       "   secondary_cleaner.state.floatbank6_a_air  \\\n",
       "0                                     14.15   \n",
       "1                                     14.00   \n",
       "2                                     14.03   \n",
       "3                                     14.01   \n",
       "4                                     14.00   \n",
       "\n",
       "   secondary_cleaner.state.floatbank6_a_level  \n",
       "0                                     -605.84  \n",
       "1                                     -599.79  \n",
       "2                                     -601.43  \n",
       "3                                     -600.00  \n",
       "4                                     -601.50  "
      ]
     },
     "execution_count": 4,
     "metadata": {},
     "output_type": "execute_result"
    }
   ],
   "source": [
    "# откроем файл с обучающей выборкой и запишем в переменную train\n",
    "try:\n",
    "    train = pd.read_csv('/datasets/gold_recovery_train_new.csv')\n",
    "except:\n",
    "    train = pd.read_csv('https://code.s3.yandex.net//datasets/gold_recovery_train_new.csv')\n",
    "train.head()"
   ]
  },
  {
   "cell_type": "code",
   "execution_count": 5,
   "metadata": {},
   "outputs": [
    {
     "name": "stdout",
     "output_type": "stream",
     "text": [
      "<class 'pandas.core.frame.DataFrame'>\n",
      "RangeIndex: 14149 entries, 0 to 14148\n",
      "Data columns (total 87 columns):\n",
      " #   Column                                              Non-Null Count  Dtype  \n",
      "---  ------                                              --------------  -----  \n",
      " 0   date                                                14149 non-null  object \n",
      " 1   final.output.concentrate_ag                         14148 non-null  float64\n",
      " 2   final.output.concentrate_pb                         14148 non-null  float64\n",
      " 3   final.output.concentrate_sol                        13938 non-null  float64\n",
      " 4   final.output.concentrate_au                         14149 non-null  float64\n",
      " 5   final.output.recovery                               14149 non-null  float64\n",
      " 6   final.output.tail_ag                                14149 non-null  float64\n",
      " 7   final.output.tail_pb                                14049 non-null  float64\n",
      " 8   final.output.tail_sol                               14144 non-null  float64\n",
      " 9   final.output.tail_au                                14149 non-null  float64\n",
      " 10  primary_cleaner.input.sulfate                       14129 non-null  float64\n",
      " 11  primary_cleaner.input.depressant                    14117 non-null  float64\n",
      " 12  primary_cleaner.input.feed_size                     14149 non-null  float64\n",
      " 13  primary_cleaner.input.xanthate                      14049 non-null  float64\n",
      " 14  primary_cleaner.output.concentrate_ag               14149 non-null  float64\n",
      " 15  primary_cleaner.output.concentrate_pb               14063 non-null  float64\n",
      " 16  primary_cleaner.output.concentrate_sol              13863 non-null  float64\n",
      " 17  primary_cleaner.output.concentrate_au               14149 non-null  float64\n",
      " 18  primary_cleaner.output.tail_ag                      14148 non-null  float64\n",
      " 19  primary_cleaner.output.tail_pb                      14134 non-null  float64\n",
      " 20  primary_cleaner.output.tail_sol                     14103 non-null  float64\n",
      " 21  primary_cleaner.output.tail_au                      14149 non-null  float64\n",
      " 22  primary_cleaner.state.floatbank8_a_air              14145 non-null  float64\n",
      " 23  primary_cleaner.state.floatbank8_a_level            14148 non-null  float64\n",
      " 24  primary_cleaner.state.floatbank8_b_air              14145 non-null  float64\n",
      " 25  primary_cleaner.state.floatbank8_b_level            14148 non-null  float64\n",
      " 26  primary_cleaner.state.floatbank8_c_air              14147 non-null  float64\n",
      " 27  primary_cleaner.state.floatbank8_c_level            14148 non-null  float64\n",
      " 28  primary_cleaner.state.floatbank8_d_air              14146 non-null  float64\n",
      " 29  primary_cleaner.state.floatbank8_d_level            14148 non-null  float64\n",
      " 30  rougher.calculation.sulfate_to_au_concentrate       14148 non-null  float64\n",
      " 31  rougher.calculation.floatbank10_sulfate_to_au_feed  14148 non-null  float64\n",
      " 32  rougher.calculation.floatbank11_sulfate_to_au_feed  14148 non-null  float64\n",
      " 33  rougher.calculation.au_pb_ratio                     14149 non-null  float64\n",
      " 34  rougher.input.feed_ag                               14149 non-null  float64\n",
      " 35  rougher.input.feed_pb                               14049 non-null  float64\n",
      " 36  rougher.input.feed_rate                             14141 non-null  float64\n",
      " 37  rougher.input.feed_size                             14005 non-null  float64\n",
      " 38  rougher.input.feed_sol                              14071 non-null  float64\n",
      " 39  rougher.input.feed_au                               14149 non-null  float64\n",
      " 40  rougher.input.floatbank10_sulfate                   14120 non-null  float64\n",
      " 41  rougher.input.floatbank10_xanthate                  14141 non-null  float64\n",
      " 42  rougher.input.floatbank11_sulfate                   14113 non-null  float64\n",
      " 43  rougher.input.floatbank11_xanthate                  13721 non-null  float64\n",
      " 44  rougher.output.concentrate_ag                       14149 non-null  float64\n",
      " 45  rougher.output.concentrate_pb                       14149 non-null  float64\n",
      " 46  rougher.output.concentrate_sol                      14127 non-null  float64\n",
      " 47  rougher.output.concentrate_au                       14149 non-null  float64\n",
      " 48  rougher.output.recovery                             14149 non-null  float64\n",
      " 49  rougher.output.tail_ag                              14148 non-null  float64\n",
      " 50  rougher.output.tail_pb                              14149 non-null  float64\n",
      " 51  rougher.output.tail_sol                             14149 non-null  float64\n",
      " 52  rougher.output.tail_au                              14149 non-null  float64\n",
      " 53  rougher.state.floatbank10_a_air                     14148 non-null  float64\n",
      " 54  rougher.state.floatbank10_a_level                   14148 non-null  float64\n",
      " 55  rougher.state.floatbank10_b_air                     14148 non-null  float64\n",
      " 56  rougher.state.floatbank10_b_level                   14148 non-null  float64\n",
      " 57  rougher.state.floatbank10_c_air                     14148 non-null  float64\n",
      " 58  rougher.state.floatbank10_c_level                   14148 non-null  float64\n",
      " 59  rougher.state.floatbank10_d_air                     14149 non-null  float64\n",
      " 60  rougher.state.floatbank10_d_level                   14149 non-null  float64\n",
      " 61  rougher.state.floatbank10_e_air                     13713 non-null  float64\n",
      " 62  rougher.state.floatbank10_e_level                   14149 non-null  float64\n",
      " 63  rougher.state.floatbank10_f_air                     14149 non-null  float64\n",
      " 64  rougher.state.floatbank10_f_level                   14149 non-null  float64\n",
      " 65  secondary_cleaner.output.tail_ag                    14147 non-null  float64\n",
      " 66  secondary_cleaner.output.tail_pb                    14139 non-null  float64\n",
      " 67  secondary_cleaner.output.tail_sol                   12544 non-null  float64\n",
      " 68  secondary_cleaner.output.tail_au                    14149 non-null  float64\n",
      " 69  secondary_cleaner.state.floatbank2_a_air            13932 non-null  float64\n",
      " 70  secondary_cleaner.state.floatbank2_a_level          14148 non-null  float64\n",
      " 71  secondary_cleaner.state.floatbank2_b_air            14128 non-null  float64\n",
      " 72  secondary_cleaner.state.floatbank2_b_level          14148 non-null  float64\n",
      " 73  secondary_cleaner.state.floatbank3_a_air            14145 non-null  float64\n",
      " 74  secondary_cleaner.state.floatbank3_a_level          14148 non-null  float64\n",
      " 75  secondary_cleaner.state.floatbank3_b_air            14148 non-null  float64\n",
      " 76  secondary_cleaner.state.floatbank3_b_level          14148 non-null  float64\n",
      " 77  secondary_cleaner.state.floatbank4_a_air            14143 non-null  float64\n",
      " 78  secondary_cleaner.state.floatbank4_a_level          14148 non-null  float64\n",
      " 79  secondary_cleaner.state.floatbank4_b_air            14148 non-null  float64\n",
      " 80  secondary_cleaner.state.floatbank4_b_level          14148 non-null  float64\n",
      " 81  secondary_cleaner.state.floatbank5_a_air            14148 non-null  float64\n",
      " 82  secondary_cleaner.state.floatbank5_a_level          14148 non-null  float64\n",
      " 83  secondary_cleaner.state.floatbank5_b_air            14148 non-null  float64\n",
      " 84  secondary_cleaner.state.floatbank5_b_level          14148 non-null  float64\n",
      " 85  secondary_cleaner.state.floatbank6_a_air            14147 non-null  float64\n",
      " 86  secondary_cleaner.state.floatbank6_a_level          14148 non-null  float64\n",
      "dtypes: float64(86), object(1)\n",
      "memory usage: 9.4+ MB\n"
     ]
    }
   ],
   "source": [
    "# выведем общую информацию \n",
    "train.info()"
   ]
  },
  {
   "cell_type": "code",
   "execution_count": 6,
   "metadata": {},
   "outputs": [
    {
     "data": {
      "text/html": [
       "<div>\n",
       "<style scoped>\n",
       "    .dataframe tbody tr th:only-of-type {\n",
       "        vertical-align: middle;\n",
       "    }\n",
       "\n",
       "    .dataframe tbody tr th {\n",
       "        vertical-align: top;\n",
       "    }\n",
       "\n",
       "    .dataframe thead th {\n",
       "        text-align: right;\n",
       "    }\n",
       "</style>\n",
       "<table border=\"1\" class=\"dataframe\">\n",
       "  <thead>\n",
       "    <tr style=\"text-align: right;\">\n",
       "      <th></th>\n",
       "      <th>date</th>\n",
       "      <th>primary_cleaner.input.sulfate</th>\n",
       "      <th>primary_cleaner.input.depressant</th>\n",
       "      <th>primary_cleaner.input.feed_size</th>\n",
       "      <th>primary_cleaner.input.xanthate</th>\n",
       "      <th>primary_cleaner.state.floatbank8_a_air</th>\n",
       "      <th>primary_cleaner.state.floatbank8_a_level</th>\n",
       "      <th>primary_cleaner.state.floatbank8_b_air</th>\n",
       "      <th>primary_cleaner.state.floatbank8_b_level</th>\n",
       "      <th>primary_cleaner.state.floatbank8_c_air</th>\n",
       "      <th>primary_cleaner.state.floatbank8_c_level</th>\n",
       "      <th>primary_cleaner.state.floatbank8_d_air</th>\n",
       "      <th>primary_cleaner.state.floatbank8_d_level</th>\n",
       "      <th>rougher.input.feed_ag</th>\n",
       "      <th>rougher.input.feed_pb</th>\n",
       "      <th>rougher.input.feed_rate</th>\n",
       "      <th>rougher.input.feed_size</th>\n",
       "      <th>rougher.input.feed_sol</th>\n",
       "      <th>rougher.input.feed_au</th>\n",
       "      <th>rougher.input.floatbank10_sulfate</th>\n",
       "      <th>rougher.input.floatbank10_xanthate</th>\n",
       "      <th>rougher.input.floatbank11_sulfate</th>\n",
       "      <th>rougher.input.floatbank11_xanthate</th>\n",
       "      <th>rougher.state.floatbank10_a_air</th>\n",
       "      <th>rougher.state.floatbank10_a_level</th>\n",
       "      <th>rougher.state.floatbank10_b_air</th>\n",
       "      <th>rougher.state.floatbank10_b_level</th>\n",
       "      <th>rougher.state.floatbank10_c_air</th>\n",
       "      <th>rougher.state.floatbank10_c_level</th>\n",
       "      <th>rougher.state.floatbank10_d_air</th>\n",
       "      <th>rougher.state.floatbank10_d_level</th>\n",
       "      <th>rougher.state.floatbank10_e_air</th>\n",
       "      <th>rougher.state.floatbank10_e_level</th>\n",
       "      <th>rougher.state.floatbank10_f_air</th>\n",
       "      <th>rougher.state.floatbank10_f_level</th>\n",
       "      <th>secondary_cleaner.state.floatbank2_a_air</th>\n",
       "      <th>secondary_cleaner.state.floatbank2_a_level</th>\n",
       "      <th>secondary_cleaner.state.floatbank2_b_air</th>\n",
       "      <th>secondary_cleaner.state.floatbank2_b_level</th>\n",
       "      <th>secondary_cleaner.state.floatbank3_a_air</th>\n",
       "      <th>secondary_cleaner.state.floatbank3_a_level</th>\n",
       "      <th>secondary_cleaner.state.floatbank3_b_air</th>\n",
       "      <th>secondary_cleaner.state.floatbank3_b_level</th>\n",
       "      <th>secondary_cleaner.state.floatbank4_a_air</th>\n",
       "      <th>secondary_cleaner.state.floatbank4_a_level</th>\n",
       "      <th>secondary_cleaner.state.floatbank4_b_air</th>\n",
       "      <th>secondary_cleaner.state.floatbank4_b_level</th>\n",
       "      <th>secondary_cleaner.state.floatbank5_a_air</th>\n",
       "      <th>secondary_cleaner.state.floatbank5_a_level</th>\n",
       "      <th>secondary_cleaner.state.floatbank5_b_air</th>\n",
       "      <th>secondary_cleaner.state.floatbank5_b_level</th>\n",
       "      <th>secondary_cleaner.state.floatbank6_a_air</th>\n",
       "      <th>secondary_cleaner.state.floatbank6_a_level</th>\n",
       "    </tr>\n",
       "  </thead>\n",
       "  <tbody>\n",
       "    <tr>\n",
       "      <th>0</th>\n",
       "      <td>2016-09-01 00:59:59</td>\n",
       "      <td>210.80</td>\n",
       "      <td>14.99</td>\n",
       "      <td>8.08</td>\n",
       "      <td>1.01</td>\n",
       "      <td>1,398.98</td>\n",
       "      <td>-500.23</td>\n",
       "      <td>1,399.14</td>\n",
       "      <td>-499.92</td>\n",
       "      <td>1,400.10</td>\n",
       "      <td>-500.70</td>\n",
       "      <td>1,399.00</td>\n",
       "      <td>-499.49</td>\n",
       "      <td>13.13</td>\n",
       "      <td>5.64</td>\n",
       "      <td>489.79</td>\n",
       "      <td>62.71</td>\n",
       "      <td>42.02</td>\n",
       "      <td>12.08</td>\n",
       "      <td>16.92</td>\n",
       "      <td>6.15</td>\n",
       "      <td>16.87</td>\n",
       "      <td>6.15</td>\n",
       "      <td>1,001.85</td>\n",
       "      <td>-350.30</td>\n",
       "      <td>1,249.74</td>\n",
       "      <td>-399.11</td>\n",
       "      <td>1,249.75</td>\n",
       "      <td>-399.40</td>\n",
       "      <td>1,198.29</td>\n",
       "      <td>-399.49</td>\n",
       "      <td>999.47</td>\n",
       "      <td>-399.53</td>\n",
       "      <td>949.57</td>\n",
       "      <td>-398.18</td>\n",
       "      <td>24.94</td>\n",
       "      <td>-500.49</td>\n",
       "      <td>14.95</td>\n",
       "      <td>-500.01</td>\n",
       "      <td>20.02</td>\n",
       "      <td>-450.40</td>\n",
       "      <td>13.99</td>\n",
       "      <td>-449.83</td>\n",
       "      <td>12.02</td>\n",
       "      <td>-497.80</td>\n",
       "      <td>8.02</td>\n",
       "      <td>-501.29</td>\n",
       "      <td>7.95</td>\n",
       "      <td>-432.32</td>\n",
       "      <td>4.87</td>\n",
       "      <td>-500.04</td>\n",
       "      <td>26.71</td>\n",
       "      <td>-499.71</td>\n",
       "    </tr>\n",
       "    <tr>\n",
       "      <th>1</th>\n",
       "      <td>2016-09-01 01:59:59</td>\n",
       "      <td>215.39</td>\n",
       "      <td>14.99</td>\n",
       "      <td>8.08</td>\n",
       "      <td>0.99</td>\n",
       "      <td>1,398.78</td>\n",
       "      <td>-500.06</td>\n",
       "      <td>1,398.06</td>\n",
       "      <td>-499.78</td>\n",
       "      <td>1,396.15</td>\n",
       "      <td>-499.24</td>\n",
       "      <td>1,399.51</td>\n",
       "      <td>-500.42</td>\n",
       "      <td>13.04</td>\n",
       "      <td>5.53</td>\n",
       "      <td>490.10</td>\n",
       "      <td>61.96</td>\n",
       "      <td>41.19</td>\n",
       "      <td>11.92</td>\n",
       "      <td>17.00</td>\n",
       "      <td>6.00</td>\n",
       "      <td>17.00</td>\n",
       "      <td>6.00</td>\n",
       "      <td>998.69</td>\n",
       "      <td>-350.43</td>\n",
       "      <td>1,248.40</td>\n",
       "      <td>-399.95</td>\n",
       "      <td>1,249.51</td>\n",
       "      <td>-399.63</td>\n",
       "      <td>1,200.51</td>\n",
       "      <td>-399.94</td>\n",
       "      <td>1,000.00</td>\n",
       "      <td>-399.49</td>\n",
       "      <td>950.20</td>\n",
       "      <td>-405.79</td>\n",
       "      <td>24.92</td>\n",
       "      <td>-499.81</td>\n",
       "      <td>14.93</td>\n",
       "      <td>-500.76</td>\n",
       "      <td>19.99</td>\n",
       "      <td>-450.11</td>\n",
       "      <td>14.09</td>\n",
       "      <td>-450.06</td>\n",
       "      <td>12.06</td>\n",
       "      <td>-498.70</td>\n",
       "      <td>8.13</td>\n",
       "      <td>-499.63</td>\n",
       "      <td>7.96</td>\n",
       "      <td>-525.84</td>\n",
       "      <td>4.88</td>\n",
       "      <td>-500.16</td>\n",
       "      <td>25.02</td>\n",
       "      <td>-499.82</td>\n",
       "    </tr>\n",
       "    <tr>\n",
       "      <th>2</th>\n",
       "      <td>2016-09-01 02:59:59</td>\n",
       "      <td>215.26</td>\n",
       "      <td>12.88</td>\n",
       "      <td>7.79</td>\n",
       "      <td>1.00</td>\n",
       "      <td>1,398.49</td>\n",
       "      <td>-500.87</td>\n",
       "      <td>1,398.86</td>\n",
       "      <td>-499.76</td>\n",
       "      <td>1,398.08</td>\n",
       "      <td>-502.15</td>\n",
       "      <td>1,399.50</td>\n",
       "      <td>-499.72</td>\n",
       "      <td>13.14</td>\n",
       "      <td>5.43</td>\n",
       "      <td>489.62</td>\n",
       "      <td>66.90</td>\n",
       "      <td>42.55</td>\n",
       "      <td>12.09</td>\n",
       "      <td>16.99</td>\n",
       "      <td>5.85</td>\n",
       "      <td>16.98</td>\n",
       "      <td>5.85</td>\n",
       "      <td>998.52</td>\n",
       "      <td>-349.78</td>\n",
       "      <td>1,247.44</td>\n",
       "      <td>-400.26</td>\n",
       "      <td>1,248.21</td>\n",
       "      <td>-401.07</td>\n",
       "      <td>1,199.77</td>\n",
       "      <td>-400.79</td>\n",
       "      <td>999.93</td>\n",
       "      <td>-399.24</td>\n",
       "      <td>950.32</td>\n",
       "      <td>-400.86</td>\n",
       "      <td>24.91</td>\n",
       "      <td>-500.30</td>\n",
       "      <td>15.00</td>\n",
       "      <td>-500.99</td>\n",
       "      <td>20.04</td>\n",
       "      <td>-450.26</td>\n",
       "      <td>14.08</td>\n",
       "      <td>-449.66</td>\n",
       "      <td>11.96</td>\n",
       "      <td>-498.77</td>\n",
       "      <td>8.10</td>\n",
       "      <td>-500.83</td>\n",
       "      <td>8.07</td>\n",
       "      <td>-500.80</td>\n",
       "      <td>4.91</td>\n",
       "      <td>-499.83</td>\n",
       "      <td>24.99</td>\n",
       "      <td>-500.62</td>\n",
       "    </tr>\n",
       "    <tr>\n",
       "      <th>3</th>\n",
       "      <td>2016-09-01 03:59:59</td>\n",
       "      <td>215.34</td>\n",
       "      <td>12.01</td>\n",
       "      <td>7.64</td>\n",
       "      <td>0.86</td>\n",
       "      <td>1,399.62</td>\n",
       "      <td>-498.86</td>\n",
       "      <td>1,397.44</td>\n",
       "      <td>-499.21</td>\n",
       "      <td>1,400.13</td>\n",
       "      <td>-498.36</td>\n",
       "      <td>1,401.07</td>\n",
       "      <td>-501.04</td>\n",
       "      <td>12.40</td>\n",
       "      <td>5.11</td>\n",
       "      <td>476.62</td>\n",
       "      <td>59.87</td>\n",
       "      <td>41.06</td>\n",
       "      <td>12.18</td>\n",
       "      <td>16.53</td>\n",
       "      <td>5.80</td>\n",
       "      <td>16.52</td>\n",
       "      <td>5.80</td>\n",
       "      <td>1,000.28</td>\n",
       "      <td>-350.17</td>\n",
       "      <td>1,251.32</td>\n",
       "      <td>-398.66</td>\n",
       "      <td>1,250.49</td>\n",
       "      <td>-399.75</td>\n",
       "      <td>1,199.40</td>\n",
       "      <td>-397.50</td>\n",
       "      <td>1,001.93</td>\n",
       "      <td>-400.44</td>\n",
       "      <td>950.74</td>\n",
       "      <td>-399.80</td>\n",
       "      <td>24.89</td>\n",
       "      <td>-499.38</td>\n",
       "      <td>14.92</td>\n",
       "      <td>-499.86</td>\n",
       "      <td>20.03</td>\n",
       "      <td>-449.37</td>\n",
       "      <td>14.01</td>\n",
       "      <td>-449.53</td>\n",
       "      <td>12.03</td>\n",
       "      <td>-498.35</td>\n",
       "      <td>8.07</td>\n",
       "      <td>-499.47</td>\n",
       "      <td>7.90</td>\n",
       "      <td>-500.87</td>\n",
       "      <td>4.93</td>\n",
       "      <td>-499.96</td>\n",
       "      <td>24.95</td>\n",
       "      <td>-498.71</td>\n",
       "    </tr>\n",
       "    <tr>\n",
       "      <th>4</th>\n",
       "      <td>2016-09-01 04:59:59</td>\n",
       "      <td>199.10</td>\n",
       "      <td>10.68</td>\n",
       "      <td>7.53</td>\n",
       "      <td>0.81</td>\n",
       "      <td>1,401.27</td>\n",
       "      <td>-500.81</td>\n",
       "      <td>1,398.13</td>\n",
       "      <td>-499.50</td>\n",
       "      <td>1,402.17</td>\n",
       "      <td>-500.81</td>\n",
       "      <td>1,399.48</td>\n",
       "      <td>-499.37</td>\n",
       "      <td>11.33</td>\n",
       "      <td>4.77</td>\n",
       "      <td>488.25</td>\n",
       "      <td>63.32</td>\n",
       "      <td>41.27</td>\n",
       "      <td>11.29</td>\n",
       "      <td>13.61</td>\n",
       "      <td>5.74</td>\n",
       "      <td>13.65</td>\n",
       "      <td>5.74</td>\n",
       "      <td>996.54</td>\n",
       "      <td>-350.56</td>\n",
       "      <td>1,304.66</td>\n",
       "      <td>-399.51</td>\n",
       "      <td>1,306.46</td>\n",
       "      <td>-399.05</td>\n",
       "      <td>1,248.70</td>\n",
       "      <td>-400.88</td>\n",
       "      <td>1,058.84</td>\n",
       "      <td>-398.99</td>\n",
       "      <td>949.65</td>\n",
       "      <td>-399.28</td>\n",
       "      <td>24.89</td>\n",
       "      <td>-499.36</td>\n",
       "      <td>14.98</td>\n",
       "      <td>-500.19</td>\n",
       "      <td>19.96</td>\n",
       "      <td>-450.64</td>\n",
       "      <td>14.01</td>\n",
       "      <td>-450.02</td>\n",
       "      <td>12.03</td>\n",
       "      <td>-500.79</td>\n",
       "      <td>8.05</td>\n",
       "      <td>-500.40</td>\n",
       "      <td>8.11</td>\n",
       "      <td>-509.53</td>\n",
       "      <td>4.96</td>\n",
       "      <td>-500.36</td>\n",
       "      <td>25.00</td>\n",
       "      <td>-500.86</td>\n",
       "    </tr>\n",
       "  </tbody>\n",
       "</table>\n",
       "</div>"
      ],
      "text/plain": [
       "                  date  primary_cleaner.input.sulfate  \\\n",
       "0  2016-09-01 00:59:59                         210.80   \n",
       "1  2016-09-01 01:59:59                         215.39   \n",
       "2  2016-09-01 02:59:59                         215.26   \n",
       "3  2016-09-01 03:59:59                         215.34   \n",
       "4  2016-09-01 04:59:59                         199.10   \n",
       "\n",
       "   primary_cleaner.input.depressant  primary_cleaner.input.feed_size  \\\n",
       "0                             14.99                             8.08   \n",
       "1                             14.99                             8.08   \n",
       "2                             12.88                             7.79   \n",
       "3                             12.01                             7.64   \n",
       "4                             10.68                             7.53   \n",
       "\n",
       "   primary_cleaner.input.xanthate  primary_cleaner.state.floatbank8_a_air  \\\n",
       "0                            1.01                                1,398.98   \n",
       "1                            0.99                                1,398.78   \n",
       "2                            1.00                                1,398.49   \n",
       "3                            0.86                                1,399.62   \n",
       "4                            0.81                                1,401.27   \n",
       "\n",
       "   primary_cleaner.state.floatbank8_a_level  \\\n",
       "0                                   -500.23   \n",
       "1                                   -500.06   \n",
       "2                                   -500.87   \n",
       "3                                   -498.86   \n",
       "4                                   -500.81   \n",
       "\n",
       "   primary_cleaner.state.floatbank8_b_air  \\\n",
       "0                                1,399.14   \n",
       "1                                1,398.06   \n",
       "2                                1,398.86   \n",
       "3                                1,397.44   \n",
       "4                                1,398.13   \n",
       "\n",
       "   primary_cleaner.state.floatbank8_b_level  \\\n",
       "0                                   -499.92   \n",
       "1                                   -499.78   \n",
       "2                                   -499.76   \n",
       "3                                   -499.21   \n",
       "4                                   -499.50   \n",
       "\n",
       "   primary_cleaner.state.floatbank8_c_air  \\\n",
       "0                                1,400.10   \n",
       "1                                1,396.15   \n",
       "2                                1,398.08   \n",
       "3                                1,400.13   \n",
       "4                                1,402.17   \n",
       "\n",
       "   primary_cleaner.state.floatbank8_c_level  \\\n",
       "0                                   -500.70   \n",
       "1                                   -499.24   \n",
       "2                                   -502.15   \n",
       "3                                   -498.36   \n",
       "4                                   -500.81   \n",
       "\n",
       "   primary_cleaner.state.floatbank8_d_air  \\\n",
       "0                                1,399.00   \n",
       "1                                1,399.51   \n",
       "2                                1,399.50   \n",
       "3                                1,401.07   \n",
       "4                                1,399.48   \n",
       "\n",
       "   primary_cleaner.state.floatbank8_d_level  rougher.input.feed_ag  \\\n",
       "0                                   -499.49                  13.13   \n",
       "1                                   -500.42                  13.04   \n",
       "2                                   -499.72                  13.14   \n",
       "3                                   -501.04                  12.40   \n",
       "4                                   -499.37                  11.33   \n",
       "\n",
       "   rougher.input.feed_pb  rougher.input.feed_rate  rougher.input.feed_size  \\\n",
       "0                   5.64                   489.79                    62.71   \n",
       "1                   5.53                   490.10                    61.96   \n",
       "2                   5.43                   489.62                    66.90   \n",
       "3                   5.11                   476.62                    59.87   \n",
       "4                   4.77                   488.25                    63.32   \n",
       "\n",
       "   rougher.input.feed_sol  rougher.input.feed_au  \\\n",
       "0                   42.02                  12.08   \n",
       "1                   41.19                  11.92   \n",
       "2                   42.55                  12.09   \n",
       "3                   41.06                  12.18   \n",
       "4                   41.27                  11.29   \n",
       "\n",
       "   rougher.input.floatbank10_sulfate  rougher.input.floatbank10_xanthate  \\\n",
       "0                              16.92                                6.15   \n",
       "1                              17.00                                6.00   \n",
       "2                              16.99                                5.85   \n",
       "3                              16.53                                5.80   \n",
       "4                              13.61                                5.74   \n",
       "\n",
       "   rougher.input.floatbank11_sulfate  rougher.input.floatbank11_xanthate  \\\n",
       "0                              16.87                                6.15   \n",
       "1                              17.00                                6.00   \n",
       "2                              16.98                                5.85   \n",
       "3                              16.52                                5.80   \n",
       "4                              13.65                                5.74   \n",
       "\n",
       "   rougher.state.floatbank10_a_air  rougher.state.floatbank10_a_level  \\\n",
       "0                         1,001.85                            -350.30   \n",
       "1                           998.69                            -350.43   \n",
       "2                           998.52                            -349.78   \n",
       "3                         1,000.28                            -350.17   \n",
       "4                           996.54                            -350.56   \n",
       "\n",
       "   rougher.state.floatbank10_b_air  rougher.state.floatbank10_b_level  \\\n",
       "0                         1,249.74                            -399.11   \n",
       "1                         1,248.40                            -399.95   \n",
       "2                         1,247.44                            -400.26   \n",
       "3                         1,251.32                            -398.66   \n",
       "4                         1,304.66                            -399.51   \n",
       "\n",
       "   rougher.state.floatbank10_c_air  rougher.state.floatbank10_c_level  \\\n",
       "0                         1,249.75                            -399.40   \n",
       "1                         1,249.51                            -399.63   \n",
       "2                         1,248.21                            -401.07   \n",
       "3                         1,250.49                            -399.75   \n",
       "4                         1,306.46                            -399.05   \n",
       "\n",
       "   rougher.state.floatbank10_d_air  rougher.state.floatbank10_d_level  \\\n",
       "0                         1,198.29                            -399.49   \n",
       "1                         1,200.51                            -399.94   \n",
       "2                         1,199.77                            -400.79   \n",
       "3                         1,199.40                            -397.50   \n",
       "4                         1,248.70                            -400.88   \n",
       "\n",
       "   rougher.state.floatbank10_e_air  rougher.state.floatbank10_e_level  \\\n",
       "0                           999.47                            -399.53   \n",
       "1                         1,000.00                            -399.49   \n",
       "2                           999.93                            -399.24   \n",
       "3                         1,001.93                            -400.44   \n",
       "4                         1,058.84                            -398.99   \n",
       "\n",
       "   rougher.state.floatbank10_f_air  rougher.state.floatbank10_f_level  \\\n",
       "0                           949.57                            -398.18   \n",
       "1                           950.20                            -405.79   \n",
       "2                           950.32                            -400.86   \n",
       "3                           950.74                            -399.80   \n",
       "4                           949.65                            -399.28   \n",
       "\n",
       "   secondary_cleaner.state.floatbank2_a_air  \\\n",
       "0                                     24.94   \n",
       "1                                     24.92   \n",
       "2                                     24.91   \n",
       "3                                     24.89   \n",
       "4                                     24.89   \n",
       "\n",
       "   secondary_cleaner.state.floatbank2_a_level  \\\n",
       "0                                     -500.49   \n",
       "1                                     -499.81   \n",
       "2                                     -500.30   \n",
       "3                                     -499.38   \n",
       "4                                     -499.36   \n",
       "\n",
       "   secondary_cleaner.state.floatbank2_b_air  \\\n",
       "0                                     14.95   \n",
       "1                                     14.93   \n",
       "2                                     15.00   \n",
       "3                                     14.92   \n",
       "4                                     14.98   \n",
       "\n",
       "   secondary_cleaner.state.floatbank2_b_level  \\\n",
       "0                                     -500.01   \n",
       "1                                     -500.76   \n",
       "2                                     -500.99   \n",
       "3                                     -499.86   \n",
       "4                                     -500.19   \n",
       "\n",
       "   secondary_cleaner.state.floatbank3_a_air  \\\n",
       "0                                     20.02   \n",
       "1                                     19.99   \n",
       "2                                     20.04   \n",
       "3                                     20.03   \n",
       "4                                     19.96   \n",
       "\n",
       "   secondary_cleaner.state.floatbank3_a_level  \\\n",
       "0                                     -450.40   \n",
       "1                                     -450.11   \n",
       "2                                     -450.26   \n",
       "3                                     -449.37   \n",
       "4                                     -450.64   \n",
       "\n",
       "   secondary_cleaner.state.floatbank3_b_air  \\\n",
       "0                                     13.99   \n",
       "1                                     14.09   \n",
       "2                                     14.08   \n",
       "3                                     14.01   \n",
       "4                                     14.01   \n",
       "\n",
       "   secondary_cleaner.state.floatbank3_b_level  \\\n",
       "0                                     -449.83   \n",
       "1                                     -450.06   \n",
       "2                                     -449.66   \n",
       "3                                     -449.53   \n",
       "4                                     -450.02   \n",
       "\n",
       "   secondary_cleaner.state.floatbank4_a_air  \\\n",
       "0                                     12.02   \n",
       "1                                     12.06   \n",
       "2                                     11.96   \n",
       "3                                     12.03   \n",
       "4                                     12.03   \n",
       "\n",
       "   secondary_cleaner.state.floatbank4_a_level  \\\n",
       "0                                     -497.80   \n",
       "1                                     -498.70   \n",
       "2                                     -498.77   \n",
       "3                                     -498.35   \n",
       "4                                     -500.79   \n",
       "\n",
       "   secondary_cleaner.state.floatbank4_b_air  \\\n",
       "0                                      8.02   \n",
       "1                                      8.13   \n",
       "2                                      8.10   \n",
       "3                                      8.07   \n",
       "4                                      8.05   \n",
       "\n",
       "   secondary_cleaner.state.floatbank4_b_level  \\\n",
       "0                                     -501.29   \n",
       "1                                     -499.63   \n",
       "2                                     -500.83   \n",
       "3                                     -499.47   \n",
       "4                                     -500.40   \n",
       "\n",
       "   secondary_cleaner.state.floatbank5_a_air  \\\n",
       "0                                      7.95   \n",
       "1                                      7.96   \n",
       "2                                      8.07   \n",
       "3                                      7.90   \n",
       "4                                      8.11   \n",
       "\n",
       "   secondary_cleaner.state.floatbank5_a_level  \\\n",
       "0                                     -432.32   \n",
       "1                                     -525.84   \n",
       "2                                     -500.80   \n",
       "3                                     -500.87   \n",
       "4                                     -509.53   \n",
       "\n",
       "   secondary_cleaner.state.floatbank5_b_air  \\\n",
       "0                                      4.87   \n",
       "1                                      4.88   \n",
       "2                                      4.91   \n",
       "3                                      4.93   \n",
       "4                                      4.96   \n",
       "\n",
       "   secondary_cleaner.state.floatbank5_b_level  \\\n",
       "0                                     -500.04   \n",
       "1                                     -500.16   \n",
       "2                                     -499.83   \n",
       "3                                     -499.96   \n",
       "4                                     -500.36   \n",
       "\n",
       "   secondary_cleaner.state.floatbank6_a_air  \\\n",
       "0                                     26.71   \n",
       "1                                     25.02   \n",
       "2                                     24.99   \n",
       "3                                     24.95   \n",
       "4                                     25.00   \n",
       "\n",
       "   secondary_cleaner.state.floatbank6_a_level  \n",
       "0                                     -499.71  \n",
       "1                                     -499.82  \n",
       "2                                     -500.62  \n",
       "3                                     -498.71  \n",
       "4                                     -500.86  "
      ]
     },
     "execution_count": 6,
     "metadata": {},
     "output_type": "execute_result"
    }
   ],
   "source": [
    "# откроем файл с тестовой выборкой и запишем в переменную test\n",
    "try:\n",
    "    test = pd.read_csv('/datasets/gold_recovery_test_new.csv')\n",
    "except:\n",
    "    test = pd.read_csv('https://code.s3.yandex.net//datasets/gold_recovery_test_new.csv')\n",
    "test.head()"
   ]
  },
  {
   "cell_type": "code",
   "execution_count": 7,
   "metadata": {},
   "outputs": [
    {
     "name": "stdout",
     "output_type": "stream",
     "text": [
      "<class 'pandas.core.frame.DataFrame'>\n",
      "RangeIndex: 5290 entries, 0 to 5289\n",
      "Data columns (total 53 columns):\n",
      " #   Column                                      Non-Null Count  Dtype  \n",
      "---  ------                                      --------------  -----  \n",
      " 0   date                                        5290 non-null   object \n",
      " 1   primary_cleaner.input.sulfate               5286 non-null   float64\n",
      " 2   primary_cleaner.input.depressant            5285 non-null   float64\n",
      " 3   primary_cleaner.input.feed_size             5290 non-null   float64\n",
      " 4   primary_cleaner.input.xanthate              5286 non-null   float64\n",
      " 5   primary_cleaner.state.floatbank8_a_air      5290 non-null   float64\n",
      " 6   primary_cleaner.state.floatbank8_a_level    5290 non-null   float64\n",
      " 7   primary_cleaner.state.floatbank8_b_air      5290 non-null   float64\n",
      " 8   primary_cleaner.state.floatbank8_b_level    5290 non-null   float64\n",
      " 9   primary_cleaner.state.floatbank8_c_air      5290 non-null   float64\n",
      " 10  primary_cleaner.state.floatbank8_c_level    5290 non-null   float64\n",
      " 11  primary_cleaner.state.floatbank8_d_air      5290 non-null   float64\n",
      " 12  primary_cleaner.state.floatbank8_d_level    5290 non-null   float64\n",
      " 13  rougher.input.feed_ag                       5290 non-null   float64\n",
      " 14  rougher.input.feed_pb                       5290 non-null   float64\n",
      " 15  rougher.input.feed_rate                     5287 non-null   float64\n",
      " 16  rougher.input.feed_size                     5289 non-null   float64\n",
      " 17  rougher.input.feed_sol                      5269 non-null   float64\n",
      " 18  rougher.input.feed_au                       5290 non-null   float64\n",
      " 19  rougher.input.floatbank10_sulfate           5285 non-null   float64\n",
      " 20  rougher.input.floatbank10_xanthate          5290 non-null   float64\n",
      " 21  rougher.input.floatbank11_sulfate           5282 non-null   float64\n",
      " 22  rougher.input.floatbank11_xanthate          5265 non-null   float64\n",
      " 23  rougher.state.floatbank10_a_air             5290 non-null   float64\n",
      " 24  rougher.state.floatbank10_a_level           5290 non-null   float64\n",
      " 25  rougher.state.floatbank10_b_air             5290 non-null   float64\n",
      " 26  rougher.state.floatbank10_b_level           5290 non-null   float64\n",
      " 27  rougher.state.floatbank10_c_air             5290 non-null   float64\n",
      " 28  rougher.state.floatbank10_c_level           5290 non-null   float64\n",
      " 29  rougher.state.floatbank10_d_air             5290 non-null   float64\n",
      " 30  rougher.state.floatbank10_d_level           5290 non-null   float64\n",
      " 31  rougher.state.floatbank10_e_air             5290 non-null   float64\n",
      " 32  rougher.state.floatbank10_e_level           5290 non-null   float64\n",
      " 33  rougher.state.floatbank10_f_air             5290 non-null   float64\n",
      " 34  rougher.state.floatbank10_f_level           5290 non-null   float64\n",
      " 35  secondary_cleaner.state.floatbank2_a_air    5287 non-null   float64\n",
      " 36  secondary_cleaner.state.floatbank2_a_level  5290 non-null   float64\n",
      " 37  secondary_cleaner.state.floatbank2_b_air    5288 non-null   float64\n",
      " 38  secondary_cleaner.state.floatbank2_b_level  5290 non-null   float64\n",
      " 39  secondary_cleaner.state.floatbank3_a_air    5281 non-null   float64\n",
      " 40  secondary_cleaner.state.floatbank3_a_level  5290 non-null   float64\n",
      " 41  secondary_cleaner.state.floatbank3_b_air    5290 non-null   float64\n",
      " 42  secondary_cleaner.state.floatbank3_b_level  5290 non-null   float64\n",
      " 43  secondary_cleaner.state.floatbank4_a_air    5290 non-null   float64\n",
      " 44  secondary_cleaner.state.floatbank4_a_level  5290 non-null   float64\n",
      " 45  secondary_cleaner.state.floatbank4_b_air    5290 non-null   float64\n",
      " 46  secondary_cleaner.state.floatbank4_b_level  5290 non-null   float64\n",
      " 47  secondary_cleaner.state.floatbank5_a_air    5290 non-null   float64\n",
      " 48  secondary_cleaner.state.floatbank5_a_level  5290 non-null   float64\n",
      " 49  secondary_cleaner.state.floatbank5_b_air    5290 non-null   float64\n",
      " 50  secondary_cleaner.state.floatbank5_b_level  5290 non-null   float64\n",
      " 51  secondary_cleaner.state.floatbank6_a_air    5290 non-null   float64\n",
      " 52  secondary_cleaner.state.floatbank6_a_level  5290 non-null   float64\n",
      "dtypes: float64(52), object(1)\n",
      "memory usage: 2.1+ MB\n"
     ]
    }
   ],
   "source": [
    "# выведем общую информацию \n",
    "test.info()"
   ]
  },
  {
   "cell_type": "code",
   "execution_count": 8,
   "metadata": {},
   "outputs": [
    {
     "data": {
      "text/plain": [
       "0"
      ]
     },
     "execution_count": 8,
     "metadata": {},
     "output_type": "execute_result"
    }
   ],
   "source": [
    "# проверим, есть ли в датасете явные дубликаты\n",
    "data.duplicated().sum()"
   ]
  },
  {
   "cell_type": "code",
   "execution_count": 9,
   "metadata": {},
   "outputs": [
    {
     "data": {
      "text/plain": [
       "0"
      ]
     },
     "execution_count": 9,
     "metadata": {},
     "output_type": "execute_result"
    }
   ],
   "source": [
    "# проверим, есть ли в датасете явные дубликаты\n",
    "train.duplicated().sum()"
   ]
  },
  {
   "cell_type": "code",
   "execution_count": 10,
   "metadata": {},
   "outputs": [
    {
     "data": {
      "text/plain": [
       "0"
      ]
     },
     "execution_count": 10,
     "metadata": {},
     "output_type": "execute_result"
    }
   ],
   "source": [
    "# проверим, есть ли в датасете явные дубликаты\n",
    "test.duplicated().sum()"
   ]
  },
  {
   "cell_type": "markdown",
   "metadata": {},
   "source": [
    "В данных нет проблем с названиями столбцов, дубликатами и типами данных, кроме первого столбца с датой. Есть небольшое количество пропусков."
   ]
  },
  {
   "cell_type": "markdown",
   "metadata": {},
   "source": [
    "### Проверим правильность расчета эффективности обогащения"
   ]
  },
  {
   "cell_type": "markdown",
   "metadata": {},
   "source": [
    "Для этого вычислим эффективность обогащения на обучающей выборке. Создадим столбец с рассчитанными значениями, затем посчитаем среднюю абсолютную ошибку для сравнения с имеющимися значениями (rougher.output.recovery).\n",
    "В формуле С (доля золота в концентрате после флотации) это столбец rougher.output.concentrate_au, F (доля золота в сырье до очистки) это rougher.input.feed_au, а T (доля золота в отвальных хвостах после очистки) это rougher.output.tail_au. "
   ]
  },
  {
   "cell_type": "code",
   "execution_count": 11,
   "metadata": {},
   "outputs": [
    {
     "data": {
      "text/plain": [
       "0       87.11\n",
       "1       86.84\n",
       "2       86.84\n",
       "3       87.23\n",
       "4       86.69\n",
       "         ... \n",
       "14144   89.57\n",
       "14145   87.72\n",
       "14146   88.89\n",
       "14147   89.86\n",
       "14148   89.51\n",
       "Name: counted_recovery, Length: 14149, dtype: float64"
      ]
     },
     "execution_count": 11,
     "metadata": {},
     "output_type": "execute_result"
    }
   ],
   "source": [
    "# сохраним результат, рассчитанный по формуле, в новый столбец\n",
    "train['counted_recovery'] = train['rougher.output.concentrate_au'] * (train['rougher.input.feed_au'] -\n",
    "    train['rougher.output.tail_au']) / (train['rougher.input.feed_au'] * (train['rougher.output.concentrate_au'] - \n",
    "    train['rougher.output.tail_au'])) * 100\n",
    "train['counted_recovery']"
   ]
  },
  {
   "cell_type": "code",
   "execution_count": 12,
   "metadata": {},
   "outputs": [
    {
     "data": {
      "text/plain": [
       "9.73512347450521e-15"
      ]
     },
     "execution_count": 12,
     "metadata": {},
     "output_type": "execute_result"
    }
   ],
   "source": [
    "# выведем MAE\n",
    "mean_absolute_error(train['counted_recovery'], train['rougher.output.recovery'])"
   ]
  },
  {
   "cell_type": "code",
   "execution_count": 13,
   "metadata": {},
   "outputs": [
    {
     "data": {
      "text/plain": [
       "82.70450164550293"
      ]
     },
     "execution_count": 13,
     "metadata": {},
     "output_type": "execute_result"
    }
   ],
   "source": [
    "# выведем среднее для понимания порядка значений\n",
    "train['rougher.output.recovery'].mean()"
   ]
  },
  {
   "cell_type": "markdown",
   "metadata": {},
   "source": [
    "Будем считать, что эффективность обогащения рассчитана верно, ошибка совсем небольшая."
   ]
  },
  {
   "cell_type": "markdown",
   "metadata": {},
   "source": [
    "### Анализ признаков, недоступных в тестовой выборке"
   ]
  },
  {
   "cell_type": "markdown",
   "metadata": {},
   "source": [
    "В исходной и обучающей выборках по 87 столбцов, в тестовой - 53. Выведем не попавшие в тестовую выборку столбцы."
   ]
  },
  {
   "cell_type": "code",
   "execution_count": 14,
   "metadata": {},
   "outputs": [
    {
     "name": "stdout",
     "output_type": "stream",
     "text": [
      "final.output.concentrate_ag\n",
      "final.output.concentrate_pb\n",
      "final.output.concentrate_sol\n",
      "final.output.concentrate_au\n",
      "final.output.recovery\n",
      "final.output.tail_ag\n",
      "final.output.tail_pb\n",
      "final.output.tail_sol\n",
      "final.output.tail_au\n",
      "primary_cleaner.output.concentrate_ag\n",
      "primary_cleaner.output.concentrate_pb\n",
      "primary_cleaner.output.concentrate_sol\n",
      "primary_cleaner.output.concentrate_au\n",
      "primary_cleaner.output.tail_ag\n",
      "primary_cleaner.output.tail_pb\n",
      "primary_cleaner.output.tail_sol\n",
      "primary_cleaner.output.tail_au\n",
      "rougher.calculation.sulfate_to_au_concentrate\n",
      "rougher.calculation.floatbank10_sulfate_to_au_feed\n",
      "rougher.calculation.floatbank11_sulfate_to_au_feed\n",
      "rougher.calculation.au_pb_ratio\n",
      "rougher.output.concentrate_ag\n",
      "rougher.output.concentrate_pb\n",
      "rougher.output.concentrate_sol\n",
      "rougher.output.concentrate_au\n",
      "rougher.output.recovery\n",
      "rougher.output.tail_ag\n",
      "rougher.output.tail_pb\n",
      "rougher.output.tail_sol\n",
      "rougher.output.tail_au\n",
      "secondary_cleaner.output.tail_ag\n",
      "secondary_cleaner.output.tail_pb\n",
      "secondary_cleaner.output.tail_sol\n",
      "secondary_cleaner.output.tail_au\n",
      "counted_recovery\n"
     ]
    }
   ],
   "source": [
    "# сравним названия столбцов тестовой выборки со столбцами обучающей, выведем отсутствующие\n",
    "for i in train:\n",
    "    if i not in test.columns:\n",
    "        print(i)"
   ]
  },
  {
   "cell_type": "code",
   "execution_count": 15,
   "metadata": {},
   "outputs": [
    {
     "data": {
      "text/plain": [
       "(5290, 53)"
      ]
     },
     "execution_count": 15,
     "metadata": {},
     "output_type": "execute_result"
    }
   ],
   "source": [
    "test.shape"
   ]
  },
  {
   "cell_type": "markdown",
   "metadata": {},
   "source": [
    "Итак, в тестовой выборке нет финальных характеристик, концентраций продуктов и отвальных хвостов на этапах флотации, первичной и вторичной очистки. Также нет расчетных характеристик и целевых признаков, которые нам нужно предсказать. Это числовые значения типа float64.\n",
    "Некоторые параметры в тестовой выборке недоступны, потому что замеряются и/или рассчитываются значительно позже. Из-за этого в тестовой выборке отсутствуют некоторые признаки, которые могут быть в обучающей.  Online-метрики вычисляются по данным, собираемым с работающей системы, вероятно, поэтому их и нет в тестовой выборке. "
   ]
  },
  {
   "cell_type": "markdown",
   "metadata": {},
   "source": [
    "### Предобработка данных"
   ]
  },
  {
   "cell_type": "code",
   "execution_count": 16,
   "metadata": {},
   "outputs": [
    {
     "data": {
      "text/plain": [
       "date                                           0\n",
       "rougher.state.floatbank10_f_level              0\n",
       "rougher.output.concentrate_pb                  0\n",
       "rougher.state.floatbank10_f_air                0\n",
       "rougher.state.floatbank10_e_level              0\n",
       "                                            ... \n",
       "secondary_cleaner.state.floatbank2_a_air     220\n",
       "primary_cleaner.output.concentrate_sol       370\n",
       "rougher.state.floatbank10_e_air              436\n",
       "rougher.input.floatbank11_xanthate           453\n",
       "secondary_cleaner.output.tail_sol           1748\n",
       "Length: 87, dtype: int64"
      ]
     },
     "execution_count": 16,
     "metadata": {},
     "output_type": "execute_result"
    }
   ],
   "source": [
    "# выведем количество пропусков в исходном датасете\n",
    "data.isna().sum().sort_values()"
   ]
  },
  {
   "cell_type": "code",
   "execution_count": 17,
   "metadata": {},
   "outputs": [
    {
     "data": {
      "text/plain": [
       "primary_cleaner.state.floatbank8_d_air     0.02\n",
       "primary_cleaner.output.tail_ag             0.02\n",
       "primary_cleaner.state.floatbank8_b_air     0.02\n",
       "primary_cleaner.state.floatbank8_a_air     0.02\n",
       "final.output.tail_sol                      0.03\n",
       "secondary_cleaner.state.floatbank4_a_air   0.03\n",
       "rougher.input.floatbank10_xanthate         0.04\n",
       "rougher.input.feed_rate                    0.06\n",
       "secondary_cleaner.output.tail_pb           0.06\n",
       "secondary_cleaner.state.floatbank3_a_air   0.07\n",
       "primary_cleaner.output.tail_pb             0.11\n",
       "rougher.output.concentrate_sol             0.12\n",
       "secondary_cleaner.state.floatbank2_b_air   0.12\n",
       "primary_cleaner.input.sulfate              0.12\n",
       "rougher.input.floatbank10_sulfate          0.17\n",
       "primary_cleaner.input.depressant           0.19\n",
       "rougher.input.floatbank11_sulfate          0.23\n",
       "primary_cleaner.output.tail_sol            0.32\n",
       "rougher.input.feed_sol                     0.51\n",
       "rougher.input.feed_pb                      0.51\n",
       "final.output.tail_pb                       0.52\n",
       "primary_cleaner.input.xanthate             0.54\n",
       "primary_cleaner.output.concentrate_pb      0.60\n",
       "rougher.input.feed_size                    0.75\n",
       "final.output.concentrate_sol               1.09\n",
       "secondary_cleaner.state.floatbank2_a_air   1.13\n",
       "primary_cleaner.output.concentrate_sol     1.90\n",
       "rougher.state.floatbank10_e_air            2.24\n",
       "rougher.input.floatbank11_xanthate         2.33\n",
       "secondary_cleaner.output.tail_sol          8.99\n",
       "dtype: float64"
      ]
     },
     "execution_count": 17,
     "metadata": {},
     "output_type": "execute_result"
    }
   ],
   "source": [
    "# выведем процент пропусков\n",
    "(data.isna().sum() / data.shape[0] * 100).sort_values().tail(30)"
   ]
  },
  {
   "cell_type": "markdown",
   "metadata": {},
   "source": [
    "В большом количестве столбцов присутствуют пропуски. Больше всего пропусков в столбце secondary_cleaner.output.tail_sol. Пропуски могли возникнуть по причине технического сбоя или человеческого фактора. Возможно, не все параметры есть возможность измерить в каждый момент времени."
   ]
  },
  {
   "cell_type": "code",
   "execution_count": 18,
   "metadata": {},
   "outputs": [
    {
     "name": "stdout",
     "output_type": "stream",
     "text": [
      "0\n"
     ]
    },
    {
     "data": {
      "text/plain": [
       "0"
      ]
     },
     "execution_count": 18,
     "metadata": {},
     "output_type": "execute_result"
    }
   ],
   "source": [
    "# проверим, есть ли пропуски в обучающей выборке в столбцах, которые мы должны предсказать\n",
    "print(train['rougher.output.recovery'].isna().sum())\n",
    "train['final.output.recovery'].isna().sum()"
   ]
  },
  {
   "cell_type": "markdown",
   "metadata": {},
   "source": [
    "В самых нужных столбцах для обучения модели пропусков нет, это хорошо. Мы не будем обрабатывать все пропуски, поскольку для обучения модели понадобятся не все столбцы. "
   ]
  },
  {
   "cell_type": "code",
   "execution_count": 19,
   "metadata": {},
   "outputs": [
    {
     "data": {
      "text/html": [
       "<div>\n",
       "<style scoped>\n",
       "    .dataframe tbody tr th:only-of-type {\n",
       "        vertical-align: middle;\n",
       "    }\n",
       "\n",
       "    .dataframe tbody tr th {\n",
       "        vertical-align: top;\n",
       "    }\n",
       "\n",
       "    .dataframe thead th {\n",
       "        text-align: right;\n",
       "    }\n",
       "</style>\n",
       "<table border=\"1\" class=\"dataframe\">\n",
       "  <thead>\n",
       "    <tr style=\"text-align: right;\">\n",
       "      <th></th>\n",
       "      <th>final.output.concentrate_ag</th>\n",
       "      <th>final.output.concentrate_pb</th>\n",
       "      <th>final.output.concentrate_sol</th>\n",
       "      <th>final.output.concentrate_au</th>\n",
       "      <th>final.output.recovery</th>\n",
       "      <th>final.output.tail_ag</th>\n",
       "      <th>final.output.tail_pb</th>\n",
       "      <th>final.output.tail_sol</th>\n",
       "      <th>final.output.tail_au</th>\n",
       "      <th>primary_cleaner.input.sulfate</th>\n",
       "      <th>primary_cleaner.input.depressant</th>\n",
       "      <th>primary_cleaner.input.feed_size</th>\n",
       "      <th>primary_cleaner.input.xanthate</th>\n",
       "      <th>primary_cleaner.output.concentrate_ag</th>\n",
       "      <th>primary_cleaner.output.concentrate_pb</th>\n",
       "      <th>primary_cleaner.output.concentrate_sol</th>\n",
       "      <th>primary_cleaner.output.concentrate_au</th>\n",
       "      <th>primary_cleaner.output.tail_ag</th>\n",
       "      <th>primary_cleaner.output.tail_pb</th>\n",
       "      <th>primary_cleaner.output.tail_sol</th>\n",
       "      <th>primary_cleaner.output.tail_au</th>\n",
       "      <th>primary_cleaner.state.floatbank8_a_air</th>\n",
       "      <th>primary_cleaner.state.floatbank8_a_level</th>\n",
       "      <th>primary_cleaner.state.floatbank8_b_air</th>\n",
       "      <th>primary_cleaner.state.floatbank8_b_level</th>\n",
       "      <th>primary_cleaner.state.floatbank8_c_air</th>\n",
       "      <th>primary_cleaner.state.floatbank8_c_level</th>\n",
       "      <th>primary_cleaner.state.floatbank8_d_air</th>\n",
       "      <th>primary_cleaner.state.floatbank8_d_level</th>\n",
       "      <th>rougher.calculation.sulfate_to_au_concentrate</th>\n",
       "      <th>rougher.calculation.floatbank10_sulfate_to_au_feed</th>\n",
       "      <th>rougher.calculation.floatbank11_sulfate_to_au_feed</th>\n",
       "      <th>rougher.calculation.au_pb_ratio</th>\n",
       "      <th>rougher.input.feed_ag</th>\n",
       "      <th>rougher.input.feed_pb</th>\n",
       "      <th>rougher.input.feed_rate</th>\n",
       "      <th>rougher.input.feed_size</th>\n",
       "      <th>rougher.input.feed_sol</th>\n",
       "      <th>rougher.input.feed_au</th>\n",
       "      <th>rougher.input.floatbank10_sulfate</th>\n",
       "      <th>rougher.input.floatbank10_xanthate</th>\n",
       "      <th>rougher.input.floatbank11_sulfate</th>\n",
       "      <th>rougher.input.floatbank11_xanthate</th>\n",
       "      <th>rougher.output.concentrate_ag</th>\n",
       "      <th>rougher.output.concentrate_pb</th>\n",
       "      <th>rougher.output.concentrate_sol</th>\n",
       "      <th>rougher.output.concentrate_au</th>\n",
       "      <th>rougher.output.recovery</th>\n",
       "      <th>rougher.output.tail_ag</th>\n",
       "      <th>rougher.output.tail_pb</th>\n",
       "      <th>rougher.output.tail_sol</th>\n",
       "      <th>rougher.output.tail_au</th>\n",
       "      <th>rougher.state.floatbank10_a_air</th>\n",
       "      <th>rougher.state.floatbank10_a_level</th>\n",
       "      <th>rougher.state.floatbank10_b_air</th>\n",
       "      <th>rougher.state.floatbank10_b_level</th>\n",
       "      <th>rougher.state.floatbank10_c_air</th>\n",
       "      <th>rougher.state.floatbank10_c_level</th>\n",
       "      <th>rougher.state.floatbank10_d_air</th>\n",
       "      <th>rougher.state.floatbank10_d_level</th>\n",
       "      <th>rougher.state.floatbank10_e_air</th>\n",
       "      <th>rougher.state.floatbank10_e_level</th>\n",
       "      <th>rougher.state.floatbank10_f_air</th>\n",
       "      <th>rougher.state.floatbank10_f_level</th>\n",
       "      <th>secondary_cleaner.output.tail_ag</th>\n",
       "      <th>secondary_cleaner.output.tail_pb</th>\n",
       "      <th>secondary_cleaner.output.tail_sol</th>\n",
       "      <th>secondary_cleaner.output.tail_au</th>\n",
       "      <th>secondary_cleaner.state.floatbank2_a_air</th>\n",
       "      <th>secondary_cleaner.state.floatbank2_a_level</th>\n",
       "      <th>secondary_cleaner.state.floatbank2_b_air</th>\n",
       "      <th>secondary_cleaner.state.floatbank2_b_level</th>\n",
       "      <th>secondary_cleaner.state.floatbank3_a_air</th>\n",
       "      <th>secondary_cleaner.state.floatbank3_a_level</th>\n",
       "      <th>secondary_cleaner.state.floatbank3_b_air</th>\n",
       "      <th>secondary_cleaner.state.floatbank3_b_level</th>\n",
       "      <th>secondary_cleaner.state.floatbank4_a_air</th>\n",
       "      <th>secondary_cleaner.state.floatbank4_a_level</th>\n",
       "      <th>secondary_cleaner.state.floatbank4_b_air</th>\n",
       "      <th>secondary_cleaner.state.floatbank4_b_level</th>\n",
       "      <th>secondary_cleaner.state.floatbank5_a_air</th>\n",
       "      <th>secondary_cleaner.state.floatbank5_a_level</th>\n",
       "      <th>secondary_cleaner.state.floatbank5_b_air</th>\n",
       "      <th>secondary_cleaner.state.floatbank5_b_level</th>\n",
       "      <th>secondary_cleaner.state.floatbank6_a_air</th>\n",
       "      <th>secondary_cleaner.state.floatbank6_a_level</th>\n",
       "    </tr>\n",
       "  </thead>\n",
       "  <tbody>\n",
       "    <tr>\n",
       "      <th>count</th>\n",
       "      <td>19,438.00</td>\n",
       "      <td>19,438.00</td>\n",
       "      <td>19,228.00</td>\n",
       "      <td>19,439.00</td>\n",
       "      <td>19,439.00</td>\n",
       "      <td>19,438.00</td>\n",
       "      <td>19,338.00</td>\n",
       "      <td>19,433.00</td>\n",
       "      <td>19,439.00</td>\n",
       "      <td>19,415.00</td>\n",
       "      <td>19,402.00</td>\n",
       "      <td>19,439.00</td>\n",
       "      <td>19,335.00</td>\n",
       "      <td>19,439.00</td>\n",
       "      <td>19,323.00</td>\n",
       "      <td>19,069.00</td>\n",
       "      <td>19,439.00</td>\n",
       "      <td>19,435.00</td>\n",
       "      <td>19,418.00</td>\n",
       "      <td>19,377.00</td>\n",
       "      <td>19,439.00</td>\n",
       "      <td>19,435.00</td>\n",
       "      <td>19,438.00</td>\n",
       "      <td>19,435.00</td>\n",
       "      <td>19,438.00</td>\n",
       "      <td>19,437.00</td>\n",
       "      <td>19,438.00</td>\n",
       "      <td>19,436.00</td>\n",
       "      <td>19,438.00</td>\n",
       "      <td>19,437.00</td>\n",
       "      <td>19,437.00</td>\n",
       "      <td>19,437.00</td>\n",
       "      <td>19,439.00</td>\n",
       "      <td>19,439.00</td>\n",
       "      <td>19,339.00</td>\n",
       "      <td>19,428.00</td>\n",
       "      <td>19,294.00</td>\n",
       "      <td>19,340.00</td>\n",
       "      <td>19,439.00</td>\n",
       "      <td>19,405.00</td>\n",
       "      <td>19,431.00</td>\n",
       "      <td>19,395.00</td>\n",
       "      <td>18,986.00</td>\n",
       "      <td>19,439.00</td>\n",
       "      <td>19,439.00</td>\n",
       "      <td>19,416.00</td>\n",
       "      <td>19,439.00</td>\n",
       "      <td>19,439.00</td>\n",
       "      <td>19,438.00</td>\n",
       "      <td>19,439.00</td>\n",
       "      <td>19,439.00</td>\n",
       "      <td>19,439.00</td>\n",
       "      <td>19,438.00</td>\n",
       "      <td>19,438.00</td>\n",
       "      <td>19,438.00</td>\n",
       "      <td>19,438.00</td>\n",
       "      <td>19,438.00</td>\n",
       "      <td>19,438.00</td>\n",
       "      <td>19,439.00</td>\n",
       "      <td>19,439.00</td>\n",
       "      <td>19,003.00</td>\n",
       "      <td>19,439.00</td>\n",
       "      <td>19,439.00</td>\n",
       "      <td>19,439.00</td>\n",
       "      <td>19,437.00</td>\n",
       "      <td>19,427.00</td>\n",
       "      <td>17,691.00</td>\n",
       "      <td>19,439.00</td>\n",
       "      <td>19,219.00</td>\n",
       "      <td>19,438.00</td>\n",
       "      <td>19,416.00</td>\n",
       "      <td>19,438.00</td>\n",
       "      <td>19,426.00</td>\n",
       "      <td>19,438.00</td>\n",
       "      <td>19,438.00</td>\n",
       "      <td>19,438.00</td>\n",
       "      <td>19,433.00</td>\n",
       "      <td>19,438.00</td>\n",
       "      <td>19,438.00</td>\n",
       "      <td>19,438.00</td>\n",
       "      <td>19,438.00</td>\n",
       "      <td>19,438.00</td>\n",
       "      <td>19,438.00</td>\n",
       "      <td>19,438.00</td>\n",
       "      <td>19,437.00</td>\n",
       "      <td>19,438.00</td>\n",
       "    </tr>\n",
       "    <tr>\n",
       "      <th>mean</th>\n",
       "      <td>5.17</td>\n",
       "      <td>9.98</td>\n",
       "      <td>9.50</td>\n",
       "      <td>44.08</td>\n",
       "      <td>67.05</td>\n",
       "      <td>9.69</td>\n",
       "      <td>2.71</td>\n",
       "      <td>10.58</td>\n",
       "      <td>3.04</td>\n",
       "      <td>144.62</td>\n",
       "      <td>8.82</td>\n",
       "      <td>7.31</td>\n",
       "      <td>1.02</td>\n",
       "      <td>8.44</td>\n",
       "      <td>9.83</td>\n",
       "      <td>10.49</td>\n",
       "      <td>32.12</td>\n",
       "      <td>16.15</td>\n",
       "      <td>3.44</td>\n",
       "      <td>7.97</td>\n",
       "      <td>3.91</td>\n",
       "      <td>1,589.35</td>\n",
       "      <td>-491.20</td>\n",
       "      <td>1,591.34</td>\n",
       "      <td>-492.19</td>\n",
       "      <td>1,586.67</td>\n",
       "      <td>-491.98</td>\n",
       "      <td>1,542.91</td>\n",
       "      <td>-488.02</td>\n",
       "      <td>42,171.19</td>\n",
       "      <td>3,393.05</td>\n",
       "      <td>3,256.85</td>\n",
       "      <td>2.42</td>\n",
       "      <td>8.79</td>\n",
       "      <td>3.60</td>\n",
       "      <td>478.32</td>\n",
       "      <td>58.97</td>\n",
       "      <td>36.70</td>\n",
       "      <td>8.27</td>\n",
       "      <td>12.33</td>\n",
       "      <td>6.02</td>\n",
       "      <td>12.06</td>\n",
       "      <td>6.07</td>\n",
       "      <td>11.99</td>\n",
       "      <td>7.61</td>\n",
       "      <td>28.81</td>\n",
       "      <td>19.77</td>\n",
       "      <td>83.33</td>\n",
       "      <td>5.59</td>\n",
       "      <td>0.65</td>\n",
       "      <td>18.06</td>\n",
       "      <td>1.82</td>\n",
       "      <td>1,105.32</td>\n",
       "      <td>-376.61</td>\n",
       "      <td>1,320.22</td>\n",
       "      <td>-467.25</td>\n",
       "      <td>1,299.97</td>\n",
       "      <td>-467.72</td>\n",
       "      <td>1,211.56</td>\n",
       "      <td>-468.24</td>\n",
       "      <td>1,080.87</td>\n",
       "      <td>-466.04</td>\n",
       "      <td>1,025.27</td>\n",
       "      <td>-466.27</td>\n",
       "      <td>14.59</td>\n",
       "      <td>5.78</td>\n",
       "      <td>7.17</td>\n",
       "      <td>4.34</td>\n",
       "      <td>28.71</td>\n",
       "      <td>-502.37</td>\n",
       "      <td>24.11</td>\n",
       "      <td>-503.23</td>\n",
       "      <td>28.20</td>\n",
       "      <td>-486.20</td>\n",
       "      <td>22.20</td>\n",
       "      <td>-493.74</td>\n",
       "      <td>18.99</td>\n",
       "      <td>-485.89</td>\n",
       "      <td>15.01</td>\n",
       "      <td>-461.08</td>\n",
       "      <td>15.69</td>\n",
       "      <td>-488.68</td>\n",
       "      <td>12.20</td>\n",
       "      <td>-487.15</td>\n",
       "      <td>18.96</td>\n",
       "      <td>-505.44</td>\n",
       "    </tr>\n",
       "    <tr>\n",
       "      <th>std</th>\n",
       "      <td>1.37</td>\n",
       "      <td>1.67</td>\n",
       "      <td>2.79</td>\n",
       "      <td>5.13</td>\n",
       "      <td>10.13</td>\n",
       "      <td>2.33</td>\n",
       "      <td>0.95</td>\n",
       "      <td>2.87</td>\n",
       "      <td>0.92</td>\n",
       "      <td>44.46</td>\n",
       "      <td>3.29</td>\n",
       "      <td>0.61</td>\n",
       "      <td>0.51</td>\n",
       "      <td>2.05</td>\n",
       "      <td>2.56</td>\n",
       "      <td>3.91</td>\n",
       "      <td>5.63</td>\n",
       "      <td>3.55</td>\n",
       "      <td>1.39</td>\n",
       "      <td>2.21</td>\n",
       "      <td>1.59</td>\n",
       "      <td>129.00</td>\n",
       "      <td>32.43</td>\n",
       "      <td>131.81</td>\n",
       "      <td>33.79</td>\n",
       "      <td>136.11</td>\n",
       "      <td>32.71</td>\n",
       "      <td>246.20</td>\n",
       "      <td>43.96</td>\n",
       "      <td>324,362.11</td>\n",
       "      <td>4,943.85</td>\n",
       "      <td>5,781.42</td>\n",
       "      <td>0.81</td>\n",
       "      <td>1.94</td>\n",
       "      <td>1.05</td>\n",
       "      <td>105.37</td>\n",
       "      <td>21.63</td>\n",
       "      <td>5.15</td>\n",
       "      <td>1.96</td>\n",
       "      <td>3.43</td>\n",
       "      <td>1.13</td>\n",
       "      <td>3.78</td>\n",
       "      <td>1.10</td>\n",
       "      <td>2.73</td>\n",
       "      <td>1.80</td>\n",
       "      <td>5.94</td>\n",
       "      <td>3.75</td>\n",
       "      <td>14.15</td>\n",
       "      <td>1.11</td>\n",
       "      <td>0.25</td>\n",
       "      <td>3.45</td>\n",
       "      <td>0.68</td>\n",
       "      <td>160.83</td>\n",
       "      <td>93.91</td>\n",
       "      <td>176.29</td>\n",
       "      <td>54.67</td>\n",
       "      <td>202.80</td>\n",
       "      <td>53.53</td>\n",
       "      <td>204.02</td>\n",
       "      <td>53.92</td>\n",
       "      <td>172.15</td>\n",
       "      <td>57.38</td>\n",
       "      <td>164.49</td>\n",
       "      <td>57.85</td>\n",
       "      <td>4.27</td>\n",
       "      <td>2.77</td>\n",
       "      <td>3.92</td>\n",
       "      <td>2.33</td>\n",
       "      <td>5.46</td>\n",
       "      <td>53.57</td>\n",
       "      <td>5.75</td>\n",
       "      <td>56.57</td>\n",
       "      <td>6.13</td>\n",
       "      <td>54.41</td>\n",
       "      <td>5.57</td>\n",
       "      <td>43.37</td>\n",
       "      <td>5.41</td>\n",
       "      <td>47.76</td>\n",
       "      <td>4.89</td>\n",
       "      <td>67.41</td>\n",
       "      <td>5.51</td>\n",
       "      <td>34.53</td>\n",
       "      <td>5.33</td>\n",
       "      <td>38.35</td>\n",
       "      <td>5.55</td>\n",
       "      <td>37.69</td>\n",
       "    </tr>\n",
       "    <tr>\n",
       "      <th>min</th>\n",
       "      <td>0.00</td>\n",
       "      <td>0.00</td>\n",
       "      <td>0.00</td>\n",
       "      <td>0.00</td>\n",
       "      <td>0.00</td>\n",
       "      <td>0.00</td>\n",
       "      <td>0.00</td>\n",
       "      <td>0.00</td>\n",
       "      <td>0.00</td>\n",
       "      <td>0.00</td>\n",
       "      <td>0.00</td>\n",
       "      <td>1.08</td>\n",
       "      <td>0.00</td>\n",
       "      <td>0.00</td>\n",
       "      <td>0.00</td>\n",
       "      <td>0.00</td>\n",
       "      <td>0.00</td>\n",
       "      <td>0.00</td>\n",
       "      <td>0.00</td>\n",
       "      <td>0.00</td>\n",
       "      <td>0.00</td>\n",
       "      <td>0.00</td>\n",
       "      <td>-798.64</td>\n",
       "      <td>0.00</td>\n",
       "      <td>-800.00</td>\n",
       "      <td>0.00</td>\n",
       "      <td>-799.96</td>\n",
       "      <td>0.00</td>\n",
       "      <td>-799.79</td>\n",
       "      <td>-42,235,197.37</td>\n",
       "      <td>-486.60</td>\n",
       "      <td>-264.98</td>\n",
       "      <td>-0.01</td>\n",
       "      <td>0.01</td>\n",
       "      <td>0.01</td>\n",
       "      <td>0.00</td>\n",
       "      <td>0.05</td>\n",
       "      <td>0.01</td>\n",
       "      <td>0.01</td>\n",
       "      <td>0.00</td>\n",
       "      <td>0.00</td>\n",
       "      <td>0.00</td>\n",
       "      <td>0.00</td>\n",
       "      <td>0.00</td>\n",
       "      <td>0.00</td>\n",
       "      <td>0.00</td>\n",
       "      <td>0.00</td>\n",
       "      <td>0.00</td>\n",
       "      <td>0.59</td>\n",
       "      <td>0.01</td>\n",
       "      <td>10.01</td>\n",
       "      <td>0.02</td>\n",
       "      <td>-0.04</td>\n",
       "      <td>-657.95</td>\n",
       "      <td>-0.72</td>\n",
       "      <td>-650.26</td>\n",
       "      <td>-0.06</td>\n",
       "      <td>-647.54</td>\n",
       "      <td>-0.99</td>\n",
       "      <td>-648.39</td>\n",
       "      <td>-1.98</td>\n",
       "      <td>-649.44</td>\n",
       "      <td>-2.59</td>\n",
       "      <td>-649.95</td>\n",
       "      <td>0.00</td>\n",
       "      <td>0.00</td>\n",
       "      <td>0.00</td>\n",
       "      <td>0.00</td>\n",
       "      <td>0.08</td>\n",
       "      <td>-799.61</td>\n",
       "      <td>0.00</td>\n",
       "      <td>-799.87</td>\n",
       "      <td>0.00</td>\n",
       "      <td>-799.76</td>\n",
       "      <td>0.00</td>\n",
       "      <td>-809.33</td>\n",
       "      <td>0.00</td>\n",
       "      <td>-799.80</td>\n",
       "      <td>0.00</td>\n",
       "      <td>-800.84</td>\n",
       "      <td>-0.37</td>\n",
       "      <td>-797.32</td>\n",
       "      <td>0.53</td>\n",
       "      <td>-800.22</td>\n",
       "      <td>-0.08</td>\n",
       "      <td>-809.74</td>\n",
       "    </tr>\n",
       "    <tr>\n",
       "      <th>25%</th>\n",
       "      <td>4.25</td>\n",
       "      <td>9.14</td>\n",
       "      <td>7.72</td>\n",
       "      <td>43.40</td>\n",
       "      <td>63.30</td>\n",
       "      <td>8.06</td>\n",
       "      <td>2.04</td>\n",
       "      <td>8.94</td>\n",
       "      <td>2.46</td>\n",
       "      <td>114.11</td>\n",
       "      <td>6.08</td>\n",
       "      <td>6.94</td>\n",
       "      <td>0.70</td>\n",
       "      <td>7.26</td>\n",
       "      <td>8.70</td>\n",
       "      <td>7.89</td>\n",
       "      <td>30.46</td>\n",
       "      <td>14.02</td>\n",
       "      <td>2.50</td>\n",
       "      <td>6.75</td>\n",
       "      <td>2.92</td>\n",
       "      <td>1,505.06</td>\n",
       "      <td>-500.31</td>\n",
       "      <td>1,503.63</td>\n",
       "      <td>-500.44</td>\n",
       "      <td>1,500.93</td>\n",
       "      <td>-500.70</td>\n",
       "      <td>1,494.22</td>\n",
       "      <td>-500.46</td>\n",
       "      <td>40,700.95</td>\n",
       "      <td>2,611.43</td>\n",
       "      <td>2,551.44</td>\n",
       "      <td>2.04</td>\n",
       "      <td>7.24</td>\n",
       "      <td>2.89</td>\n",
       "      <td>416.53</td>\n",
       "      <td>47.44</td>\n",
       "      <td>34.21</td>\n",
       "      <td>6.85</td>\n",
       "      <td>10.00</td>\n",
       "      <td>5.40</td>\n",
       "      <td>10.00</td>\n",
       "      <td>5.40</td>\n",
       "      <td>10.63</td>\n",
       "      <td>6.73</td>\n",
       "      <td>27.22</td>\n",
       "      <td>18.80</td>\n",
       "      <td>81.04</td>\n",
       "      <td>4.89</td>\n",
       "      <td>0.48</td>\n",
       "      <td>15.82</td>\n",
       "      <td>1.40</td>\n",
       "      <td>999.66</td>\n",
       "      <td>-499.84</td>\n",
       "      <td>1,199.63</td>\n",
       "      <td>-500.20</td>\n",
       "      <td>1,151.08</td>\n",
       "      <td>-500.22</td>\n",
       "      <td>1,061.05</td>\n",
       "      <td>-500.39</td>\n",
       "      <td>998.68</td>\n",
       "      <td>-500.23</td>\n",
       "      <td>901.00</td>\n",
       "      <td>-500.52</td>\n",
       "      <td>12.64</td>\n",
       "      <td>3.86</td>\n",
       "      <td>3.85</td>\n",
       "      <td>3.18</td>\n",
       "      <td>25.05</td>\n",
       "      <td>-500.23</td>\n",
       "      <td>20.92</td>\n",
       "      <td>-500.25</td>\n",
       "      <td>24.95</td>\n",
       "      <td>-500.21</td>\n",
       "      <td>19.00</td>\n",
       "      <td>-500.12</td>\n",
       "      <td>14.98</td>\n",
       "      <td>-500.70</td>\n",
       "      <td>11.94</td>\n",
       "      <td>-500.19</td>\n",
       "      <td>10.99</td>\n",
       "      <td>-500.46</td>\n",
       "      <td>8.97</td>\n",
       "      <td>-500.13</td>\n",
       "      <td>14.98</td>\n",
       "      <td>-500.73</td>\n",
       "    </tr>\n",
       "    <tr>\n",
       "      <th>50%</th>\n",
       "      <td>5.07</td>\n",
       "      <td>10.10</td>\n",
       "      <td>9.22</td>\n",
       "      <td>45.01</td>\n",
       "      <td>68.17</td>\n",
       "      <td>9.74</td>\n",
       "      <td>2.75</td>\n",
       "      <td>10.62</td>\n",
       "      <td>2.98</td>\n",
       "      <td>143.23</td>\n",
       "      <td>8.04</td>\n",
       "      <td>7.28</td>\n",
       "      <td>0.94</td>\n",
       "      <td>8.51</td>\n",
       "      <td>10.15</td>\n",
       "      <td>10.31</td>\n",
       "      <td>32.84</td>\n",
       "      <td>15.84</td>\n",
       "      <td>3.27</td>\n",
       "      <td>8.18</td>\n",
       "      <td>3.62</td>\n",
       "      <td>1,600.60</td>\n",
       "      <td>-499.93</td>\n",
       "      <td>1,600.52</td>\n",
       "      <td>-499.96</td>\n",
       "      <td>1,600.25</td>\n",
       "      <td>-499.91</td>\n",
       "      <td>1,599.45</td>\n",
       "      <td>-499.91</td>\n",
       "      <td>44,696.48</td>\n",
       "      <td>3,018.35</td>\n",
       "      <td>2,997.22</td>\n",
       "      <td>2.31</td>\n",
       "      <td>8.59</td>\n",
       "      <td>3.53</td>\n",
       "      <td>499.42</td>\n",
       "      <td>54.61</td>\n",
       "      <td>37.20</td>\n",
       "      <td>8.13</td>\n",
       "      <td>12.00</td>\n",
       "      <td>6.01</td>\n",
       "      <td>12.00</td>\n",
       "      <td>6.10</td>\n",
       "      <td>12.10</td>\n",
       "      <td>7.74</td>\n",
       "      <td>29.84</td>\n",
       "      <td>20.28</td>\n",
       "      <td>86.19</td>\n",
       "      <td>5.77</td>\n",
       "      <td>0.62</td>\n",
       "      <td>18.11</td>\n",
       "      <td>1.81</td>\n",
       "      <td>1,001.07</td>\n",
       "      <td>-300.26</td>\n",
       "      <td>1,301.58</td>\n",
       "      <td>-499.78</td>\n",
       "      <td>1,300.21</td>\n",
       "      <td>-499.71</td>\n",
       "      <td>1,201.57</td>\n",
       "      <td>-499.53</td>\n",
       "      <td>1,050.03</td>\n",
       "      <td>-499.66</td>\n",
       "      <td>999.92</td>\n",
       "      <td>-499.47</td>\n",
       "      <td>15.64</td>\n",
       "      <td>5.34</td>\n",
       "      <td>7.69</td>\n",
       "      <td>4.07</td>\n",
       "      <td>29.10</td>\n",
       "      <td>-499.97</td>\n",
       "      <td>25.04</td>\n",
       "      <td>-500.02</td>\n",
       "      <td>27.98</td>\n",
       "      <td>-499.93</td>\n",
       "      <td>22.01</td>\n",
       "      <td>-499.98</td>\n",
       "      <td>18.02</td>\n",
       "      <td>-499.84</td>\n",
       "      <td>14.97</td>\n",
       "      <td>-499.46</td>\n",
       "      <td>15.00</td>\n",
       "      <td>-499.80</td>\n",
       "      <td>11.02</td>\n",
       "      <td>-499.94</td>\n",
       "      <td>19.96</td>\n",
       "      <td>-500.05</td>\n",
       "    </tr>\n",
       "    <tr>\n",
       "      <th>75%</th>\n",
       "      <td>5.90</td>\n",
       "      <td>11.04</td>\n",
       "      <td>10.95</td>\n",
       "      <td>46.28</td>\n",
       "      <td>72.69</td>\n",
       "      <td>11.13</td>\n",
       "      <td>3.33</td>\n",
       "      <td>12.10</td>\n",
       "      <td>3.57</td>\n",
       "      <td>175.08</td>\n",
       "      <td>11.01</td>\n",
       "      <td>7.67</td>\n",
       "      <td>1.21</td>\n",
       "      <td>9.81</td>\n",
       "      <td>11.42</td>\n",
       "      <td>13.45</td>\n",
       "      <td>35.05</td>\n",
       "      <td>18.01</td>\n",
       "      <td>4.18</td>\n",
       "      <td>9.55</td>\n",
       "      <td>4.59</td>\n",
       "      <td>1,697.66</td>\n",
       "      <td>-499.43</td>\n",
       "      <td>1,699.22</td>\n",
       "      <td>-499.37</td>\n",
       "      <td>1,699.48</td>\n",
       "      <td>-498.86</td>\n",
       "      <td>1,698.52</td>\n",
       "      <td>-499.06</td>\n",
       "      <td>48,168.21</td>\n",
       "      <td>3,676.77</td>\n",
       "      <td>3,602.00</td>\n",
       "      <td>2.73</td>\n",
       "      <td>10.21</td>\n",
       "      <td>4.24</td>\n",
       "      <td>550.17</td>\n",
       "      <td>65.02</td>\n",
       "      <td>40.04</td>\n",
       "      <td>9.77</td>\n",
       "      <td>14.72</td>\n",
       "      <td>6.80</td>\n",
       "      <td>14.64</td>\n",
       "      <td>6.80</td>\n",
       "      <td>13.74</td>\n",
       "      <td>8.57</td>\n",
       "      <td>32.19</td>\n",
       "      <td>21.72</td>\n",
       "      <td>90.01</td>\n",
       "      <td>6.39</td>\n",
       "      <td>0.78</td>\n",
       "      <td>20.09</td>\n",
       "      <td>2.21</td>\n",
       "      <td>1,205.62</td>\n",
       "      <td>-299.98</td>\n",
       "      <td>1,448.63</td>\n",
       "      <td>-400.62</td>\n",
       "      <td>1,449.46</td>\n",
       "      <td>-400.99</td>\n",
       "      <td>1,352.88</td>\n",
       "      <td>-401.64</td>\n",
       "      <td>1,199.43</td>\n",
       "      <td>-401.16</td>\n",
       "      <td>1,099.72</td>\n",
       "      <td>-401.51</td>\n",
       "      <td>17.36</td>\n",
       "      <td>7.79</td>\n",
       "      <td>10.41</td>\n",
       "      <td>5.06</td>\n",
       "      <td>33.01</td>\n",
       "      <td>-499.67</td>\n",
       "      <td>28.01</td>\n",
       "      <td>-499.79</td>\n",
       "      <td>33.00</td>\n",
       "      <td>-499.33</td>\n",
       "      <td>26.00</td>\n",
       "      <td>-499.81</td>\n",
       "      <td>23.01</td>\n",
       "      <td>-498.25</td>\n",
       "      <td>19.03</td>\n",
       "      <td>-400.12</td>\n",
       "      <td>18.03</td>\n",
       "      <td>-498.38</td>\n",
       "      <td>14.02</td>\n",
       "      <td>-499.44</td>\n",
       "      <td>24.00</td>\n",
       "      <td>-499.50</td>\n",
       "    </tr>\n",
       "    <tr>\n",
       "      <th>max</th>\n",
       "      <td>16.00</td>\n",
       "      <td>17.03</td>\n",
       "      <td>19.62</td>\n",
       "      <td>52.76</td>\n",
       "      <td>100.00</td>\n",
       "      <td>19.55</td>\n",
       "      <td>5.80</td>\n",
       "      <td>22.32</td>\n",
       "      <td>8.25</td>\n",
       "      <td>265.98</td>\n",
       "      <td>40.00</td>\n",
       "      <td>15.50</td>\n",
       "      <td>4.10</td>\n",
       "      <td>16.08</td>\n",
       "      <td>17.08</td>\n",
       "      <td>22.46</td>\n",
       "      <td>45.93</td>\n",
       "      <td>29.46</td>\n",
       "      <td>9.63</td>\n",
       "      <td>22.28</td>\n",
       "      <td>17.79</td>\n",
       "      <td>2,103.10</td>\n",
       "      <td>-57.20</td>\n",
       "      <td>2,114.91</td>\n",
       "      <td>-142.53</td>\n",
       "      <td>2,013.16</td>\n",
       "      <td>-150.94</td>\n",
       "      <td>2,398.90</td>\n",
       "      <td>-30.60</td>\n",
       "      <td>3,428,098.94</td>\n",
       "      <td>629,638.98</td>\n",
       "      <td>718,684.96</td>\n",
       "      <td>39.38</td>\n",
       "      <td>14.60</td>\n",
       "      <td>7.14</td>\n",
       "      <td>717.51</td>\n",
       "      <td>484.97</td>\n",
       "      <td>53.48</td>\n",
       "      <td>13.73</td>\n",
       "      <td>36.12</td>\n",
       "      <td>9.70</td>\n",
       "      <td>37.98</td>\n",
       "      <td>9.70</td>\n",
       "      <td>24.48</td>\n",
       "      <td>13.62</td>\n",
       "      <td>38.35</td>\n",
       "      <td>28.82</td>\n",
       "      <td>100.00</td>\n",
       "      <td>12.72</td>\n",
       "      <td>3.78</td>\n",
       "      <td>66.12</td>\n",
       "      <td>9.69</td>\n",
       "      <td>1,521.98</td>\n",
       "      <td>-273.78</td>\n",
       "      <td>1,809.19</td>\n",
       "      <td>-296.38</td>\n",
       "      <td>2,499.13</td>\n",
       "      <td>-292.16</td>\n",
       "      <td>1,817.20</td>\n",
       "      <td>-76.40</td>\n",
       "      <td>1,922.64</td>\n",
       "      <td>-139.75</td>\n",
       "      <td>1,706.31</td>\n",
       "      <td>-191.72</td>\n",
       "      <td>23.26</td>\n",
       "      <td>17.04</td>\n",
       "      <td>26.00</td>\n",
       "      <td>26.81</td>\n",
       "      <td>52.65</td>\n",
       "      <td>-127.88</td>\n",
       "      <td>35.15</td>\n",
       "      <td>-212.00</td>\n",
       "      <td>44.26</td>\n",
       "      <td>-191.68</td>\n",
       "      <td>35.07</td>\n",
       "      <td>-159.74</td>\n",
       "      <td>30.12</td>\n",
       "      <td>-245.24</td>\n",
       "      <td>31.27</td>\n",
       "      <td>-6.51</td>\n",
       "      <td>43.71</td>\n",
       "      <td>-244.48</td>\n",
       "      <td>27.93</td>\n",
       "      <td>-137.74</td>\n",
       "      <td>32.19</td>\n",
       "      <td>-104.43</td>\n",
       "    </tr>\n",
       "  </tbody>\n",
       "</table>\n",
       "</div>"
      ],
      "text/plain": [
       "       final.output.concentrate_ag  final.output.concentrate_pb  \\\n",
       "count                    19,438.00                    19,438.00   \n",
       "mean                          5.17                         9.98   \n",
       "std                           1.37                         1.67   \n",
       "min                           0.00                         0.00   \n",
       "25%                           4.25                         9.14   \n",
       "50%                           5.07                        10.10   \n",
       "75%                           5.90                        11.04   \n",
       "max                          16.00                        17.03   \n",
       "\n",
       "       final.output.concentrate_sol  final.output.concentrate_au  \\\n",
       "count                     19,228.00                    19,439.00   \n",
       "mean                           9.50                        44.08   \n",
       "std                            2.79                         5.13   \n",
       "min                            0.00                         0.00   \n",
       "25%                            7.72                        43.40   \n",
       "50%                            9.22                        45.01   \n",
       "75%                           10.95                        46.28   \n",
       "max                           19.62                        52.76   \n",
       "\n",
       "       final.output.recovery  final.output.tail_ag  final.output.tail_pb  \\\n",
       "count              19,439.00             19,438.00             19,338.00   \n",
       "mean                   67.05                  9.69                  2.71   \n",
       "std                    10.13                  2.33                  0.95   \n",
       "min                     0.00                  0.00                  0.00   \n",
       "25%                    63.30                  8.06                  2.04   \n",
       "50%                    68.17                  9.74                  2.75   \n",
       "75%                    72.69                 11.13                  3.33   \n",
       "max                   100.00                 19.55                  5.80   \n",
       "\n",
       "       final.output.tail_sol  final.output.tail_au  \\\n",
       "count              19,433.00             19,439.00   \n",
       "mean                   10.58                  3.04   \n",
       "std                     2.87                  0.92   \n",
       "min                     0.00                  0.00   \n",
       "25%                     8.94                  2.46   \n",
       "50%                    10.62                  2.98   \n",
       "75%                    12.10                  3.57   \n",
       "max                    22.32                  8.25   \n",
       "\n",
       "       primary_cleaner.input.sulfate  primary_cleaner.input.depressant  \\\n",
       "count                      19,415.00                         19,402.00   \n",
       "mean                          144.62                              8.82   \n",
       "std                            44.46                              3.29   \n",
       "min                             0.00                              0.00   \n",
       "25%                           114.11                              6.08   \n",
       "50%                           143.23                              8.04   \n",
       "75%                           175.08                             11.01   \n",
       "max                           265.98                             40.00   \n",
       "\n",
       "       primary_cleaner.input.feed_size  primary_cleaner.input.xanthate  \\\n",
       "count                        19,439.00                       19,335.00   \n",
       "mean                              7.31                            1.02   \n",
       "std                               0.61                            0.51   \n",
       "min                               1.08                            0.00   \n",
       "25%                               6.94                            0.70   \n",
       "50%                               7.28                            0.94   \n",
       "75%                               7.67                            1.21   \n",
       "max                              15.50                            4.10   \n",
       "\n",
       "       primary_cleaner.output.concentrate_ag  \\\n",
       "count                              19,439.00   \n",
       "mean                                    8.44   \n",
       "std                                     2.05   \n",
       "min                                     0.00   \n",
       "25%                                     7.26   \n",
       "50%                                     8.51   \n",
       "75%                                     9.81   \n",
       "max                                    16.08   \n",
       "\n",
       "       primary_cleaner.output.concentrate_pb  \\\n",
       "count                              19,323.00   \n",
       "mean                                    9.83   \n",
       "std                                     2.56   \n",
       "min                                     0.00   \n",
       "25%                                     8.70   \n",
       "50%                                    10.15   \n",
       "75%                                    11.42   \n",
       "max                                    17.08   \n",
       "\n",
       "       primary_cleaner.output.concentrate_sol  \\\n",
       "count                               19,069.00   \n",
       "mean                                    10.49   \n",
       "std                                      3.91   \n",
       "min                                      0.00   \n",
       "25%                                      7.89   \n",
       "50%                                     10.31   \n",
       "75%                                     13.45   \n",
       "max                                     22.46   \n",
       "\n",
       "       primary_cleaner.output.concentrate_au  primary_cleaner.output.tail_ag  \\\n",
       "count                              19,439.00                       19,435.00   \n",
       "mean                                   32.12                           16.15   \n",
       "std                                     5.63                            3.55   \n",
       "min                                     0.00                            0.00   \n",
       "25%                                    30.46                           14.02   \n",
       "50%                                    32.84                           15.84   \n",
       "75%                                    35.05                           18.01   \n",
       "max                                    45.93                           29.46   \n",
       "\n",
       "       primary_cleaner.output.tail_pb  primary_cleaner.output.tail_sol  \\\n",
       "count                       19,418.00                        19,377.00   \n",
       "mean                             3.44                             7.97   \n",
       "std                              1.39                             2.21   \n",
       "min                              0.00                             0.00   \n",
       "25%                              2.50                             6.75   \n",
       "50%                              3.27                             8.18   \n",
       "75%                              4.18                             9.55   \n",
       "max                              9.63                            22.28   \n",
       "\n",
       "       primary_cleaner.output.tail_au  primary_cleaner.state.floatbank8_a_air  \\\n",
       "count                       19,439.00                               19,435.00   \n",
       "mean                             3.91                                1,589.35   \n",
       "std                              1.59                                  129.00   \n",
       "min                              0.00                                    0.00   \n",
       "25%                              2.92                                1,505.06   \n",
       "50%                              3.62                                1,600.60   \n",
       "75%                              4.59                                1,697.66   \n",
       "max                             17.79                                2,103.10   \n",
       "\n",
       "       primary_cleaner.state.floatbank8_a_level  \\\n",
       "count                                 19,438.00   \n",
       "mean                                    -491.20   \n",
       "std                                       32.43   \n",
       "min                                     -798.64   \n",
       "25%                                     -500.31   \n",
       "50%                                     -499.93   \n",
       "75%                                     -499.43   \n",
       "max                                      -57.20   \n",
       "\n",
       "       primary_cleaner.state.floatbank8_b_air  \\\n",
       "count                               19,435.00   \n",
       "mean                                 1,591.34   \n",
       "std                                    131.81   \n",
       "min                                      0.00   \n",
       "25%                                  1,503.63   \n",
       "50%                                  1,600.52   \n",
       "75%                                  1,699.22   \n",
       "max                                  2,114.91   \n",
       "\n",
       "       primary_cleaner.state.floatbank8_b_level  \\\n",
       "count                                 19,438.00   \n",
       "mean                                    -492.19   \n",
       "std                                       33.79   \n",
       "min                                     -800.00   \n",
       "25%                                     -500.44   \n",
       "50%                                     -499.96   \n",
       "75%                                     -499.37   \n",
       "max                                     -142.53   \n",
       "\n",
       "       primary_cleaner.state.floatbank8_c_air  \\\n",
       "count                               19,437.00   \n",
       "mean                                 1,586.67   \n",
       "std                                    136.11   \n",
       "min                                      0.00   \n",
       "25%                                  1,500.93   \n",
       "50%                                  1,600.25   \n",
       "75%                                  1,699.48   \n",
       "max                                  2,013.16   \n",
       "\n",
       "       primary_cleaner.state.floatbank8_c_level  \\\n",
       "count                                 19,438.00   \n",
       "mean                                    -491.98   \n",
       "std                                       32.71   \n",
       "min                                     -799.96   \n",
       "25%                                     -500.70   \n",
       "50%                                     -499.91   \n",
       "75%                                     -498.86   \n",
       "max                                     -150.94   \n",
       "\n",
       "       primary_cleaner.state.floatbank8_d_air  \\\n",
       "count                               19,436.00   \n",
       "mean                                 1,542.91   \n",
       "std                                    246.20   \n",
       "min                                      0.00   \n",
       "25%                                  1,494.22   \n",
       "50%                                  1,599.45   \n",
       "75%                                  1,698.52   \n",
       "max                                  2,398.90   \n",
       "\n",
       "       primary_cleaner.state.floatbank8_d_level  \\\n",
       "count                                 19,438.00   \n",
       "mean                                    -488.02   \n",
       "std                                       43.96   \n",
       "min                                     -799.79   \n",
       "25%                                     -500.46   \n",
       "50%                                     -499.91   \n",
       "75%                                     -499.06   \n",
       "max                                      -30.60   \n",
       "\n",
       "       rougher.calculation.sulfate_to_au_concentrate  \\\n",
       "count                                      19,437.00   \n",
       "mean                                       42,171.19   \n",
       "std                                       324,362.11   \n",
       "min                                   -42,235,197.37   \n",
       "25%                                        40,700.95   \n",
       "50%                                        44,696.48   \n",
       "75%                                        48,168.21   \n",
       "max                                     3,428,098.94   \n",
       "\n",
       "       rougher.calculation.floatbank10_sulfate_to_au_feed  \\\n",
       "count                                          19,437.00    \n",
       "mean                                            3,393.05    \n",
       "std                                             4,943.85    \n",
       "min                                              -486.60    \n",
       "25%                                             2,611.43    \n",
       "50%                                             3,018.35    \n",
       "75%                                             3,676.77    \n",
       "max                                           629,638.98    \n",
       "\n",
       "       rougher.calculation.floatbank11_sulfate_to_au_feed  \\\n",
       "count                                          19,437.00    \n",
       "mean                                            3,256.85    \n",
       "std                                             5,781.42    \n",
       "min                                              -264.98    \n",
       "25%                                             2,551.44    \n",
       "50%                                             2,997.22    \n",
       "75%                                             3,602.00    \n",
       "max                                           718,684.96    \n",
       "\n",
       "       rougher.calculation.au_pb_ratio  rougher.input.feed_ag  \\\n",
       "count                        19,439.00              19,439.00   \n",
       "mean                              2.42                   8.79   \n",
       "std                               0.81                   1.94   \n",
       "min                              -0.01                   0.01   \n",
       "25%                               2.04                   7.24   \n",
       "50%                               2.31                   8.59   \n",
       "75%                               2.73                  10.21   \n",
       "max                              39.38                  14.60   \n",
       "\n",
       "       rougher.input.feed_pb  rougher.input.feed_rate  \\\n",
       "count              19,339.00                19,428.00   \n",
       "mean                    3.60                   478.32   \n",
       "std                     1.05                   105.37   \n",
       "min                     0.01                     0.00   \n",
       "25%                     2.89                   416.53   \n",
       "50%                     3.53                   499.42   \n",
       "75%                     4.24                   550.17   \n",
       "max                     7.14                   717.51   \n",
       "\n",
       "       rougher.input.feed_size  rougher.input.feed_sol  rougher.input.feed_au  \\\n",
       "count                19,294.00               19,340.00              19,439.00   \n",
       "mean                     58.97                   36.70                   8.27   \n",
       "std                      21.63                    5.15                   1.96   \n",
       "min                       0.05                    0.01                   0.01   \n",
       "25%                      47.44                   34.21                   6.85   \n",
       "50%                      54.61                   37.20                   8.13   \n",
       "75%                      65.02                   40.04                   9.77   \n",
       "max                     484.97                   53.48                  13.73   \n",
       "\n",
       "       rougher.input.floatbank10_sulfate  rougher.input.floatbank10_xanthate  \\\n",
       "count                          19,405.00                           19,431.00   \n",
       "mean                               12.33                                6.02   \n",
       "std                                 3.43                                1.13   \n",
       "min                                 0.00                                0.00   \n",
       "25%                                10.00                                5.40   \n",
       "50%                                12.00                                6.01   \n",
       "75%                                14.72                                6.80   \n",
       "max                                36.12                                9.70   \n",
       "\n",
       "       rougher.input.floatbank11_sulfate  rougher.input.floatbank11_xanthate  \\\n",
       "count                          19,395.00                           18,986.00   \n",
       "mean                               12.06                                6.07   \n",
       "std                                 3.78                                1.10   \n",
       "min                                 0.00                                0.00   \n",
       "25%                                10.00                                5.40   \n",
       "50%                                12.00                                6.10   \n",
       "75%                                14.64                                6.80   \n",
       "max                                37.98                                9.70   \n",
       "\n",
       "       rougher.output.concentrate_ag  rougher.output.concentrate_pb  \\\n",
       "count                      19,439.00                      19,439.00   \n",
       "mean                           11.99                           7.61   \n",
       "std                             2.73                           1.80   \n",
       "min                             0.00                           0.00   \n",
       "25%                            10.63                           6.73   \n",
       "50%                            12.10                           7.74   \n",
       "75%                            13.74                           8.57   \n",
       "max                            24.48                          13.62   \n",
       "\n",
       "       rougher.output.concentrate_sol  rougher.output.concentrate_au  \\\n",
       "count                       19,416.00                      19,439.00   \n",
       "mean                            28.81                          19.77   \n",
       "std                              5.94                           3.75   \n",
       "min                              0.00                           0.00   \n",
       "25%                             27.22                          18.80   \n",
       "50%                             29.84                          20.28   \n",
       "75%                             32.19                          21.72   \n",
       "max                             38.35                          28.82   \n",
       "\n",
       "       rougher.output.recovery  rougher.output.tail_ag  \\\n",
       "count                19,439.00               19,438.00   \n",
       "mean                     83.33                    5.59   \n",
       "std                      14.15                    1.11   \n",
       "min                       0.00                    0.59   \n",
       "25%                      81.04                    4.89   \n",
       "50%                      86.19                    5.77   \n",
       "75%                      90.01                    6.39   \n",
       "max                     100.00                   12.72   \n",
       "\n",
       "       rougher.output.tail_pb  rougher.output.tail_sol  \\\n",
       "count               19,439.00                19,439.00   \n",
       "mean                     0.65                    18.06   \n",
       "std                      0.25                     3.45   \n",
       "min                      0.01                    10.01   \n",
       "25%                      0.48                    15.82   \n",
       "50%                      0.62                    18.11   \n",
       "75%                      0.78                    20.09   \n",
       "max                      3.78                    66.12   \n",
       "\n",
       "       rougher.output.tail_au  rougher.state.floatbank10_a_air  \\\n",
       "count               19,439.00                        19,438.00   \n",
       "mean                     1.82                         1,105.32   \n",
       "std                      0.68                           160.83   \n",
       "min                      0.02                            -0.04   \n",
       "25%                      1.40                           999.66   \n",
       "50%                      1.81                         1,001.07   \n",
       "75%                      2.21                         1,205.62   \n",
       "max                      9.69                         1,521.98   \n",
       "\n",
       "       rougher.state.floatbank10_a_level  rougher.state.floatbank10_b_air  \\\n",
       "count                          19,438.00                        19,438.00   \n",
       "mean                             -376.61                         1,320.22   \n",
       "std                                93.91                           176.29   \n",
       "min                              -657.95                            -0.72   \n",
       "25%                              -499.84                         1,199.63   \n",
       "50%                              -300.26                         1,301.58   \n",
       "75%                              -299.98                         1,448.63   \n",
       "max                              -273.78                         1,809.19   \n",
       "\n",
       "       rougher.state.floatbank10_b_level  rougher.state.floatbank10_c_air  \\\n",
       "count                          19,438.00                        19,438.00   \n",
       "mean                             -467.25                         1,299.97   \n",
       "std                                54.67                           202.80   \n",
       "min                              -650.26                            -0.06   \n",
       "25%                              -500.20                         1,151.08   \n",
       "50%                              -499.78                         1,300.21   \n",
       "75%                              -400.62                         1,449.46   \n",
       "max                              -296.38                         2,499.13   \n",
       "\n",
       "       rougher.state.floatbank10_c_level  rougher.state.floatbank10_d_air  \\\n",
       "count                          19,438.00                        19,439.00   \n",
       "mean                             -467.72                         1,211.56   \n",
       "std                                53.53                           204.02   \n",
       "min                              -647.54                            -0.99   \n",
       "25%                              -500.22                         1,061.05   \n",
       "50%                              -499.71                         1,201.57   \n",
       "75%                              -400.99                         1,352.88   \n",
       "max                              -292.16                         1,817.20   \n",
       "\n",
       "       rougher.state.floatbank10_d_level  rougher.state.floatbank10_e_air  \\\n",
       "count                          19,439.00                        19,003.00   \n",
       "mean                             -468.24                         1,080.87   \n",
       "std                                53.92                           172.15   \n",
       "min                              -648.39                            -1.98   \n",
       "25%                              -500.39                           998.68   \n",
       "50%                              -499.53                         1,050.03   \n",
       "75%                              -401.64                         1,199.43   \n",
       "max                               -76.40                         1,922.64   \n",
       "\n",
       "       rougher.state.floatbank10_e_level  rougher.state.floatbank10_f_air  \\\n",
       "count                          19,439.00                        19,439.00   \n",
       "mean                             -466.04                         1,025.27   \n",
       "std                                57.38                           164.49   \n",
       "min                              -649.44                            -2.59   \n",
       "25%                              -500.23                           901.00   \n",
       "50%                              -499.66                           999.92   \n",
       "75%                              -401.16                         1,099.72   \n",
       "max                              -139.75                         1,706.31   \n",
       "\n",
       "       rougher.state.floatbank10_f_level  secondary_cleaner.output.tail_ag  \\\n",
       "count                          19,439.00                         19,437.00   \n",
       "mean                             -466.27                             14.59   \n",
       "std                                57.85                              4.27   \n",
       "min                              -649.95                              0.00   \n",
       "25%                              -500.52                             12.64   \n",
       "50%                              -499.47                             15.64   \n",
       "75%                              -401.51                             17.36   \n",
       "max                              -191.72                             23.26   \n",
       "\n",
       "       secondary_cleaner.output.tail_pb  secondary_cleaner.output.tail_sol  \\\n",
       "count                         19,427.00                          17,691.00   \n",
       "mean                               5.78                               7.17   \n",
       "std                                2.77                               3.92   \n",
       "min                                0.00                               0.00   \n",
       "25%                                3.86                               3.85   \n",
       "50%                                5.34                               7.69   \n",
       "75%                                7.79                              10.41   \n",
       "max                               17.04                              26.00   \n",
       "\n",
       "       secondary_cleaner.output.tail_au  \\\n",
       "count                         19,439.00   \n",
       "mean                               4.34   \n",
       "std                                2.33   \n",
       "min                                0.00   \n",
       "25%                                3.18   \n",
       "50%                                4.07   \n",
       "75%                                5.06   \n",
       "max                               26.81   \n",
       "\n",
       "       secondary_cleaner.state.floatbank2_a_air  \\\n",
       "count                                 19,219.00   \n",
       "mean                                      28.71   \n",
       "std                                        5.46   \n",
       "min                                        0.08   \n",
       "25%                                       25.05   \n",
       "50%                                       29.10   \n",
       "75%                                       33.01   \n",
       "max                                       52.65   \n",
       "\n",
       "       secondary_cleaner.state.floatbank2_a_level  \\\n",
       "count                                   19,438.00   \n",
       "mean                                      -502.37   \n",
       "std                                         53.57   \n",
       "min                                       -799.61   \n",
       "25%                                       -500.23   \n",
       "50%                                       -499.97   \n",
       "75%                                       -499.67   \n",
       "max                                       -127.88   \n",
       "\n",
       "       secondary_cleaner.state.floatbank2_b_air  \\\n",
       "count                                 19,416.00   \n",
       "mean                                      24.11   \n",
       "std                                        5.75   \n",
       "min                                        0.00   \n",
       "25%                                       20.92   \n",
       "50%                                       25.04   \n",
       "75%                                       28.01   \n",
       "max                                       35.15   \n",
       "\n",
       "       secondary_cleaner.state.floatbank2_b_level  \\\n",
       "count                                   19,438.00   \n",
       "mean                                      -503.23   \n",
       "std                                         56.57   \n",
       "min                                       -799.87   \n",
       "25%                                       -500.25   \n",
       "50%                                       -500.02   \n",
       "75%                                       -499.79   \n",
       "max                                       -212.00   \n",
       "\n",
       "       secondary_cleaner.state.floatbank3_a_air  \\\n",
       "count                                 19,426.00   \n",
       "mean                                      28.20   \n",
       "std                                        6.13   \n",
       "min                                        0.00   \n",
       "25%                                       24.95   \n",
       "50%                                       27.98   \n",
       "75%                                       33.00   \n",
       "max                                       44.26   \n",
       "\n",
       "       secondary_cleaner.state.floatbank3_a_level  \\\n",
       "count                                   19,438.00   \n",
       "mean                                      -486.20   \n",
       "std                                         54.41   \n",
       "min                                       -799.76   \n",
       "25%                                       -500.21   \n",
       "50%                                       -499.93   \n",
       "75%                                       -499.33   \n",
       "max                                       -191.68   \n",
       "\n",
       "       secondary_cleaner.state.floatbank3_b_air  \\\n",
       "count                                 19,438.00   \n",
       "mean                                      22.20   \n",
       "std                                        5.57   \n",
       "min                                        0.00   \n",
       "25%                                       19.00   \n",
       "50%                                       22.01   \n",
       "75%                                       26.00   \n",
       "max                                       35.07   \n",
       "\n",
       "       secondary_cleaner.state.floatbank3_b_level  \\\n",
       "count                                   19,438.00   \n",
       "mean                                      -493.74   \n",
       "std                                         43.37   \n",
       "min                                       -809.33   \n",
       "25%                                       -500.12   \n",
       "50%                                       -499.98   \n",
       "75%                                       -499.81   \n",
       "max                                       -159.74   \n",
       "\n",
       "       secondary_cleaner.state.floatbank4_a_air  \\\n",
       "count                                 19,433.00   \n",
       "mean                                      18.99   \n",
       "std                                        5.41   \n",
       "min                                        0.00   \n",
       "25%                                       14.98   \n",
       "50%                                       18.02   \n",
       "75%                                       23.01   \n",
       "max                                       30.12   \n",
       "\n",
       "       secondary_cleaner.state.floatbank4_a_level  \\\n",
       "count                                   19,438.00   \n",
       "mean                                      -485.89   \n",
       "std                                         47.76   \n",
       "min                                       -799.80   \n",
       "25%                                       -500.70   \n",
       "50%                                       -499.84   \n",
       "75%                                       -498.25   \n",
       "max                                       -245.24   \n",
       "\n",
       "       secondary_cleaner.state.floatbank4_b_air  \\\n",
       "count                                 19,438.00   \n",
       "mean                                      15.01   \n",
       "std                                        4.89   \n",
       "min                                        0.00   \n",
       "25%                                       11.94   \n",
       "50%                                       14.97   \n",
       "75%                                       19.03   \n",
       "max                                       31.27   \n",
       "\n",
       "       secondary_cleaner.state.floatbank4_b_level  \\\n",
       "count                                   19,438.00   \n",
       "mean                                      -461.08   \n",
       "std                                         67.41   \n",
       "min                                       -800.84   \n",
       "25%                                       -500.19   \n",
       "50%                                       -499.46   \n",
       "75%                                       -400.12   \n",
       "max                                         -6.51   \n",
       "\n",
       "       secondary_cleaner.state.floatbank5_a_air  \\\n",
       "count                                 19,438.00   \n",
       "mean                                      15.69   \n",
       "std                                        5.51   \n",
       "min                                       -0.37   \n",
       "25%                                       10.99   \n",
       "50%                                       15.00   \n",
       "75%                                       18.03   \n",
       "max                                       43.71   \n",
       "\n",
       "       secondary_cleaner.state.floatbank5_a_level  \\\n",
       "count                                   19,438.00   \n",
       "mean                                      -488.68   \n",
       "std                                         34.53   \n",
       "min                                       -797.32   \n",
       "25%                                       -500.46   \n",
       "50%                                       -499.80   \n",
       "75%                                       -498.38   \n",
       "max                                       -244.48   \n",
       "\n",
       "       secondary_cleaner.state.floatbank5_b_air  \\\n",
       "count                                 19,438.00   \n",
       "mean                                      12.20   \n",
       "std                                        5.33   \n",
       "min                                        0.53   \n",
       "25%                                        8.97   \n",
       "50%                                       11.02   \n",
       "75%                                       14.02   \n",
       "max                                       27.93   \n",
       "\n",
       "       secondary_cleaner.state.floatbank5_b_level  \\\n",
       "count                                   19,438.00   \n",
       "mean                                      -487.15   \n",
       "std                                         38.35   \n",
       "min                                       -800.22   \n",
       "25%                                       -500.13   \n",
       "50%                                       -499.94   \n",
       "75%                                       -499.44   \n",
       "max                                       -137.74   \n",
       "\n",
       "       secondary_cleaner.state.floatbank6_a_air  \\\n",
       "count                                 19,437.00   \n",
       "mean                                      18.96   \n",
       "std                                        5.55   \n",
       "min                                       -0.08   \n",
       "25%                                       14.98   \n",
       "50%                                       19.96   \n",
       "75%                                       24.00   \n",
       "max                                       32.19   \n",
       "\n",
       "       secondary_cleaner.state.floatbank6_a_level  \n",
       "count                                   19,438.00  \n",
       "mean                                      -505.44  \n",
       "std                                         37.69  \n",
       "min                                       -809.74  \n",
       "25%                                       -500.73  \n",
       "50%                                       -500.05  \n",
       "75%                                       -499.50  \n",
       "max                                       -104.43  "
      ]
     },
     "execution_count": 19,
     "metadata": {},
     "output_type": "execute_result"
    }
   ],
   "source": [
    "# выведем информацию по каждому численному столбцу\n",
    "data.describe()"
   ]
  },
  {
   "cell_type": "markdown",
   "metadata": {},
   "source": [
    "Аномалии в данных не замечены. У нас нет референсных значений, так что сложно делать выводы о том, есть ли аномальные значения, поэтому было принято решение ничего не удалять."
   ]
  },
  {
   "cell_type": "code",
   "execution_count": 20,
   "metadata": {},
   "outputs": [
    {
     "data": {
      "text/plain": [
       "0       2016-01-15 00:00:00\n",
       "1       2016-01-15 01:00:00\n",
       "2       2016-01-15 02:00:00\n",
       "3       2016-01-15 03:00:00\n",
       "4       2016-01-15 04:00:00\n",
       "                ...        \n",
       "19434   2018-08-18 06:59:59\n",
       "19435   2018-08-18 07:59:59\n",
       "19436   2018-08-18 08:59:59\n",
       "19437   2018-08-18 09:59:59\n",
       "19438   2018-08-18 10:59:59\n",
       "Name: date, Length: 19439, dtype: datetime64[ns]"
      ]
     },
     "execution_count": 20,
     "metadata": {},
     "output_type": "execute_result"
    }
   ],
   "source": [
    "# поменяем тип данных в столбце с датой\n",
    "data['date'] = pd.to_datetime(data['date'], format='%Y-%m-%d %H:%M:%S')\n",
    "data['date']"
   ]
  },
  {
   "cell_type": "code",
   "execution_count": 21,
   "metadata": {},
   "outputs": [],
   "source": [
    "# сделаем то же самое для тестовой и обучающей\n",
    "train['date'] = pd.to_datetime(train['date'], format='%Y-%m-%d %H:%M:%S')\n",
    "test['date'] = pd.to_datetime(test['date'], format='%Y-%m-%d %H:%M:%S')"
   ]
  },
  {
   "cell_type": "markdown",
   "metadata": {},
   "source": [
    "Для проверки качества модели впоследствии понадобятся значения целевых признаков в тестовой выборке. Добавим их из исходного датасета. Проверим, уникальные ли значения в столбце date, можно ли его использовать как ключ."
   ]
  },
  {
   "cell_type": "code",
   "execution_count": 22,
   "metadata": {},
   "outputs": [
    {
     "data": {
      "text/plain": [
       "0"
      ]
     },
     "execution_count": 22,
     "metadata": {},
     "output_type": "execute_result"
    }
   ],
   "source": [
    "test['date'].duplicated().sum()"
   ]
  },
  {
   "cell_type": "code",
   "execution_count": 23,
   "metadata": {},
   "outputs": [
    {
     "data": {
      "text/plain": [
       "0"
      ]
     },
     "execution_count": 23,
     "metadata": {},
     "output_type": "execute_result"
    }
   ],
   "source": [
    "data['date'].duplicated().sum()"
   ]
  },
  {
   "cell_type": "code",
   "execution_count": 24,
   "metadata": {},
   "outputs": [
    {
     "data": {
      "text/plain": [
       "(5290, 55)"
      ]
     },
     "execution_count": 24,
     "metadata": {},
     "output_type": "execute_result"
    }
   ],
   "source": [
    "# добавим в тестовую выборку значения признаков recovery из исходного датасета\n",
    "test = test.merge(data[['date', 'rougher.output.recovery', 'final.output.recovery']], how='left', on='date')\n",
    "test.shape"
   ]
  },
  {
   "cell_type": "code",
   "execution_count": 25,
   "metadata": {
    "scrolled": true
   },
   "outputs": [
    {
     "data": {
      "text/plain": [
       "secondary_cleaner.output.tail_sol           1605\n",
       "rougher.state.floatbank10_e_air              436\n",
       "rougher.input.floatbank11_xanthate           428\n",
       "primary_cleaner.output.concentrate_sol       286\n",
       "secondary_cleaner.state.floatbank2_a_air     217\n",
       "                                            ... \n",
       "rougher.output.tail_au                         0\n",
       "rougher.state.floatbank10_d_air                0\n",
       "rougher.state.floatbank10_d_level              0\n",
       "rougher.state.floatbank10_e_level              0\n",
       "counted_recovery                               0\n",
       "Length: 88, dtype: int64"
      ]
     },
     "execution_count": 25,
     "metadata": {},
     "output_type": "execute_result"
    }
   ],
   "source": [
    "# выведем количество пропусков в обучающей выборке\n",
    "train.isna().sum().sort_values(ascending=False)"
   ]
  },
  {
   "cell_type": "code",
   "execution_count": 26,
   "metadata": {},
   "outputs": [
    {
     "data": {
      "text/plain": [
       "rougher.input.floatbank11_xanthate            25\n",
       "rougher.input.feed_sol                        21\n",
       "secondary_cleaner.state.floatbank3_a_air       9\n",
       "rougher.input.floatbank11_sulfate              8\n",
       "primary_cleaner.input.depressant               5\n",
       "rougher.input.floatbank10_sulfate              5\n",
       "primary_cleaner.input.xanthate                 4\n",
       "primary_cleaner.input.sulfate                  4\n",
       "secondary_cleaner.state.floatbank2_a_air       3\n",
       "rougher.input.feed_rate                        3\n",
       "secondary_cleaner.state.floatbank2_b_air       2\n",
       "rougher.input.feed_size                        1\n",
       "secondary_cleaner.state.floatbank3_a_level     0\n",
       "secondary_cleaner.state.floatbank3_b_level     0\n",
       "secondary_cleaner.state.floatbank3_b_air       0\n",
       "secondary_cleaner.state.floatbank2_a_level     0\n",
       "rougher.state.floatbank10_f_level              0\n",
       "secondary_cleaner.state.floatbank2_b_level     0\n",
       "date                                           0\n",
       "rougher.state.floatbank10_e_level              0\n",
       "secondary_cleaner.state.floatbank4_a_air       0\n",
       "secondary_cleaner.state.floatbank4_a_level     0\n",
       "secondary_cleaner.state.floatbank4_b_air       0\n",
       "secondary_cleaner.state.floatbank4_b_level     0\n",
       "secondary_cleaner.state.floatbank5_a_air       0\n",
       "secondary_cleaner.state.floatbank5_a_level     0\n",
       "secondary_cleaner.state.floatbank5_b_air       0\n",
       "secondary_cleaner.state.floatbank5_b_level     0\n",
       "secondary_cleaner.state.floatbank6_a_air       0\n",
       "secondary_cleaner.state.floatbank6_a_level     0\n",
       "rougher.output.recovery                        0\n",
       "rougher.state.floatbank10_f_air                0\n",
       "rougher.state.floatbank10_c_air                0\n",
       "rougher.state.floatbank10_e_air                0\n",
       "rougher.state.floatbank10_d_level              0\n",
       "primary_cleaner.input.feed_size                0\n",
       "primary_cleaner.state.floatbank8_a_air         0\n",
       "primary_cleaner.state.floatbank8_a_level       0\n",
       "primary_cleaner.state.floatbank8_b_air         0\n",
       "primary_cleaner.state.floatbank8_b_level       0\n",
       "primary_cleaner.state.floatbank8_c_air         0\n",
       "primary_cleaner.state.floatbank8_c_level       0\n",
       "primary_cleaner.state.floatbank8_d_air         0\n",
       "primary_cleaner.state.floatbank8_d_level       0\n",
       "rougher.input.feed_ag                          0\n",
       "rougher.input.feed_pb                          0\n",
       "rougher.input.feed_au                          0\n",
       "rougher.input.floatbank10_xanthate             0\n",
       "rougher.state.floatbank10_a_air                0\n",
       "rougher.state.floatbank10_a_level              0\n",
       "rougher.state.floatbank10_b_air                0\n",
       "rougher.state.floatbank10_b_level              0\n",
       "rougher.state.floatbank10_c_level              0\n",
       "rougher.state.floatbank10_d_air                0\n",
       "final.output.recovery                          0\n",
       "dtype: int64"
      ]
     },
     "execution_count": 26,
     "metadata": {},
     "output_type": "execute_result"
    }
   ],
   "source": [
    "# выведем количество пропусков в обучающей выборке\n",
    "test.isna().sum().sort_values(ascending=False)"
   ]
  },
  {
   "cell_type": "markdown",
   "metadata": {},
   "source": [
    "Для обучения моделей важно отсутствие пропусков в данных. Нам была дана информация о том, что соседние по времени параметры часто похожи. В таблицах данные отсортированы по времени, так что мы можем заполнить пропуски предыдущими значениями."
   ]
  },
  {
   "cell_type": "code",
   "execution_count": 27,
   "metadata": {},
   "outputs": [
    {
     "data": {
      "text/plain": [
       "date                                          0\n",
       "rougher.state.floatbank10_f_air               0\n",
       "rougher.state.floatbank10_e_level             0\n",
       "rougher.state.floatbank10_e_air               0\n",
       "rougher.state.floatbank10_d_level             0\n",
       "                                             ..\n",
       "primary_cleaner.state.floatbank8_b_level      0\n",
       "primary_cleaner.state.floatbank8_b_air        0\n",
       "primary_cleaner.state.floatbank8_a_level      0\n",
       "secondary_cleaner.state.floatbank6_a_level    0\n",
       "counted_recovery                              0\n",
       "Length: 88, dtype: int64"
      ]
     },
     "execution_count": 27,
     "metadata": {},
     "output_type": "execute_result"
    }
   ],
   "source": [
    "# заполним пропуски в обучающей выборке\n",
    "train = train.fillna(method='bfill')\n",
    "train.isna().sum().sort_values()"
   ]
  },
  {
   "cell_type": "code",
   "execution_count": 28,
   "metadata": {},
   "outputs": [
    {
     "data": {
      "text/plain": [
       "date                                          0\n",
       "rougher.state.floatbank10_d_air               0\n",
       "rougher.state.floatbank10_d_level             0\n",
       "rougher.state.floatbank10_e_air               0\n",
       "rougher.state.floatbank10_e_level             0\n",
       "rougher.state.floatbank10_f_air               0\n",
       "rougher.state.floatbank10_f_level             0\n",
       "secondary_cleaner.state.floatbank2_a_air      0\n",
       "secondary_cleaner.state.floatbank2_a_level    0\n",
       "secondary_cleaner.state.floatbank2_b_air      0\n",
       "secondary_cleaner.state.floatbank2_b_level    0\n",
       "secondary_cleaner.state.floatbank3_a_air      0\n",
       "rougher.state.floatbank10_c_level             0\n",
       "secondary_cleaner.state.floatbank3_a_level    0\n",
       "secondary_cleaner.state.floatbank3_b_level    0\n",
       "secondary_cleaner.state.floatbank4_a_air      0\n",
       "secondary_cleaner.state.floatbank4_a_level    0\n",
       "secondary_cleaner.state.floatbank4_b_air      0\n",
       "secondary_cleaner.state.floatbank4_b_level    0\n",
       "secondary_cleaner.state.floatbank5_a_air      0\n",
       "secondary_cleaner.state.floatbank5_a_level    0\n",
       "secondary_cleaner.state.floatbank5_b_air      0\n",
       "secondary_cleaner.state.floatbank5_b_level    0\n",
       "secondary_cleaner.state.floatbank6_a_air      0\n",
       "secondary_cleaner.state.floatbank6_a_level    0\n",
       "secondary_cleaner.state.floatbank3_b_air      0\n",
       "rougher.output.recovery                       0\n",
       "rougher.state.floatbank10_c_air               0\n",
       "rougher.state.floatbank10_b_air               0\n",
       "primary_cleaner.input.sulfate                 0\n",
       "primary_cleaner.input.depressant              0\n",
       "primary_cleaner.input.feed_size               0\n",
       "primary_cleaner.input.xanthate                0\n",
       "primary_cleaner.state.floatbank8_a_air        0\n",
       "primary_cleaner.state.floatbank8_a_level      0\n",
       "primary_cleaner.state.floatbank8_b_air        0\n",
       "primary_cleaner.state.floatbank8_b_level      0\n",
       "primary_cleaner.state.floatbank8_c_air        0\n",
       "primary_cleaner.state.floatbank8_c_level      0\n",
       "primary_cleaner.state.floatbank8_d_air        0\n",
       "rougher.state.floatbank10_b_level             0\n",
       "primary_cleaner.state.floatbank8_d_level      0\n",
       "rougher.input.feed_pb                         0\n",
       "rougher.input.feed_rate                       0\n",
       "rougher.input.feed_size                       0\n",
       "rougher.input.feed_sol                        0\n",
       "rougher.input.feed_au                         0\n",
       "rougher.input.floatbank10_sulfate             0\n",
       "rougher.input.floatbank10_xanthate            0\n",
       "rougher.input.floatbank11_sulfate             0\n",
       "rougher.input.floatbank11_xanthate            0\n",
       "rougher.state.floatbank10_a_air               0\n",
       "rougher.state.floatbank10_a_level             0\n",
       "rougher.input.feed_ag                         0\n",
       "final.output.recovery                         0\n",
       "dtype: int64"
      ]
     },
     "execution_count": 28,
     "metadata": {},
     "output_type": "execute_result"
    }
   ],
   "source": [
    "# заполним пропуски в тестовой выборке\n",
    "test = test.fillna(method='bfill')\n",
    "test.isna().sum().sort_values()"
   ]
  },
  {
   "cell_type": "markdown",
   "metadata": {},
   "source": [
    "Итак, мы заполнили пропуски, приравняли количество столбцов в тестовой и обучающей выборках, а также проверили, что эффективность обогащения рассчитана правильно."
   ]
  },
  {
   "cell_type": "markdown",
   "metadata": {},
   "source": [
    "## Анализ данных"
   ]
  },
  {
   "cell_type": "markdown",
   "metadata": {},
   "source": [
    "### Изменение концентрации металлов на различных этапах очистки"
   ]
  },
  {
   "cell_type": "code",
   "execution_count": 29,
   "metadata": {},
   "outputs": [
    {
     "data": {
      "text/html": [
       "<div>\n",
       "<style scoped>\n",
       "    .dataframe tbody tr th:only-of-type {\n",
       "        vertical-align: middle;\n",
       "    }\n",
       "\n",
       "    .dataframe tbody tr th {\n",
       "        vertical-align: top;\n",
       "    }\n",
       "\n",
       "    .dataframe thead th {\n",
       "        text-align: right;\n",
       "    }\n",
       "</style>\n",
       "<table border=\"1\" class=\"dataframe\">\n",
       "  <thead>\n",
       "    <tr style=\"text-align: right;\">\n",
       "      <th></th>\n",
       "      <th>rougher.input.feed_au</th>\n",
       "      <th>rougher.output.concentrate_au</th>\n",
       "      <th>primary_cleaner.output.concentrate_au</th>\n",
       "      <th>final.output.concentrate_au</th>\n",
       "    </tr>\n",
       "  </thead>\n",
       "  <tbody>\n",
       "    <tr>\n",
       "      <th>0</th>\n",
       "      <td>6.49</td>\n",
       "      <td>19.79</td>\n",
       "      <td>34.17</td>\n",
       "      <td>42.19</td>\n",
       "    </tr>\n",
       "    <tr>\n",
       "      <th>1</th>\n",
       "      <td>6.48</td>\n",
       "      <td>20.05</td>\n",
       "      <td>34.12</td>\n",
       "      <td>42.70</td>\n",
       "    </tr>\n",
       "    <tr>\n",
       "      <th>2</th>\n",
       "      <td>6.36</td>\n",
       "      <td>19.74</td>\n",
       "      <td>33.97</td>\n",
       "      <td>42.66</td>\n",
       "    </tr>\n",
       "    <tr>\n",
       "      <th>3</th>\n",
       "      <td>6.12</td>\n",
       "      <td>19.32</td>\n",
       "      <td>28.26</td>\n",
       "      <td>42.69</td>\n",
       "    </tr>\n",
       "    <tr>\n",
       "      <th>4</th>\n",
       "      <td>5.66</td>\n",
       "      <td>19.22</td>\n",
       "      <td>33.04</td>\n",
       "      <td>42.77</td>\n",
       "    </tr>\n",
       "    <tr>\n",
       "      <th>...</th>\n",
       "      <td>...</td>\n",
       "      <td>...</td>\n",
       "      <td>...</td>\n",
       "      <td>...</td>\n",
       "    </tr>\n",
       "    <tr>\n",
       "      <th>19434</th>\n",
       "      <td>5.34</td>\n",
       "      <td>18.60</td>\n",
       "      <td>32.94</td>\n",
       "      <td>46.71</td>\n",
       "    </tr>\n",
       "    <tr>\n",
       "      <th>19435</th>\n",
       "      <td>4.84</td>\n",
       "      <td>18.44</td>\n",
       "      <td>32.93</td>\n",
       "      <td>46.87</td>\n",
       "    </tr>\n",
       "    <tr>\n",
       "      <th>19436</th>\n",
       "      <td>4.53</td>\n",
       "      <td>15.11</td>\n",
       "      <td>31.86</td>\n",
       "      <td>46.80</td>\n",
       "    </tr>\n",
       "    <tr>\n",
       "      <th>19437</th>\n",
       "      <td>4.36</td>\n",
       "      <td>17.83</td>\n",
       "      <td>30.77</td>\n",
       "      <td>46.41</td>\n",
       "    </tr>\n",
       "    <tr>\n",
       "      <th>19438</th>\n",
       "      <td>4.37</td>\n",
       "      <td>17.80</td>\n",
       "      <td>30.36</td>\n",
       "      <td>46.30</td>\n",
       "    </tr>\n",
       "  </tbody>\n",
       "</table>\n",
       "<p>19439 rows × 4 columns</p>\n",
       "</div>"
      ],
      "text/plain": [
       "       rougher.input.feed_au  rougher.output.concentrate_au  \\\n",
       "0                       6.49                          19.79   \n",
       "1                       6.48                          20.05   \n",
       "2                       6.36                          19.74   \n",
       "3                       6.12                          19.32   \n",
       "4                       5.66                          19.22   \n",
       "...                      ...                            ...   \n",
       "19434                   5.34                          18.60   \n",
       "19435                   4.84                          18.44   \n",
       "19436                   4.53                          15.11   \n",
       "19437                   4.36                          17.83   \n",
       "19438                   4.37                          17.80   \n",
       "\n",
       "       primary_cleaner.output.concentrate_au  final.output.concentrate_au  \n",
       "0                                      34.17                        42.19  \n",
       "1                                      34.12                        42.70  \n",
       "2                                      33.97                        42.66  \n",
       "3                                      28.26                        42.69  \n",
       "4                                      33.04                        42.77  \n",
       "...                                      ...                          ...  \n",
       "19434                                  32.94                        46.71  \n",
       "19435                                  32.93                        46.87  \n",
       "19436                                  31.86                        46.80  \n",
       "19437                                  30.77                        46.41  \n",
       "19438                                  30.36                        46.30  \n",
       "\n",
       "[19439 rows x 4 columns]"
      ]
     },
     "execution_count": 29,
     "metadata": {},
     "output_type": "execute_result"
    }
   ],
   "source": [
    "# создадим таблицу с концентрациями золота на разных этапах\n",
    "data_conc_au = data.loc[:, ['rougher.input.feed_au', 'rougher.output.concentrate_au', 'primary_cleaner.output.concentrate_au',\n",
    "                   'final.output.concentrate_au']]\n",
    "data_conc_au"
   ]
  },
  {
   "cell_type": "code",
   "execution_count": 30,
   "metadata": {},
   "outputs": [],
   "source": [
    "# переименуем названия колонок\n",
    "columns = ['исходное сырье', 'черновой концентрат', 'продукт первич.очистки', 'финальный концентрат']\n",
    "data_conc_au.columns = columns"
   ]
  },
  {
   "cell_type": "code",
   "execution_count": 31,
   "metadata": {},
   "outputs": [
    {
     "data": {
      "image/png": "[encoded data removed]",
      "text/plain": [
       "<Figure size 864x576 with 1 Axes>"
      ]
     },
     "metadata": {
      "needs_background": "light"
     },
     "output_type": "display_data"
    }
   ],
   "source": [
    "# построим график для концентрации золота\n",
    "data_conc_au.plot(kind='hist', figsize=(12, 8), alpha=0.7, bins=50)\n",
    "plt.title('Изменение концентрации золота на разных этапах очистки')\n",
    "plt.xlabel('Стадии процесса')\n",
    "plt.ylabel('Значение концентрации')\n",
    "plt.grid();"
   ]
  },
  {
   "cell_type": "code",
   "execution_count": 32,
   "metadata": {},
   "outputs": [
    {
     "data": {
      "text/html": [
       "<div>\n",
       "<style scoped>\n",
       "    .dataframe tbody tr th:only-of-type {\n",
       "        vertical-align: middle;\n",
       "    }\n",
       "\n",
       "    .dataframe tbody tr th {\n",
       "        vertical-align: top;\n",
       "    }\n",
       "\n",
       "    .dataframe thead th {\n",
       "        text-align: right;\n",
       "    }\n",
       "</style>\n",
       "<table border=\"1\" class=\"dataframe\">\n",
       "  <thead>\n",
       "    <tr style=\"text-align: right;\">\n",
       "      <th></th>\n",
       "      <th>исходное сырье</th>\n",
       "      <th>черновой концентрат</th>\n",
       "      <th>продукт первич.очистки</th>\n",
       "      <th>финальный концентрат</th>\n",
       "    </tr>\n",
       "  </thead>\n",
       "  <tbody>\n",
       "    <tr>\n",
       "      <th>0</th>\n",
       "      <td>6.10</td>\n",
       "      <td>11.50</td>\n",
       "      <td>8.55</td>\n",
       "      <td>6.06</td>\n",
       "    </tr>\n",
       "    <tr>\n",
       "      <th>1</th>\n",
       "      <td>6.16</td>\n",
       "      <td>11.62</td>\n",
       "      <td>8.56</td>\n",
       "      <td>6.03</td>\n",
       "    </tr>\n",
       "    <tr>\n",
       "      <th>2</th>\n",
       "      <td>6.12</td>\n",
       "      <td>11.70</td>\n",
       "      <td>8.60</td>\n",
       "      <td>6.06</td>\n",
       "    </tr>\n",
       "    <tr>\n",
       "      <th>3</th>\n",
       "      <td>6.04</td>\n",
       "      <td>11.92</td>\n",
       "      <td>7.22</td>\n",
       "      <td>6.05</td>\n",
       "    </tr>\n",
       "    <tr>\n",
       "      <th>4</th>\n",
       "      <td>6.06</td>\n",
       "      <td>12.41</td>\n",
       "      <td>9.09</td>\n",
       "      <td>6.15</td>\n",
       "    </tr>\n",
       "    <tr>\n",
       "      <th>...</th>\n",
       "      <td>...</td>\n",
       "      <td>...</td>\n",
       "      <td>...</td>\n",
       "      <td>...</td>\n",
       "    </tr>\n",
       "    <tr>\n",
       "      <th>19434</th>\n",
       "      <td>6.09</td>\n",
       "      <td>11.12</td>\n",
       "      <td>6.56</td>\n",
       "      <td>3.22</td>\n",
       "    </tr>\n",
       "    <tr>\n",
       "      <th>19435</th>\n",
       "      <td>6.12</td>\n",
       "      <td>11.43</td>\n",
       "      <td>6.61</td>\n",
       "      <td>3.20</td>\n",
       "    </tr>\n",
       "    <tr>\n",
       "      <th>19436</th>\n",
       "      <td>5.97</td>\n",
       "      <td>8.52</td>\n",
       "      <td>7.13</td>\n",
       "      <td>3.11</td>\n",
       "    </tr>\n",
       "    <tr>\n",
       "      <th>19437</th>\n",
       "      <td>6.05</td>\n",
       "      <td>11.66</td>\n",
       "      <td>7.49</td>\n",
       "      <td>3.37</td>\n",
       "    </tr>\n",
       "    <tr>\n",
       "      <th>19438</th>\n",
       "      <td>6.16</td>\n",
       "      <td>11.96</td>\n",
       "      <td>7.54</td>\n",
       "      <td>3.60</td>\n",
       "    </tr>\n",
       "  </tbody>\n",
       "</table>\n",
       "<p>19439 rows × 4 columns</p>\n",
       "</div>"
      ],
      "text/plain": [
       "       исходное сырье  черновой концентрат  продукт первич.очистки  \\\n",
       "0                6.10                11.50                    8.55   \n",
       "1                6.16                11.62                    8.56   \n",
       "2                6.12                11.70                    8.60   \n",
       "3                6.04                11.92                    7.22   \n",
       "4                6.06                12.41                    9.09   \n",
       "...               ...                  ...                     ...   \n",
       "19434            6.09                11.12                    6.56   \n",
       "19435            6.12                11.43                    6.61   \n",
       "19436            5.97                 8.52                    7.13   \n",
       "19437            6.05                11.66                    7.49   \n",
       "19438            6.16                11.96                    7.54   \n",
       "\n",
       "       финальный концентрат  \n",
       "0                      6.06  \n",
       "1                      6.03  \n",
       "2                      6.06  \n",
       "3                      6.05  \n",
       "4                      6.15  \n",
       "...                     ...  \n",
       "19434                  3.22  \n",
       "19435                  3.20  \n",
       "19436                  3.11  \n",
       "19437                  3.37  \n",
       "19438                  3.60  \n",
       "\n",
       "[19439 rows x 4 columns]"
      ]
     },
     "execution_count": 32,
     "metadata": {},
     "output_type": "execute_result"
    }
   ],
   "source": [
    "# создадим таблицу с концентрациями серебра на разных этапах\n",
    "data_conc_ag = data.loc[:, ['rougher.input.feed_ag', 'rougher.output.concentrate_ag', 'primary_cleaner.output.concentrate_ag',\n",
    "                   'final.output.concentrate_ag']]\n",
    "data_conc_ag.columns = columns\n",
    "data_conc_ag"
   ]
  },
  {
   "cell_type": "code",
   "execution_count": 33,
   "metadata": {},
   "outputs": [
    {
     "data": {
      "image/png": "[encoded data removed]",
      "text/plain": [
       "<Figure size 864x576 with 1 Axes>"
      ]
     },
     "metadata": {
      "needs_background": "light"
     },
     "output_type": "display_data"
    }
   ],
   "source": [
    "# построим график для концентрации серебра\n",
    "data_conc_ag.plot(kind='hist', figsize=(12, 8), alpha=0.7, bins=50)\n",
    "plt.title('Изменение концентрации серебра на разных этапах очистки')\n",
    "plt.xlabel('Стадии процесса')\n",
    "plt.ylabel('Значение концентрации')\n",
    "plt.grid();"
   ]
  },
  {
   "cell_type": "code",
   "execution_count": 34,
   "metadata": {},
   "outputs": [
    {
     "data": {
      "text/html": [
       "<div>\n",
       "<style scoped>\n",
       "    .dataframe tbody tr th:only-of-type {\n",
       "        vertical-align: middle;\n",
       "    }\n",
       "\n",
       "    .dataframe tbody tr th {\n",
       "        vertical-align: top;\n",
       "    }\n",
       "\n",
       "    .dataframe thead th {\n",
       "        text-align: right;\n",
       "    }\n",
       "</style>\n",
       "<table border=\"1\" class=\"dataframe\">\n",
       "  <thead>\n",
       "    <tr style=\"text-align: right;\">\n",
       "      <th></th>\n",
       "      <th>исходное сырье</th>\n",
       "      <th>черновой концентрат</th>\n",
       "      <th>продукт первич.очистки</th>\n",
       "      <th>финальный концентрат</th>\n",
       "    </tr>\n",
       "  </thead>\n",
       "  <tbody>\n",
       "    <tr>\n",
       "      <th>0</th>\n",
       "      <td>2.28</td>\n",
       "      <td>7.10</td>\n",
       "      <td>10.39</td>\n",
       "      <td>9.89</td>\n",
       "    </tr>\n",
       "    <tr>\n",
       "      <th>1</th>\n",
       "      <td>2.27</td>\n",
       "      <td>7.28</td>\n",
       "      <td>10.50</td>\n",
       "      <td>9.97</td>\n",
       "    </tr>\n",
       "    <tr>\n",
       "      <th>2</th>\n",
       "      <td>2.16</td>\n",
       "      <td>7.22</td>\n",
       "      <td>10.35</td>\n",
       "      <td>10.21</td>\n",
       "    </tr>\n",
       "    <tr>\n",
       "      <th>3</th>\n",
       "      <td>2.04</td>\n",
       "      <td>7.18</td>\n",
       "      <td>8.50</td>\n",
       "      <td>9.98</td>\n",
       "    </tr>\n",
       "    <tr>\n",
       "      <th>4</th>\n",
       "      <td>1.79</td>\n",
       "      <td>7.24</td>\n",
       "      <td>9.99</td>\n",
       "      <td>10.14</td>\n",
       "    </tr>\n",
       "    <tr>\n",
       "      <th>...</th>\n",
       "      <td>...</td>\n",
       "      <td>...</td>\n",
       "      <td>...</td>\n",
       "      <td>...</td>\n",
       "    </tr>\n",
       "    <tr>\n",
       "      <th>19434</th>\n",
       "      <td>4.62</td>\n",
       "      <td>10.98</td>\n",
       "      <td>12.45</td>\n",
       "      <td>11.36</td>\n",
       "    </tr>\n",
       "    <tr>\n",
       "      <th>19435</th>\n",
       "      <td>4.14</td>\n",
       "      <td>10.89</td>\n",
       "      <td>12.62</td>\n",
       "      <td>11.35</td>\n",
       "    </tr>\n",
       "    <tr>\n",
       "      <th>19436</th>\n",
       "      <td>4.02</td>\n",
       "      <td>8.96</td>\n",
       "      <td>12.63</td>\n",
       "      <td>11.43</td>\n",
       "    </tr>\n",
       "    <tr>\n",
       "      <th>19437</th>\n",
       "      <td>3.90</td>\n",
       "      <td>10.66</td>\n",
       "      <td>12.01</td>\n",
       "      <td>11.63</td>\n",
       "    </tr>\n",
       "    <tr>\n",
       "      <th>19438</th>\n",
       "      <td>3.88</td>\n",
       "      <td>10.70</td>\n",
       "      <td>11.65</td>\n",
       "      <td>11.74</td>\n",
       "    </tr>\n",
       "  </tbody>\n",
       "</table>\n",
       "<p>19439 rows × 4 columns</p>\n",
       "</div>"
      ],
      "text/plain": [
       "       исходное сырье  черновой концентрат  продукт первич.очистки  \\\n",
       "0                2.28                 7.10                   10.39   \n",
       "1                2.27                 7.28                   10.50   \n",
       "2                2.16                 7.22                   10.35   \n",
       "3                2.04                 7.18                    8.50   \n",
       "4                1.79                 7.24                    9.99   \n",
       "...               ...                  ...                     ...   \n",
       "19434            4.62                10.98                   12.45   \n",
       "19435            4.14                10.89                   12.62   \n",
       "19436            4.02                 8.96                   12.63   \n",
       "19437            3.90                10.66                   12.01   \n",
       "19438            3.88                10.70                   11.65   \n",
       "\n",
       "       финальный концентрат  \n",
       "0                      9.89  \n",
       "1                      9.97  \n",
       "2                     10.21  \n",
       "3                      9.98  \n",
       "4                     10.14  \n",
       "...                     ...  \n",
       "19434                 11.36  \n",
       "19435                 11.35  \n",
       "19436                 11.43  \n",
       "19437                 11.63  \n",
       "19438                 11.74  \n",
       "\n",
       "[19439 rows x 4 columns]"
      ]
     },
     "execution_count": 34,
     "metadata": {},
     "output_type": "execute_result"
    }
   ],
   "source": [
    "# создадим таблицу с концентрациями свинца на разных этапах\n",
    "data_conc_pb = data.loc[:, ['rougher.input.feed_pb', 'rougher.output.concentrate_pb', 'primary_cleaner.output.concentrate_pb',\n",
    "                   'final.output.concentrate_pb']]\n",
    "data_conc_pb.columns = columns\n",
    "data_conc_pb"
   ]
  },
  {
   "cell_type": "code",
   "execution_count": 35,
   "metadata": {},
   "outputs": [
    {
     "data": {
      "image/png": "[encoded data removed]",
      "text/plain": [
       "<Figure size 864x576 with 1 Axes>"
      ]
     },
     "metadata": {
      "needs_background": "light"
     },
     "output_type": "display_data"
    }
   ],
   "source": [
    "# построим график для концентрации свинца\n",
    "data_conc_pb.plot(kind='hist', figsize=(12, 8), alpha=0.7, bins=50)\n",
    "plt.title('Изменение концентрации свинца на разных этапах очистки')\n",
    "plt.xlabel('Стадии процесса')\n",
    "plt.ylabel('Значение концентрации')\n",
    "plt.grid();"
   ]
  },
  {
   "cell_type": "code",
   "execution_count": 36,
   "metadata": {},
   "outputs": [
    {
     "data": {
      "image/png": "[encoded data removed]",
      "text/plain": [
       "<Figure size 864x576 with 1 Axes>"
      ]
     },
     "metadata": {
      "needs_background": "light"
     },
     "output_type": "display_data"
    }
   ],
   "source": [
    "# построим общий график для наглядности\n",
    "legend = ['золото', 'серебро', 'свинец']\n",
    "plt.figure(figsize=(12, 8))\n",
    "plt.plot(data_conc_au.mean(), '-', data_conc_ag.mean(), '--', data_conc_pb.mean(), '-.')\n",
    "plt.title('Изменение концентрации металлов на разных этапах очистки')\n",
    "plt.xlabel('Стадии процесса')\n",
    "plt.ylabel('Среднее значение концентрации')\n",
    "plt.grid()\n",
    "plt.legend(legend);"
   ]
  },
  {
   "cell_type": "markdown",
   "metadata": {},
   "source": [
    "Обнаружены аномалии в данных - нулевые значения концентраций. Очистим обучающую выборку от таких значений."
   ]
  },
  {
   "cell_type": "code",
   "execution_count": 46,
   "metadata": {},
   "outputs": [
    {
     "data": {
      "text/plain": [
       "(14149, 88)"
      ]
     },
     "execution_count": 46,
     "metadata": {},
     "output_type": "execute_result"
    }
   ],
   "source": [
    "train.shape"
   ]
  },
  {
   "cell_type": "code",
   "execution_count": 48,
   "metadata": {},
   "outputs": [
    {
     "data": {
      "text/plain": [
       "(13721, 88)"
      ]
     },
     "execution_count": 48,
     "metadata": {},
     "output_type": "execute_result"
    }
   ],
   "source": [
    "# сделаем это с помощью среза\n",
    "materials = ['au', 'ag', 'pb', 'sol']\n",
    "phase = ['rougher.input.feed_', 'rougher.output.concentrate_', 'primary_cleaner.output.concentrate_',\n",
    "                   'final.output.concentrate_']\n",
    "for material in materials:\n",
    "    for ph in phase:\n",
    "        col = ph + material\n",
    "        train = train.loc[train[f'{col}'] > 0]\n",
    "train.shape        "
   ]
  },
  {
   "cell_type": "markdown",
   "metadata": {},
   "source": [
    "Итак, средняя концентрация золота растет с каждым этапом очистки, так и получается золото из руды. Концентрация свинца тоже растет, но не так сильно, как золота. Концентрация серебра растет в черновом концентрате, но к финальному концентрату снижается, вероятно, из-за большей концетрации золота в финальном продукте (мы же видим отношение количества вещества к объему)."
   ]
  },
  {
   "cell_type": "markdown",
   "metadata": {},
   "source": [
    "### Распределение гранул сырья"
   ]
  },
  {
   "cell_type": "code",
   "execution_count": 49,
   "metadata": {},
   "outputs": [
    {
     "data": {
      "image/png": "[encoded data removed]",
      "text/plain": [
       "<Figure size 864x504 with 1 Axes>"
      ]
     },
     "metadata": {
      "needs_background": "light"
     },
     "output_type": "display_data"
    }
   ],
   "source": [
    "# построим гистограммы\n",
    "legen = ['train', 'test']\n",
    "plt.figure(figsize=(12, 7))\n",
    "plt.xlim(0, 200)\n",
    "sns.histplot(train['rougher.input.feed_size'], stat='density', common_norm=False, bins=30)\n",
    "sns.histplot(test['rougher.input.feed_size'], stat='density', common_norm=False, bins=30, color='green')\n",
    "plt.legend(legen)\n",
    "plt.title('Распределения размеров гранул сырья на тестовой и тренировочной выборках')\n",
    "plt.xlabel('Размер гранул сырья')\n",
    "plt.ylabel('Плотность распределения')\n",
    "plt.show()"
   ]
  },
  {
   "cell_type": "markdown",
   "metadata": {},
   "source": [
    "Распределения размеров гранул сырья на тренировочной и тестовой выборках отличаются несильно, можем использовать модели для оценки."
   ]
  },
  {
   "cell_type": "markdown",
   "metadata": {},
   "source": [
    "### Суммарная концентрация веществ на разных стадиях"
   ]
  },
  {
   "cell_type": "code",
   "execution_count": 50,
   "metadata": {},
   "outputs": [
    {
     "data": {
      "text/html": [
       "<div>\n",
       "<style scoped>\n",
       "    .dataframe tbody tr th:only-of-type {\n",
       "        vertical-align: middle;\n",
       "    }\n",
       "\n",
       "    .dataframe tbody tr th {\n",
       "        vertical-align: top;\n",
       "    }\n",
       "\n",
       "    .dataframe thead th {\n",
       "        text-align: right;\n",
       "    }\n",
       "</style>\n",
       "<table border=\"1\" class=\"dataframe\">\n",
       "  <thead>\n",
       "    <tr style=\"text-align: right;\">\n",
       "      <th></th>\n",
       "      <th>исходное сырье</th>\n",
       "      <th>черновой концентрат</th>\n",
       "      <th>продукт первич.очистки</th>\n",
       "      <th>финальный концентрат</th>\n",
       "    </tr>\n",
       "  </thead>\n",
       "  <tbody>\n",
       "    <tr>\n",
       "      <th>0</th>\n",
       "      <td>36.81</td>\n",
       "      <td>28.03</td>\n",
       "      <td>19.53</td>\n",
       "      <td>5.51</td>\n",
       "    </tr>\n",
       "    <tr>\n",
       "      <th>1</th>\n",
       "      <td>35.75</td>\n",
       "      <td>28.07</td>\n",
       "      <td>19.37</td>\n",
       "      <td>5.26</td>\n",
       "    </tr>\n",
       "    <tr>\n",
       "      <th>2</th>\n",
       "      <td>35.97</td>\n",
       "      <td>27.45</td>\n",
       "      <td>19.17</td>\n",
       "      <td>5.38</td>\n",
       "    </tr>\n",
       "    <tr>\n",
       "      <th>3</th>\n",
       "      <td>36.86</td>\n",
       "      <td>27.34</td>\n",
       "      <td>15.98</td>\n",
       "      <td>4.86</td>\n",
       "    </tr>\n",
       "    <tr>\n",
       "      <th>4</th>\n",
       "      <td>34.35</td>\n",
       "      <td>27.04</td>\n",
       "      <td>19.20</td>\n",
       "      <td>4.94</td>\n",
       "    </tr>\n",
       "    <tr>\n",
       "      <th>...</th>\n",
       "      <td>...</td>\n",
       "      <td>...</td>\n",
       "      <td>...</td>\n",
       "      <td>...</td>\n",
       "    </tr>\n",
       "    <tr>\n",
       "      <th>19434</th>\n",
       "      <td>37.37</td>\n",
       "      <td>30.07</td>\n",
       "      <td>7.06</td>\n",
       "      <td>6.80</td>\n",
       "    </tr>\n",
       "    <tr>\n",
       "      <th>19435</th>\n",
       "      <td>38.59</td>\n",
       "      <td>29.78</td>\n",
       "      <td>7.54</td>\n",
       "      <td>6.86</td>\n",
       "    </tr>\n",
       "    <tr>\n",
       "      <th>19436</th>\n",
       "      <td>40.07</td>\n",
       "      <td>22.79</td>\n",
       "      <td>7.94</td>\n",
       "      <td>6.89</td>\n",
       "    </tr>\n",
       "    <tr>\n",
       "      <th>19437</th>\n",
       "      <td>39.71</td>\n",
       "      <td>29.05</td>\n",
       "      <td>6.94</td>\n",
       "      <td>6.80</td>\n",
       "    </tr>\n",
       "    <tr>\n",
       "      <th>19438</th>\n",
       "      <td>39.14</td>\n",
       "      <td>29.08</td>\n",
       "      <td>6.20</td>\n",
       "      <td>6.72</td>\n",
       "    </tr>\n",
       "  </tbody>\n",
       "</table>\n",
       "<p>19439 rows × 4 columns</p>\n",
       "</div>"
      ],
      "text/plain": [
       "       исходное сырье  черновой концентрат  продукт первич.очистки  \\\n",
       "0               36.81                28.03                   19.53   \n",
       "1               35.75                28.07                   19.37   \n",
       "2               35.97                27.45                   19.17   \n",
       "3               36.86                27.34                   15.98   \n",
       "4               34.35                27.04                   19.20   \n",
       "...               ...                  ...                     ...   \n",
       "19434           37.37                30.07                    7.06   \n",
       "19435           38.59                29.78                    7.54   \n",
       "19436           40.07                22.79                    7.94   \n",
       "19437           39.71                29.05                    6.94   \n",
       "19438           39.14                29.08                    6.20   \n",
       "\n",
       "       финальный концентрат  \n",
       "0                      5.51  \n",
       "1                      5.26  \n",
       "2                      5.38  \n",
       "3                      4.86  \n",
       "4                      4.94  \n",
       "...                     ...  \n",
       "19434                  6.80  \n",
       "19435                  6.86  \n",
       "19436                  6.89  \n",
       "19437                  6.80  \n",
       "19438                  6.72  \n",
       "\n",
       "[19439 rows x 4 columns]"
      ]
     },
     "execution_count": 50,
     "metadata": {},
     "output_type": "execute_result"
    }
   ],
   "source": [
    "# создадим таблицу с концентрациями sol на разных этапах\n",
    "data_conc_sol = data.loc[:, ['rougher.input.feed_sol', 'rougher.output.concentrate_sol', 'primary_cleaner.output.concentrate_sol',\n",
    "                   'final.output.concentrate_sol']]\n",
    "data_conc_sol.columns = columns\n",
    "data_conc_sol"
   ]
  },
  {
   "cell_type": "code",
   "execution_count": 51,
   "metadata": {
    "scrolled": true
   },
   "outputs": [
    {
     "data": {
      "text/html": [
       "<div>\n",
       "<style scoped>\n",
       "    .dataframe tbody tr th:only-of-type {\n",
       "        vertical-align: middle;\n",
       "    }\n",
       "\n",
       "    .dataframe tbody tr th {\n",
       "        vertical-align: top;\n",
       "    }\n",
       "\n",
       "    .dataframe thead th {\n",
       "        text-align: right;\n",
       "    }\n",
       "</style>\n",
       "<table border=\"1\" class=\"dataframe\">\n",
       "  <thead>\n",
       "    <tr style=\"text-align: right;\">\n",
       "      <th></th>\n",
       "      <th>исходное сырье</th>\n",
       "      <th>черновой концентрат</th>\n",
       "      <th>продукт первич.очистки</th>\n",
       "      <th>финальный концентрат</th>\n",
       "    </tr>\n",
       "  </thead>\n",
       "  <tbody>\n",
       "    <tr>\n",
       "      <th>0</th>\n",
       "      <td>6.49</td>\n",
       "      <td>19.79</td>\n",
       "      <td>34.17</td>\n",
       "      <td>42.19</td>\n",
       "    </tr>\n",
       "    <tr>\n",
       "      <th>1</th>\n",
       "      <td>6.48</td>\n",
       "      <td>20.05</td>\n",
       "      <td>34.12</td>\n",
       "      <td>42.70</td>\n",
       "    </tr>\n",
       "    <tr>\n",
       "      <th>2</th>\n",
       "      <td>6.36</td>\n",
       "      <td>19.74</td>\n",
       "      <td>33.97</td>\n",
       "      <td>42.66</td>\n",
       "    </tr>\n",
       "    <tr>\n",
       "      <th>3</th>\n",
       "      <td>6.12</td>\n",
       "      <td>19.32</td>\n",
       "      <td>28.26</td>\n",
       "      <td>42.69</td>\n",
       "    </tr>\n",
       "    <tr>\n",
       "      <th>4</th>\n",
       "      <td>5.66</td>\n",
       "      <td>19.22</td>\n",
       "      <td>33.04</td>\n",
       "      <td>42.77</td>\n",
       "    </tr>\n",
       "    <tr>\n",
       "      <th>...</th>\n",
       "      <td>...</td>\n",
       "      <td>...</td>\n",
       "      <td>...</td>\n",
       "      <td>...</td>\n",
       "    </tr>\n",
       "    <tr>\n",
       "      <th>19434</th>\n",
       "      <td>37.37</td>\n",
       "      <td>30.07</td>\n",
       "      <td>7.06</td>\n",
       "      <td>6.80</td>\n",
       "    </tr>\n",
       "    <tr>\n",
       "      <th>19435</th>\n",
       "      <td>38.59</td>\n",
       "      <td>29.78</td>\n",
       "      <td>7.54</td>\n",
       "      <td>6.86</td>\n",
       "    </tr>\n",
       "    <tr>\n",
       "      <th>19436</th>\n",
       "      <td>40.07</td>\n",
       "      <td>22.79</td>\n",
       "      <td>7.94</td>\n",
       "      <td>6.89</td>\n",
       "    </tr>\n",
       "    <tr>\n",
       "      <th>19437</th>\n",
       "      <td>39.71</td>\n",
       "      <td>29.05</td>\n",
       "      <td>6.94</td>\n",
       "      <td>6.80</td>\n",
       "    </tr>\n",
       "    <tr>\n",
       "      <th>19438</th>\n",
       "      <td>39.14</td>\n",
       "      <td>29.08</td>\n",
       "      <td>6.20</td>\n",
       "      <td>6.72</td>\n",
       "    </tr>\n",
       "  </tbody>\n",
       "</table>\n",
       "<p>77756 rows × 4 columns</p>\n",
       "</div>"
      ],
      "text/plain": [
       "       исходное сырье  черновой концентрат  продукт первич.очистки  \\\n",
       "0                6.49                19.79                   34.17   \n",
       "1                6.48                20.05                   34.12   \n",
       "2                6.36                19.74                   33.97   \n",
       "3                6.12                19.32                   28.26   \n",
       "4                5.66                19.22                   33.04   \n",
       "...               ...                  ...                     ...   \n",
       "19434           37.37                30.07                    7.06   \n",
       "19435           38.59                29.78                    7.54   \n",
       "19436           40.07                22.79                    7.94   \n",
       "19437           39.71                29.05                    6.94   \n",
       "19438           39.14                29.08                    6.20   \n",
       "\n",
       "       финальный концентрат  \n",
       "0                     42.19  \n",
       "1                     42.70  \n",
       "2                     42.66  \n",
       "3                     42.69  \n",
       "4                     42.77  \n",
       "...                     ...  \n",
       "19434                  6.80  \n",
       "19435                  6.86  \n",
       "19436                  6.89  \n",
       "19437                  6.80  \n",
       "19438                  6.72  \n",
       "\n",
       "[77756 rows x 4 columns]"
      ]
     },
     "execution_count": 51,
     "metadata": {},
     "output_type": "execute_result"
    }
   ],
   "source": [
    "# объединим все таблицы в одну по столбцам\n",
    "conc_total = pd.concat([data_conc_au, data_conc_ag, data_conc_pb, data_conc_sol], axis=0)\n",
    "conc_total"
   ]
  },
  {
   "cell_type": "code",
   "execution_count": 52,
   "metadata": {},
   "outputs": [
    {
     "data": {
      "image/png": "[encoded data removed]",
      "text/plain": [
       "<Figure size 576x576 with 1 Axes>"
      ]
     },
     "metadata": {
      "needs_background": "light"
     },
     "output_type": "display_data"
    }
   ],
   "source": [
    "# построим график\n",
    "conc_total.sum().plot(grid=True, figsize=(8, 8), style='o-')\n",
    "plt.title('Суммарная концентрация всех веществ на разных стадиях')\n",
    "plt.xlabel('Стадии процесса')\n",
    "plt.ylabel('Сумма концентраций всех веществ');"
   ]
  },
  {
   "cell_type": "code",
   "execution_count": 53,
   "metadata": {},
   "outputs": [
    {
     "data": {
      "image/png": "[encoded data removed]",
      "text/plain": [
       "<Figure size 864x576 with 1 Axes>"
      ]
     },
     "metadata": {
      "needs_background": "light"
     },
     "output_type": "display_data"
    }
   ],
   "source": [
    "conc_total.plot(kind='hist', figsize=(12, 8), alpha=0.5, bins=50)\n",
    "plt.title('Изменение концентрации всех веществ на разных этапах очистки')\n",
    "plt.xlabel('Стадии процесса')\n",
    "plt.ylabel('Значение концентрации')\n",
    "plt.grid();"
   ]
  },
  {
   "cell_type": "markdown",
   "metadata": {},
   "source": [
    "Суммарная концентрация всех веществ меньше всего в исходном сырье, больше всего - в финальном концентрате. В черновом концентрате суммарная концентрация выше, чем в продукте первичной очистки."
   ]
  },
  {
   "cell_type": "code",
   "execution_count": 54,
   "metadata": {},
   "outputs": [
    {
     "data": {
      "text/plain": [
       "(13721, 55)"
      ]
     },
     "execution_count": 54,
     "metadata": {},
     "output_type": "execute_result"
    }
   ],
   "source": [
    "# удалим из обучающей выборки столбцы, которых нет в тестовой, чтоб модель могла обучаться\n",
    "for i in train:    \n",
    "    if i not in test.columns:        \n",
    "        train = train.drop(i, axis=1)\n",
    "train.shape       "
   ]
  },
  {
   "cell_type": "markdown",
   "metadata": {},
   "source": [
    "Итак, мы посмотрели, как меняются концентрации металлах на разных этапах очистки, сравнили распределения размеров гранул сырья на обучающей и тестовой выборках и исследовали сумманую концентрацию веществ на разных стадиях, а также приравняли количество столбцов в обучающей и тестовой выборках."
   ]
  },
  {
   "cell_type": "markdown",
   "metadata": {},
   "source": [
    "## Модель"
   ]
  },
  {
   "cell_type": "markdown",
   "metadata": {},
   "source": [
    "### Напишем функцию для вычисления итоговой sMAPE"
   ]
  },
  {
   "cell_type": "code",
   "execution_count": 59,
   "metadata": {},
   "outputs": [],
   "source": [
    "# с помощью формулы из описания проекта напишем функцию\n",
    "def smape(pred, true):\n",
    "    return 100/len(true) * np.sum(2 * np.abs(true - pred) / (np.abs(true) + np.abs(pred)))"
   ]
  },
  {
   "cell_type": "markdown",
   "metadata": {},
   "source": [
    "### Обучим разные модели и оценим их качество"
   ]
  },
  {
   "cell_type": "code",
   "execution_count": 56,
   "metadata": {},
   "outputs": [],
   "source": [
    "# выделим целевые признаки в тренировочной выборке\n",
    "features_train = train.drop(['rougher.output.recovery', 'final.output.recovery', 'date'], axis=1)\n",
    "target1_train = train['rougher.output.recovery']\n",
    "target2_train = train['final.output.recovery']"
   ]
  },
  {
   "cell_type": "code",
   "execution_count": 57,
   "metadata": {},
   "outputs": [],
   "source": [
    "# выделим целевые признаки в тестовой выборке\n",
    "features_test = test.drop(['rougher.output.recovery', 'final.output.recovery', 'date'], axis=1)\n",
    "target1_test = test['rougher.output.recovery']\n",
    "target2_test = test['final.output.recovery']"
   ]
  },
  {
   "cell_type": "markdown",
   "metadata": {},
   "source": [
    "#### Модель дерева решений"
   ]
  },
  {
   "cell_type": "code",
   "execution_count": 71,
   "metadata": {
    "scrolled": true
   },
   "outputs": [
    {
     "name": "stdout",
     "output_type": "stream",
     "text": [
      "Лучший SMAPE rougher для DecisionTreeRegressor: 4.518338489016249, соответствующая глубина: 5\n"
     ]
    }
   ],
   "source": [
    "# найдем лучшую модель дерева решений для rougher.output.recovery\n",
    "# Создаем scorer для использования в cross_val_score\n",
    "smape_scorer = make_scorer(smape, greater_is_better=False)  # greater_is_better=False для минимизации SMAPE\n",
    "\n",
    "# Устанавливаем кросс-валидацию\n",
    "kf = KFold(n_splits=5, shuffle=True, random_state=12345)\n",
    "\n",
    "result_dt = float(\"inf\")  # Начальное значение для SMAPE (бесконечность)\n",
    "best_depth = 0\n",
    "best_model_dt = None\n",
    "\n",
    "# Перебор глубины дерева от 1 до 5\n",
    "for i in range(1, 6):\n",
    "    model = DecisionTreeRegressor(random_state=12345, max_depth=i)\n",
    "    \n",
    "    # Выполняем кросс-валидацию и оцениваем SMAPE\n",
    "    scores = cross_val_score(model, features_train, target1_train, cv=kf, scoring=smape_scorer)\n",
    "    \n",
    "    # Вычисляем средний SMAPE\n",
    "    mean_smape = -scores.mean()  # Умножаем на -1, так как результаты отрицательные\n",
    "    \n",
    "    # Проверяем, является ли текущий SMAPE лучшим\n",
    "    if mean_smape < result_dt:\n",
    "        result_dt = mean_smape\n",
    "        best_depth = i\n",
    "        best_model_dt = model.fit(features_train, target1_train)  # Обучаем модель на всем обучающем наборе\n",
    "\n",
    "print(f'Лучший SMAPE rougher для DecisionTreeRegressor: {result_dt}, соответствующая глубина: {best_depth}')"
   ]
  },
  {
   "cell_type": "code",
   "execution_count": 72,
   "metadata": {},
   "outputs": [
    {
     "name": "stdout",
     "output_type": "stream",
     "text": [
      "Лучший SMAPE final для DecisionTreeRegressor: 7.928177550767029, соответствующая глубина: 5\n"
     ]
    }
   ],
   "source": [
    "# найдем лучшую модель дерева решений для final.output.recovery\n",
    "result_dt1 = float(\"inf\")  \n",
    "best_depth = 0\n",
    "best_model_dt1 = None\n",
    "\n",
    "for i in range(1, 6):\n",
    "    model = DecisionTreeRegressor(random_state=12345, max_depth=i)\n",
    "    scores = cross_val_score(model, features_train, target2_train, cv=kf, scoring=smape_scorer)\n",
    "    mean_smape = -scores.mean()  \n",
    "    if mean_smape < result_dt1:\n",
    "        result_dt1 = mean_smape\n",
    "        best_depth = i\n",
    "        best_model_dt1 = model.fit(features_train, target2_train)  \n",
    "\n",
    "print(f'Лучший SMAPE final для DecisionTreeRegressor: {result_dt1}, соответствующая глубина: {best_depth}')"
   ]
  },
  {
   "cell_type": "code",
   "execution_count": 73,
   "metadata": {},
   "outputs": [
    {
     "name": "stdout",
     "output_type": "stream",
     "text": [
      "Итоговый sMAPE для DecisionTreeRegressor: 7.075717785329334\n"
     ]
    }
   ],
   "source": [
    "dt_smape = 0.25 * result_dt + 0.75 * result_dt1\n",
    "print('Итоговый sMAPE для DecisionTreeRegressor:', dt_smape)"
   ]
  },
  {
   "cell_type": "markdown",
   "metadata": {},
   "source": [
    "#### Модель случайного леса"
   ]
  },
  {
   "cell_type": "code",
   "execution_count": 74,
   "metadata": {},
   "outputs": [
    {
     "name": "stdout",
     "output_type": "stream",
     "text": [
      "sMAPE наилучшей модели: 3.0302340042794365 Количество деревьев: 50 Максимальная глубина: 10\n"
     ]
    }
   ],
   "source": [
    "# обучим модель случайного леса с разными параметрами для rougher.output.recovery\n",
    "best_model = None\n",
    "best_result = float(\"inf\")  # Начальное значение для SMAPE (бесконечность)\n",
    "best_est = 0\n",
    "best_depth = 0\n",
    "\n",
    "# Перебор количества деревьев и глубины\n",
    "for est in range(10, 51, 10):  # Количество деревьев\n",
    "    for depth in range(1, 11):  # Максимальная глубина\n",
    "        model = RandomForestRegressor(random_state=12345, n_estimators=est, max_depth=depth)\n",
    "        \n",
    "        # Выполняем кросс-валидацию и оцениваем SMAPE\n",
    "        scores = cross_val_score(model, features_train, target1_train, cv=kf, scoring=smape_scorer)\n",
    "        \n",
    "        # Вычисляем средний SMAPE\n",
    "        mean_smape = -scores.mean()  # Умножаем на -1, так как результаты отрицательные\n",
    "        \n",
    "        # Проверяем, является ли текущий SMAPE лучшим\n",
    "        if mean_smape < best_result:\n",
    "            best_model = model  # Сохраняем лучшую модель\n",
    "            best_result = mean_smape  # Сохраняем лучший SMAPE\n",
    "            best_est = est  # Сохраняем лучшее количество деревьев\n",
    "            best_depth = depth  # Сохраняем лучшую глубину\n",
    "\n",
    "print(\"sMAPE rougher для случайного леса\", best_result, \"Количество деревьев:\", best_est, \"Максимальная глубина:\", best_depth)           "
   ]
  },
  {
   "cell_type": "code",
   "execution_count": 75,
   "metadata": {},
   "outputs": [
    {
     "name": "stdout",
     "output_type": "stream",
     "text": [
      "sMAPE final для случайного леса: 6.497954967625641 Количество деревьев: 50 Максимальная глубина: 10\n"
     ]
    }
   ],
   "source": [
    "# обучим модель случайного леса с разными параметрами для final.output.recovery\n",
    "best_model1 = None\n",
    "best_result1 = float(\"inf\")  # Начальное значение для SMAPE (бесконечность)\n",
    "best_est1 = 0\n",
    "best_depth1 = 0\n",
    "\n",
    "for est in range(10, 51, 10):  \n",
    "    for depth in range(1, 11):  \n",
    "        model = RandomForestRegressor(random_state=12345, n_estimators=est, max_depth=depth)\n",
    "        scores = cross_val_score(model, features_train, target2_train, cv=kf, scoring=smape_scorer)\n",
    "        mean_smape = -scores.mean()  \n",
    "        if mean_smape < best_result1:\n",
    "            best_model1 = model  # Сохраняем лучшую модель\n",
    "            best_result1 = mean_smape  # Сохраняем лучший SMAPE\n",
    "            best_est1 = est  # Сохраняем лучшее количество деревьев\n",
    "            best_depth1 = depth  # Сохраняем лучшую глубину\n",
    "\n",
    "print(\"sMAPE final для случайного леса:\", best_result1, \"Количество деревьев:\", best_est1, \"Максимальная глубина:\", best_depth1)   "
   ]
  },
  {
   "cell_type": "code",
   "execution_count": 77,
   "metadata": {},
   "outputs": [
    {
     "name": "stdout",
     "output_type": "stream",
     "text": [
      "Итоговый sMAPE для RandomForestRegressor: 5.631024726789089\n"
     ]
    }
   ],
   "source": [
    "rf_smape = 0.25 * best_result + 0.75 * best_result1\n",
    "print('Итоговый sMAPE для RandomForestRegressor:', rf_smape)"
   ]
  },
  {
   "cell_type": "markdown",
   "metadata": {},
   "source": [
    "#### Модель линейной регрессии"
   ]
  },
  {
   "cell_type": "code",
   "execution_count": 79,
   "metadata": {},
   "outputs": [
    {
     "name": "stdout",
     "output_type": "stream",
     "text": [
      "sMAPE rougher для линейной регрессии: 4.646405844013915 Лучший alpha: 10.0\n"
     ]
    }
   ],
   "source": [
    "# обучим модель линейной регрессии для rougher.output.recovery\n",
    "reg_model = None\n",
    "reg_result = float(\"inf\")  # Начальное значение для SMAPE (бесконечность)\n",
    "best_alpha = 0\n",
    "\n",
    "# Перебор значений alpha для Ridge регрессии\n",
    "for alpha in np.arange(0.1, 10.1, 0.1):  \n",
    "    model = Ridge(alpha=alpha, random_state=12345)\n",
    "    \n",
    "    # Выполняем кросс-валидацию и оцениваем SMAPE\n",
    "    scores = cross_val_score(model, features_train, target1_train, cv=kf, scoring=smape_scorer)\n",
    "    \n",
    "    # Вычисляем средний SMAPE\n",
    "    mean_smape = -scores.mean()  # Умножаем на -1, так как результаты отрицательные\n",
    "    \n",
    "    # Проверяем, является ли текущий SMAPE лучшим\n",
    "    if mean_smape < reg_result:\n",
    "        reg_model = model  # Сохраняем лучшую модель\n",
    "        reg_result = mean_smape  # Сохраняем лучший SMAPE\n",
    "        best_alpha = alpha  # Сохраняем лучший alpha\n",
    "\n",
    "print(\"sMAPE rougher для линейной регрессии:\", reg_result, \"Лучший alpha:\", best_alpha)"
   ]
  },
  {
   "cell_type": "code",
   "execution_count": 80,
   "metadata": {},
   "outputs": [
    {
     "name": "stdout",
     "output_type": "stream",
     "text": [
      "sMAPE final для линейной регрессии: 8.078014698438352 Лучший alpha: 10.0\n"
     ]
    }
   ],
   "source": [
    "# обучим модель линейной регрессии для final.output.recovery\n",
    "reg_model1 = None\n",
    "reg_result1 = float(\"inf\")  # Начальное значение для SMAPE (бесконечность)\n",
    "best_alpha1 = 0\n",
    "\n",
    "# Перебор значений alpha для Ridge регрессии\n",
    "for alpha in np.arange(0.1, 10.1, 0.1):  \n",
    "    model = Ridge(alpha=alpha, random_state=12345)\n",
    "    \n",
    "    # Выполняем кросс-валидацию и оцениваем SMAPE\n",
    "    scores = cross_val_score(model, features_train, target2_train, cv=kf, scoring=smape_scorer)\n",
    "    \n",
    "    # Вычисляем средний SMAPE\n",
    "    mean_smape = -scores.mean()  # Умножаем на -1, так как результаты отрицательные\n",
    "    \n",
    "    # Проверяем, является ли текущий SMAPE лучшим\n",
    "    if mean_smape < reg_result1:\n",
    "        reg_model1 = model  # Сохраняем лучшую модель\n",
    "        reg_result1 = mean_smape  # Сохраняем лучший SMAPE\n",
    "        best_alpha1 = alpha  # Сохраняем лучший alpha\n",
    "\n",
    "print(\"sMAPE final для линейной регрессии:\", reg_result1, \"Лучший alpha:\", best_alpha1)"
   ]
  },
  {
   "cell_type": "code",
   "execution_count": 81,
   "metadata": {},
   "outputs": [
    {
     "name": "stdout",
     "output_type": "stream",
     "text": [
      "Итоговый sMAPE для линейной регрессии: 7.220112484832243\n"
     ]
    }
   ],
   "source": [
    "r_smape = 0.25 * reg_result + 0.75 * reg_result1\n",
    "print('Итоговый sMAPE для линейной регрессии:', r_smape)"
   ]
  },
  {
   "cell_type": "markdown",
   "metadata": {},
   "source": [
    "### Проверка моделей на адекватность"
   ]
  },
  {
   "cell_type": "markdown",
   "metadata": {},
   "source": [
    "Сравним обученную нами модель со специальной моделью DummyRegressor\n"
   ]
  },
  {
   "cell_type": "code",
   "execution_count": 63,
   "metadata": {},
   "outputs": [
    {
     "name": "stdout",
     "output_type": "stream",
     "text": [
      "Средний SMAPE rougher для DummyRegressor: 7.344879520828185\n"
     ]
    }
   ],
   "source": [
    "# Создаем scorer для использования в cross_val_score\n",
    "smape_scorer = make_scorer(smape, greater_is_better=False)  # greater_is_better=False для минимизации SMAPE\n",
    "\n",
    "# Создаем модель DummyRegressor\n",
    "model_dum = DummyRegressor(strategy='mean')  \n",
    "\n",
    "# Устанавливаем кросс-валидацию\n",
    "kf = KFold(n_splits=5, shuffle=True, random_state=12345)\n",
    "\n",
    "# Заключаем кросс-валидацию\n",
    "scores = cross_val_score(model_dum, features_train, target1_train, cv=kf, scoring=smape_scorer)\n",
    "\n",
    "# Вычисляем средний SMAPE\n",
    "mean_smape_dumr = -scores.mean()  # Умножаем на -1, потому что greater_is_better=False\n",
    "\n",
    "print(f'Средний SMAPE rougher для DummyRegressor: {mean_smape_dumr}')"
   ]
  },
  {
   "cell_type": "code",
   "execution_count": 64,
   "metadata": {},
   "outputs": [
    {
     "name": "stdout",
     "output_type": "stream",
     "text": [
      "Средний SMAPE final для DummyRegressor: 10.197996615987913\n"
     ]
    }
   ],
   "source": [
    "model_dum = DummyRegressor(strategy='mean')  \n",
    "kf = KFold(n_splits=5, shuffle=True, random_state=12345)\n",
    "scores = cross_val_score(model_dum, features_train, target2_train, cv=kf, scoring=smape_scorer)\n",
    "mean_smape_dumf = -scores.mean()\n",
    "\n",
    "print(f'Средний SMAPE final для DummyRegressor: {mean_smape_dumf}')"
   ]
  },
  {
   "cell_type": "code",
   "execution_count": 66,
   "metadata": {},
   "outputs": [
    {
     "name": "stdout",
     "output_type": "stream",
     "text": [
      "Итоговый sMAPE для DummyRegressor: 9.484717342197982\n"
     ]
    }
   ],
   "source": [
    "dr_smape = 0.25 * mean_smape_dumr + 0.75 * mean_smape_dumf\n",
    "print('Итоговый sMAPE для DummyRegressor:', dr_smape)"
   ]
  },
  {
   "cell_type": "markdown",
   "metadata": {},
   "source": [
    "Все три модели показали большую точность, чем специальная модель. Проверку на адекватность прошли."
   ]
  },
  {
   "cell_type": "markdown",
   "metadata": {},
   "source": [
    "### Итог"
   ]
  },
  {
   "cell_type": "markdown",
   "metadata": {},
   "source": [
    "Итак, лучше всего себя показала модель случайного леса. Проверим ее работу на тестовой выборке."
   ]
  },
  {
   "cell_type": "code",
   "execution_count": 84,
   "metadata": {},
   "outputs": [],
   "source": [
    "best_model.fit(features_train, target1_train)\n",
    "pred1 = best_model.predict(features_test)\n",
    "smape_rougher = smape(pred1, target1_test)"
   ]
  },
  {
   "cell_type": "code",
   "execution_count": 85,
   "metadata": {},
   "outputs": [
    {
     "name": "stdout",
     "output_type": "stream",
     "text": [
      "Итоговый sMAPE на тестовой выборке 9.14419768459859\n"
     ]
    }
   ],
   "source": [
    "best_model1.fit(features_train, target2_train)\n",
    "pred2 = best_model1.predict(features_test)\n",
    "smape_final = smape(pred2, target2_test)\n",
    "print('Итоговый sMAPE на тестовой выборке', smape_rougher * 0.25 + smape_final * 0.75)"
   ]
  },
  {
   "cell_type": "markdown",
   "metadata": {},
   "source": [
    "## Выводы\n",
    "\n",
    "* Мы посмотрели, как меняются концентрации металлах на разных этапах очистки, сравнили распределения размеров гранул сырья на обучающей и тестовой выборках и исследовали сумманую концентрацию веществ на разных стадиях.\n",
    "* Суммарная концентрация всех веществ меньше всего в исходном сырье, больше всего - в финальном концентрате. В черновом концентрате суммарная концентрация выше, чем в продукте первичной очистки.\n",
    "* Мы проверили работу трех моделей с разными гиперпараметрами. Все модели прошли проверку на адекватность. Модель линейной регрессии показала sMAPE 7,2 - это самый высокий показатель среди всех моделей.\n",
    "* Модель случайного леса показала sMAPE, равный 5,6 - это лучшая модель среди обученных.\n",
    "* Итоговое sMAPE на тестовой выборке с использованием модели случайного леса - 9,1. Преимуществом модели случайного леса является более высокая точность, недостатком - длительность обучения."
   ]
  }
 ],
 "metadata": {
  "ExecuteTimeLog": [
   {
    "duration": 1574,
    "start_time": "2024-10-31T08:29:24.756Z"
   },
   {
    "duration": 620,
    "start_time": "2024-10-31T08:29:27.671Z"
   },
   {
    "duration": 440,
    "start_time": "2024-10-31T08:29:32.381Z"
   },
   {
    "duration": 427,
    "start_time": "2024-10-31T08:29:35.659Z"
   },
   {
    "duration": 25,
    "start_time": "2024-10-31T08:31:25.963Z"
   },
   {
    "duration": 16,
    "start_time": "2024-10-31T08:32:31.071Z"
   },
   {
    "duration": 13,
    "start_time": "2024-10-31T08:32:57.928Z"
   },
   {
    "duration": 109,
    "start_time": "2024-10-31T08:44:30.268Z"
   },
   {
    "duration": 120,
    "start_time": "2024-10-31T08:44:53.217Z"
   },
   {
    "duration": 23,
    "start_time": "2024-10-31T08:44:54.154Z"
   },
   {
    "duration": 6,
    "start_time": "2024-10-31T09:30:38.957Z"
   },
   {
    "duration": 427,
    "start_time": "2024-10-31T09:30:42.326Z"
   },
   {
    "duration": 65,
    "start_time": "2024-10-31T12:00:02.777Z"
   },
   {
    "duration": 91,
    "start_time": "2024-10-31T12:01:10.440Z"
   },
   {
    "duration": 69,
    "start_time": "2024-10-31T12:01:57.289Z"
   },
   {
    "duration": 67,
    "start_time": "2024-10-31T12:02:03.782Z"
   },
   {
    "duration": 1207,
    "start_time": "2024-10-31T12:02:35.110Z"
   },
   {
    "duration": 1089,
    "start_time": "2024-10-31T12:03:21.780Z"
   },
   {
    "duration": 7,
    "start_time": "2024-10-31T12:04:34.088Z"
   },
   {
    "duration": 8,
    "start_time": "2024-10-31T12:04:47.463Z"
   },
   {
    "duration": 4,
    "start_time": "2024-10-31T12:05:03.963Z"
   },
   {
    "duration": 10,
    "start_time": "2024-10-31T12:05:10.083Z"
   },
   {
    "duration": 11,
    "start_time": "2024-10-31T12:15:36.068Z"
   },
   {
    "duration": 6,
    "start_time": "2024-10-31T12:16:12.697Z"
   },
   {
    "duration": 5,
    "start_time": "2024-10-31T12:25:30.144Z"
   },
   {
    "duration": 5,
    "start_time": "2024-10-31T12:26:01.971Z"
   },
   {
    "duration": 4,
    "start_time": "2024-10-31T12:26:15.764Z"
   },
   {
    "duration": 9,
    "start_time": "2024-10-31T12:26:34.461Z"
   },
   {
    "duration": 5,
    "start_time": "2024-10-31T12:26:37.314Z"
   },
   {
    "duration": 4,
    "start_time": "2024-10-31T12:26:39.103Z"
   },
   {
    "duration": 63,
    "start_time": "2024-10-31T12:33:46.133Z"
   },
   {
    "duration": 66,
    "start_time": "2024-10-31T12:33:59.707Z"
   },
   {
    "duration": 11,
    "start_time": "2024-10-31T12:34:06.917Z"
   },
   {
    "duration": 82,
    "start_time": "2024-10-31T12:37:32.224Z"
   },
   {
    "duration": 6,
    "start_time": "2024-10-31T12:37:40.617Z"
   },
   {
    "duration": 46,
    "start_time": "2024-11-03T08:02:46.141Z"
   },
   {
    "duration": 1574,
    "start_time": "2024-11-03T08:02:51.339Z"
   },
   {
    "duration": 1876,
    "start_time": "2024-11-03T08:02:52.916Z"
   },
   {
    "duration": 18,
    "start_time": "2024-11-03T08:02:54.793Z"
   },
   {
    "duration": 1697,
    "start_time": "2024-11-03T08:02:54.813Z"
   },
   {
    "duration": 16,
    "start_time": "2024-11-03T08:02:56.511Z"
   },
   {
    "duration": 201,
    "start_time": "2024-11-03T08:02:56.528Z"
   },
   {
    "duration": 12,
    "start_time": "2024-11-03T08:02:56.730Z"
   },
   {
    "duration": 101,
    "start_time": "2024-11-03T08:02:56.744Z"
   },
   {
    "duration": 126,
    "start_time": "2024-11-03T08:02:56.846Z"
   },
   {
    "duration": 19,
    "start_time": "2024-11-03T08:02:56.975Z"
   },
   {
    "duration": 25,
    "start_time": "2024-11-03T08:02:56.996Z"
   },
   {
    "duration": 50,
    "start_time": "2024-11-03T08:02:57.023Z"
   },
   {
    "duration": 8,
    "start_time": "2024-11-03T08:02:57.074Z"
   },
   {
    "duration": 7,
    "start_time": "2024-11-03T08:02:57.084Z"
   },
   {
    "duration": 22,
    "start_time": "2024-11-03T08:02:57.092Z"
   },
   {
    "duration": 49,
    "start_time": "2024-11-03T11:33:34.135Z"
   },
   {
    "duration": 1625,
    "start_time": "2024-11-03T11:33:37.775Z"
   },
   {
    "duration": 601,
    "start_time": "2024-11-03T11:33:39.402Z"
   },
   {
    "duration": 19,
    "start_time": "2024-11-03T11:33:40.004Z"
   },
   {
    "duration": 476,
    "start_time": "2024-11-03T11:33:40.025Z"
   },
   {
    "duration": 16,
    "start_time": "2024-11-03T11:33:40.503Z"
   },
   {
    "duration": 1150,
    "start_time": "2024-11-03T11:33:40.520Z"
   },
   {
    "duration": 12,
    "start_time": "2024-11-03T11:33:41.672Z"
   },
   {
    "duration": 98,
    "start_time": "2024-11-03T11:33:41.685Z"
   },
   {
    "duration": 126,
    "start_time": "2024-11-03T11:33:41.785Z"
   },
   {
    "duration": 20,
    "start_time": "2024-11-03T11:33:41.913Z"
   },
   {
    "duration": 9,
    "start_time": "2024-11-03T11:33:41.934Z"
   },
   {
    "duration": 4,
    "start_time": "2024-11-03T11:33:41.945Z"
   },
   {
    "duration": 7,
    "start_time": "2024-11-03T11:33:41.951Z"
   },
   {
    "duration": 39,
    "start_time": "2024-11-03T11:33:41.960Z"
   },
   {
    "duration": 10,
    "start_time": "2024-11-03T11:33:42.001Z"
   },
   {
    "duration": 1086,
    "start_time": "2024-11-03T11:33:42.012Z"
   },
   {
    "duration": 13,
    "start_time": "2024-11-03T11:33:59.320Z"
   },
   {
    "duration": 1034,
    "start_time": "2024-11-03T11:34:12.970Z"
   },
   {
    "duration": 11,
    "start_time": "2024-11-03T11:38:49.434Z"
   },
   {
    "duration": 6,
    "start_time": "2024-11-03T11:39:30.698Z"
   },
   {
    "duration": 144,
    "start_time": "2024-11-03T11:39:44.997Z"
   },
   {
    "duration": 454,
    "start_time": "2024-11-03T11:40:04.034Z"
   },
   {
    "duration": 192,
    "start_time": "2024-11-03T11:40:19.074Z"
   },
   {
    "duration": 4,
    "start_time": "2024-11-03T11:46:33.921Z"
   },
   {
    "duration": 115,
    "start_time": "2024-11-03T11:46:37.022Z"
   },
   {
    "duration": 133,
    "start_time": "2024-11-03T11:48:29.319Z"
   },
   {
    "duration": 164,
    "start_time": "2024-11-03T11:50:50.855Z"
   },
   {
    "duration": 3,
    "start_time": "2024-11-03T11:53:22.047Z"
   },
   {
    "duration": 154,
    "start_time": "2024-11-03T11:53:23.182Z"
   },
   {
    "duration": 154,
    "start_time": "2024-11-03T11:54:03.648Z"
   },
   {
    "duration": 167,
    "start_time": "2024-11-03T11:54:11.181Z"
   },
   {
    "duration": 11,
    "start_time": "2024-11-03T11:56:58.141Z"
   },
   {
    "duration": 163,
    "start_time": "2024-11-03T11:58:00.669Z"
   },
   {
    "duration": 12,
    "start_time": "2024-11-03T11:58:44.019Z"
   },
   {
    "duration": 183,
    "start_time": "2024-11-03T11:58:48.431Z"
   },
   {
    "duration": 12,
    "start_time": "2024-11-03T12:01:03.689Z"
   },
   {
    "duration": 155,
    "start_time": "2024-11-03T12:02:26.221Z"
   },
   {
    "duration": 155,
    "start_time": "2024-11-03T12:11:18.575Z"
   },
   {
    "duration": 112,
    "start_time": "2024-11-03T12:11:54.780Z"
   },
   {
    "duration": 125,
    "start_time": "2024-11-03T12:12:48.162Z"
   },
   {
    "duration": 110,
    "start_time": "2024-11-03T12:13:21.031Z"
   },
   {
    "duration": 216,
    "start_time": "2024-11-03T12:13:41.413Z"
   },
   {
    "duration": 127,
    "start_time": "2024-11-03T12:13:47.100Z"
   },
   {
    "duration": 92,
    "start_time": "2024-11-03T12:14:29.822Z"
   },
   {
    "duration": 9,
    "start_time": "2024-11-03T12:14:43.450Z"
   },
   {
    "duration": 114,
    "start_time": "2024-11-03T12:14:57.419Z"
   },
   {
    "duration": 136,
    "start_time": "2024-11-03T12:15:12.485Z"
   },
   {
    "duration": 144,
    "start_time": "2024-11-03T12:15:37.292Z"
   },
   {
    "duration": 11,
    "start_time": "2024-11-03T12:16:08.462Z"
   },
   {
    "duration": 12,
    "start_time": "2024-11-03T12:17:13.054Z"
   },
   {
    "duration": 94,
    "start_time": "2024-11-03T12:17:18.807Z"
   },
   {
    "duration": 68,
    "start_time": "2024-11-03T12:17:35.760Z"
   },
   {
    "duration": 126,
    "start_time": "2024-11-03T12:17:54.640Z"
   },
   {
    "duration": 137,
    "start_time": "2024-11-03T12:18:01.300Z"
   },
   {
    "duration": 136,
    "start_time": "2024-11-03T12:19:52.987Z"
   },
   {
    "duration": 148,
    "start_time": "2024-11-03T12:21:45.605Z"
   },
   {
    "duration": 163,
    "start_time": "2024-11-03T12:21:58.412Z"
   },
   {
    "duration": 183,
    "start_time": "2024-11-03T12:22:07.549Z"
   },
   {
    "duration": 181,
    "start_time": "2024-11-03T12:22:15.886Z"
   },
   {
    "duration": 193,
    "start_time": "2024-11-03T12:22:23.490Z"
   },
   {
    "duration": 181,
    "start_time": "2024-11-03T12:23:55.511Z"
   },
   {
    "duration": 197,
    "start_time": "2024-11-03T12:24:17.630Z"
   },
   {
    "duration": 302,
    "start_time": "2024-11-03T12:25:01.657Z"
   },
   {
    "duration": 192,
    "start_time": "2024-11-03T12:25:49.000Z"
   },
   {
    "duration": 238,
    "start_time": "2024-11-03T12:26:04.123Z"
   },
   {
    "duration": 156,
    "start_time": "2024-11-03T12:33:07.186Z"
   },
   {
    "duration": 178,
    "start_time": "2024-11-03T12:33:27.103Z"
   },
   {
    "duration": 162,
    "start_time": "2024-11-03T12:33:37.797Z"
   },
   {
    "duration": 203,
    "start_time": "2024-11-03T12:33:54.385Z"
   },
   {
    "duration": 198,
    "start_time": "2024-11-03T12:34:27.106Z"
   },
   {
    "duration": 161,
    "start_time": "2024-11-03T12:34:54.103Z"
   },
   {
    "duration": 164,
    "start_time": "2024-11-03T12:35:01.531Z"
   },
   {
    "duration": 1587,
    "start_time": "2024-11-03T16:01:42.356Z"
   },
   {
    "duration": 1839,
    "start_time": "2024-11-03T16:01:43.948Z"
   },
   {
    "duration": 18,
    "start_time": "2024-11-03T16:01:45.788Z"
   },
   {
    "duration": 1344,
    "start_time": "2024-11-03T16:01:45.808Z"
   },
   {
    "duration": 15,
    "start_time": "2024-11-03T16:01:47.154Z"
   },
   {
    "duration": 210,
    "start_time": "2024-11-03T16:01:47.170Z"
   },
   {
    "duration": 13,
    "start_time": "2024-11-03T16:01:47.381Z"
   },
   {
    "duration": 109,
    "start_time": "2024-11-03T16:01:47.395Z"
   },
   {
    "duration": 119,
    "start_time": "2024-11-03T16:01:47.506Z"
   },
   {
    "duration": 24,
    "start_time": "2024-11-03T16:01:47.627Z"
   },
   {
    "duration": 9,
    "start_time": "2024-11-03T16:01:47.652Z"
   },
   {
    "duration": 24,
    "start_time": "2024-11-03T16:01:47.662Z"
   },
   {
    "duration": 13,
    "start_time": "2024-11-03T16:01:47.687Z"
   },
   {
    "duration": 7,
    "start_time": "2024-11-03T16:01:47.701Z"
   },
   {
    "duration": 12,
    "start_time": "2024-11-03T16:01:47.709Z"
   },
   {
    "duration": 17,
    "start_time": "2024-11-03T16:01:47.722Z"
   },
   {
    "duration": 16,
    "start_time": "2024-11-03T16:01:47.740Z"
   },
   {
    "duration": 200,
    "start_time": "2024-11-03T16:01:47.757Z"
   },
   {
    "duration": 10,
    "start_time": "2024-11-03T16:01:47.958Z"
   },
   {
    "duration": 180,
    "start_time": "2024-11-03T16:01:47.969Z"
   },
   {
    "duration": 11,
    "start_time": "2024-11-03T16:01:48.150Z"
   },
   {
    "duration": 232,
    "start_time": "2024-11-03T16:01:48.163Z"
   },
   {
    "duration": 202,
    "start_time": "2024-11-03T16:01:48.397Z"
   },
   {
    "duration": 135,
    "start_time": "2024-11-03T16:03:36.332Z"
   },
   {
    "duration": 137,
    "start_time": "2024-11-03T16:03:46.206Z"
   },
   {
    "duration": 162,
    "start_time": "2024-11-03T16:03:51.499Z"
   },
   {
    "duration": 228,
    "start_time": "2024-11-03T16:03:59.329Z"
   },
   {
    "duration": 160,
    "start_time": "2024-11-03T16:06:59.735Z"
   },
   {
    "duration": 467,
    "start_time": "2024-11-03T16:07:38.587Z"
   },
   {
    "duration": 343,
    "start_time": "2024-11-03T16:07:55.495Z"
   },
   {
    "duration": 387,
    "start_time": "2024-11-03T16:08:06.570Z"
   },
   {
    "duration": 431,
    "start_time": "2024-11-03T16:09:02.929Z"
   },
   {
    "duration": 334,
    "start_time": "2024-11-03T16:09:19.069Z"
   },
   {
    "duration": 524,
    "start_time": "2024-11-03T16:09:31.505Z"
   },
   {
    "duration": 436,
    "start_time": "2024-11-03T16:09:57.140Z"
   },
   {
    "duration": 443,
    "start_time": "2024-11-03T16:10:07.214Z"
   },
   {
    "duration": 472,
    "start_time": "2024-11-03T16:10:22.480Z"
   },
   {
    "duration": 295,
    "start_time": "2024-11-03T16:10:43.565Z"
   },
   {
    "duration": 358,
    "start_time": "2024-11-03T16:11:10.247Z"
   },
   {
    "duration": 240,
    "start_time": "2024-11-03T16:11:23.395Z"
   },
   {
    "duration": 244,
    "start_time": "2024-11-03T16:11:36.405Z"
   },
   {
    "duration": 265,
    "start_time": "2024-11-03T16:13:34.881Z"
   },
   {
    "duration": 1607,
    "start_time": "2024-11-04T05:49:33.310Z"
   },
   {
    "duration": 609,
    "start_time": "2024-11-04T05:49:34.920Z"
   },
   {
    "duration": 18,
    "start_time": "2024-11-04T05:49:35.531Z"
   },
   {
    "duration": 462,
    "start_time": "2024-11-04T05:49:35.551Z"
   },
   {
    "duration": 15,
    "start_time": "2024-11-04T05:49:36.015Z"
   },
   {
    "duration": 440,
    "start_time": "2024-11-04T05:49:36.032Z"
   },
   {
    "duration": 12,
    "start_time": "2024-11-04T05:49:36.473Z"
   },
   {
    "duration": 101,
    "start_time": "2024-11-04T05:49:36.486Z"
   },
   {
    "duration": 121,
    "start_time": "2024-11-04T05:49:36.589Z"
   },
   {
    "duration": 19,
    "start_time": "2024-11-04T05:49:36.717Z"
   },
   {
    "duration": 8,
    "start_time": "2024-11-04T05:49:36.738Z"
   },
   {
    "duration": 12,
    "start_time": "2024-11-04T05:49:36.747Z"
   },
   {
    "duration": 12,
    "start_time": "2024-11-04T05:49:36.760Z"
   },
   {
    "duration": 17,
    "start_time": "2024-11-04T05:49:36.774Z"
   },
   {
    "duration": 26,
    "start_time": "2024-11-04T05:49:36.792Z"
   },
   {
    "duration": 10,
    "start_time": "2024-11-04T05:49:36.820Z"
   },
   {
    "duration": 15,
    "start_time": "2024-11-04T05:49:36.831Z"
   },
   {
    "duration": 188,
    "start_time": "2024-11-04T05:49:36.848Z"
   },
   {
    "duration": 12,
    "start_time": "2024-11-04T05:49:37.038Z"
   },
   {
    "duration": 186,
    "start_time": "2024-11-04T05:49:37.052Z"
   },
   {
    "duration": 12,
    "start_time": "2024-11-04T05:49:37.240Z"
   },
   {
    "duration": 258,
    "start_time": "2024-11-04T05:49:37.254Z"
   },
   {
    "duration": 220,
    "start_time": "2024-11-04T05:49:37.514Z"
   },
   {
    "duration": 264,
    "start_time": "2024-11-04T05:49:37.736Z"
   },
   {
    "duration": 194,
    "start_time": "2024-11-04T05:50:25.524Z"
   },
   {
    "duration": 168,
    "start_time": "2024-11-04T05:51:02.005Z"
   },
   {
    "duration": 155,
    "start_time": "2024-11-04T05:51:24.394Z"
   },
   {
    "duration": 203,
    "start_time": "2024-11-04T05:52:03.671Z"
   },
   {
    "duration": 11,
    "start_time": "2024-11-04T05:54:37.016Z"
   },
   {
    "duration": 113,
    "start_time": "2024-11-04T06:10:39.144Z"
   },
   {
    "duration": 9,
    "start_time": "2024-11-04T06:12:28.508Z"
   },
   {
    "duration": 63,
    "start_time": "2024-11-04T06:12:55.063Z"
   },
   {
    "duration": 5,
    "start_time": "2024-11-04T06:13:00.854Z"
   },
   {
    "duration": 11,
    "start_time": "2024-11-04T06:13:10.185Z"
   },
   {
    "duration": 12,
    "start_time": "2024-11-04T06:13:37.443Z"
   },
   {
    "duration": 12,
    "start_time": "2024-11-04T06:13:54.403Z"
   },
   {
    "duration": 125,
    "start_time": "2024-11-04T06:15:26.106Z"
   },
   {
    "duration": 160,
    "start_time": "2024-11-04T06:16:35.712Z"
   },
   {
    "duration": 171,
    "start_time": "2024-11-04T06:17:37.127Z"
   },
   {
    "duration": 13,
    "start_time": "2024-11-04T06:23:38.780Z"
   },
   {
    "duration": 11,
    "start_time": "2024-11-04T06:23:47.833Z"
   },
   {
    "duration": 276,
    "start_time": "2024-11-04T06:30:42.204Z"
   },
   {
    "duration": 5,
    "start_time": "2024-11-04T06:49:10.157Z"
   },
   {
    "duration": 6,
    "start_time": "2024-11-04T06:49:41.877Z"
   },
   {
    "duration": 6,
    "start_time": "2024-11-04T06:49:51.244Z"
   },
   {
    "duration": 11,
    "start_time": "2024-11-04T06:53:56.612Z"
   },
   {
    "duration": 8,
    "start_time": "2024-11-04T07:18:28.482Z"
   },
   {
    "duration": 21,
    "start_time": "2024-11-04T07:36:12.153Z"
   },
   {
    "duration": 20,
    "start_time": "2024-11-04T07:36:29.017Z"
   },
   {
    "duration": 14,
    "start_time": "2024-11-04T07:38:25.964Z"
   },
   {
    "duration": 1144,
    "start_time": "2024-11-04T07:38:34.105Z"
   },
   {
    "duration": 14,
    "start_time": "2024-11-04T07:38:47.412Z"
   },
   {
    "duration": 14,
    "start_time": "2024-11-04T07:40:31.948Z"
   },
   {
    "duration": 91,
    "start_time": "2024-11-04T07:40:55.638Z"
   },
   {
    "duration": 1490,
    "start_time": "2024-11-04T07:41:51.738Z"
   },
   {
    "duration": 477,
    "start_time": "2024-11-04T07:41:53.232Z"
   },
   {
    "duration": 19,
    "start_time": "2024-11-04T07:41:53.712Z"
   },
   {
    "duration": 357,
    "start_time": "2024-11-04T07:41:53.734Z"
   },
   {
    "duration": 29,
    "start_time": "2024-11-04T07:41:54.093Z"
   },
   {
    "duration": 119,
    "start_time": "2024-11-04T07:41:54.128Z"
   },
   {
    "duration": 12,
    "start_time": "2024-11-04T07:41:54.248Z"
   },
   {
    "duration": 123,
    "start_time": "2024-11-04T07:41:54.262Z"
   },
   {
    "duration": 127,
    "start_time": "2024-11-04T07:41:54.387Z"
   },
   {
    "duration": 30,
    "start_time": "2024-11-04T07:41:54.517Z"
   },
   {
    "duration": 22,
    "start_time": "2024-11-04T07:41:54.548Z"
   },
   {
    "duration": 5,
    "start_time": "2024-11-04T07:41:54.574Z"
   },
   {
    "duration": 15,
    "start_time": "2024-11-04T07:41:54.581Z"
   },
   {
    "duration": 24,
    "start_time": "2024-11-04T07:41:54.598Z"
   },
   {
    "duration": 13,
    "start_time": "2024-11-04T07:41:54.628Z"
   },
   {
    "duration": 17,
    "start_time": "2024-11-04T07:41:54.645Z"
   },
   {
    "duration": 26,
    "start_time": "2024-11-04T07:41:54.663Z"
   },
   {
    "duration": 286,
    "start_time": "2024-11-04T07:41:54.691Z"
   },
   {
    "duration": 7,
    "start_time": "2024-11-04T07:41:54.978Z"
   },
   {
    "duration": 156,
    "start_time": "2024-11-04T07:41:54.986Z"
   },
   {
    "duration": 0,
    "start_time": "2024-11-04T07:41:55.144Z"
   },
   {
    "duration": 0,
    "start_time": "2024-11-04T07:41:55.145Z"
   },
   {
    "duration": 0,
    "start_time": "2024-11-04T07:41:55.146Z"
   },
   {
    "duration": 0,
    "start_time": "2024-11-04T07:41:55.147Z"
   },
   {
    "duration": 0,
    "start_time": "2024-11-04T07:41:55.148Z"
   },
   {
    "duration": 0,
    "start_time": "2024-11-04T07:41:55.149Z"
   },
   {
    "duration": 0,
    "start_time": "2024-11-04T07:41:55.150Z"
   },
   {
    "duration": 0,
    "start_time": "2024-11-04T07:41:55.151Z"
   },
   {
    "duration": 0,
    "start_time": "2024-11-04T07:41:55.152Z"
   },
   {
    "duration": 0,
    "start_time": "2024-11-04T07:41:55.153Z"
   },
   {
    "duration": 0,
    "start_time": "2024-11-04T07:41:55.154Z"
   },
   {
    "duration": 0,
    "start_time": "2024-11-04T07:41:55.155Z"
   },
   {
    "duration": 0,
    "start_time": "2024-11-04T07:41:55.156Z"
   },
   {
    "duration": 5,
    "start_time": "2024-11-04T07:42:41.673Z"
   },
   {
    "duration": 15,
    "start_time": "2024-11-04T07:42:52.890Z"
   },
   {
    "duration": 13,
    "start_time": "2024-11-04T07:46:20.524Z"
   },
   {
    "duration": 13,
    "start_time": "2024-11-04T07:47:26.420Z"
   },
   {
    "duration": 12,
    "start_time": "2024-11-04T07:47:39.267Z"
   },
   {
    "duration": 13,
    "start_time": "2024-11-04T07:47:56.920Z"
   },
   {
    "duration": 12,
    "start_time": "2024-11-04T07:48:10.904Z"
   },
   {
    "duration": 14,
    "start_time": "2024-11-04T07:48:31.336Z"
   },
   {
    "duration": 15,
    "start_time": "2024-11-04T08:07:27.000Z"
   },
   {
    "duration": 15,
    "start_time": "2024-11-04T08:08:03.244Z"
   },
   {
    "duration": 15,
    "start_time": "2024-11-04T08:08:29.536Z"
   },
   {
    "duration": 14,
    "start_time": "2024-11-04T08:08:40.989Z"
   },
   {
    "duration": 17,
    "start_time": "2024-11-04T08:12:00.838Z"
   },
   {
    "duration": 14,
    "start_time": "2024-11-04T08:13:06.680Z"
   },
   {
    "duration": 18,
    "start_time": "2024-11-04T10:39:25.585Z"
   },
   {
    "duration": 37,
    "start_time": "2024-11-04T10:39:45.336Z"
   },
   {
    "duration": 35,
    "start_time": "2024-11-04T10:40:18.897Z"
   },
   {
    "duration": 41,
    "start_time": "2024-11-04T10:40:40.125Z"
   },
   {
    "duration": 1479,
    "start_time": "2024-11-04T11:57:52.276Z"
   },
   {
    "duration": 482,
    "start_time": "2024-11-04T11:57:55.039Z"
   },
   {
    "duration": 25,
    "start_time": "2024-11-04T11:57:58.654Z"
   },
   {
    "duration": 334,
    "start_time": "2024-11-04T11:58:03.845Z"
   },
   {
    "duration": 15,
    "start_time": "2024-11-04T11:58:07.453Z"
   },
   {
    "duration": 118,
    "start_time": "2024-11-04T11:58:12.137Z"
   },
   {
    "duration": 14,
    "start_time": "2024-11-04T11:58:16.402Z"
   },
   {
    "duration": 98,
    "start_time": "2024-11-04T11:58:19.387Z"
   },
   {
    "duration": 134,
    "start_time": "2024-11-04T11:58:21.065Z"
   },
   {
    "duration": 21,
    "start_time": "2024-11-04T11:58:23.494Z"
   },
   {
    "duration": 9,
    "start_time": "2024-11-04T11:58:25.551Z"
   },
   {
    "duration": 6,
    "start_time": "2024-11-04T11:58:28.353Z"
   },
   {
    "duration": 5,
    "start_time": "2024-11-04T11:58:29.464Z"
   },
   {
    "duration": 9,
    "start_time": "2024-11-04T11:58:33.164Z"
   },
   {
    "duration": 11,
    "start_time": "2024-11-04T11:58:38.822Z"
   },
   {
    "duration": 8,
    "start_time": "2024-11-04T11:58:42.603Z"
   },
   {
    "duration": 11,
    "start_time": "2024-11-04T11:58:45.122Z"
   },
   {
    "duration": 315,
    "start_time": "2024-11-04T11:58:49.886Z"
   },
   {
    "duration": 49,
    "start_time": "2024-11-04T16:23:07.446Z"
   },
   {
    "duration": 1528,
    "start_time": "2024-11-04T16:23:20.072Z"
   },
   {
    "duration": 546,
    "start_time": "2024-11-04T16:23:21.602Z"
   },
   {
    "duration": 17,
    "start_time": "2024-11-04T16:23:22.150Z"
   },
   {
    "duration": 415,
    "start_time": "2024-11-04T16:23:22.169Z"
   },
   {
    "duration": 14,
    "start_time": "2024-11-04T16:23:22.585Z"
   },
   {
    "duration": 406,
    "start_time": "2024-11-04T16:23:22.600Z"
   },
   {
    "duration": 11,
    "start_time": "2024-11-04T16:23:23.007Z"
   },
   {
    "duration": 95,
    "start_time": "2024-11-04T16:23:23.019Z"
   },
   {
    "duration": 121,
    "start_time": "2024-11-04T16:23:23.115Z"
   },
   {
    "duration": 30,
    "start_time": "2024-11-04T16:23:23.238Z"
   },
   {
    "duration": 8,
    "start_time": "2024-11-04T16:23:23.270Z"
   },
   {
    "duration": 5,
    "start_time": "2024-11-04T16:23:23.280Z"
   },
   {
    "duration": 4,
    "start_time": "2024-11-04T16:23:23.286Z"
   },
   {
    "duration": 7,
    "start_time": "2024-11-04T16:23:23.291Z"
   },
   {
    "duration": 8,
    "start_time": "2024-11-04T16:23:23.299Z"
   },
   {
    "duration": 4,
    "start_time": "2024-11-04T16:23:23.309Z"
   },
   {
    "duration": 54,
    "start_time": "2024-11-04T16:23:23.314Z"
   },
   {
    "duration": 245,
    "start_time": "2024-11-04T16:23:23.370Z"
   },
   {
    "duration": 5,
    "start_time": "2024-11-04T16:23:23.617Z"
   },
   {
    "duration": 23,
    "start_time": "2024-11-04T16:23:23.623Z"
   },
   {
    "duration": 37,
    "start_time": "2024-11-04T16:23:23.647Z"
   },
   {
    "duration": 1386,
    "start_time": "2024-11-04T16:23:23.685Z"
   },
   {
    "duration": 3,
    "start_time": "2024-11-04T16:23:25.073Z"
   },
   {
    "duration": 259,
    "start_time": "2024-11-04T16:23:25.077Z"
   },
   {
    "duration": 1384,
    "start_time": "2024-11-04T16:23:25.337Z"
   },
   {
    "duration": 268,
    "start_time": "2024-11-04T16:23:26.723Z"
   },
   {
    "duration": 1365,
    "start_time": "2024-11-04T16:23:26.992Z"
   },
   {
    "duration": 366,
    "start_time": "2024-11-04T16:23:28.361Z"
   },
   {
    "duration": 188,
    "start_time": "2024-11-04T16:23:28.729Z"
   },
   {
    "duration": 233,
    "start_time": "2024-11-04T16:23:28.918Z"
   },
   {
    "duration": 1695,
    "start_time": "2024-11-05T06:00:36.425Z"
   },
   {
    "duration": 576,
    "start_time": "2024-11-05T06:00:41.340Z"
   },
   {
    "duration": 20,
    "start_time": "2024-11-05T06:00:58.752Z"
   },
   {
    "duration": 468,
    "start_time": "2024-11-05T06:01:08.437Z"
   },
   {
    "duration": 15,
    "start_time": "2024-11-05T06:01:17.445Z"
   },
   {
    "duration": 417,
    "start_time": "2024-11-05T06:01:27.365Z"
   },
   {
    "duration": 14,
    "start_time": "2024-11-05T06:01:45.143Z"
   },
   {
    "duration": 90,
    "start_time": "2024-11-05T06:01:53.347Z"
   },
   {
    "duration": 113,
    "start_time": "2024-11-05T06:02:05.289Z"
   },
   {
    "duration": 21,
    "start_time": "2024-11-05T06:02:09.247Z"
   },
   {
    "duration": 9,
    "start_time": "2024-11-05T06:02:23.595Z"
   },
   {
    "duration": 7,
    "start_time": "2024-11-05T06:02:33.939Z"
   },
   {
    "duration": 5,
    "start_time": "2024-11-05T06:02:36.894Z"
   },
   {
    "duration": 7,
    "start_time": "2024-11-05T06:02:42.891Z"
   },
   {
    "duration": 10,
    "start_time": "2024-11-05T06:02:51.093Z"
   },
   {
    "duration": 5,
    "start_time": "2024-11-05T06:03:25.571Z"
   },
   {
    "duration": 9,
    "start_time": "2024-11-05T06:03:30.434Z"
   },
   {
    "duration": 258,
    "start_time": "2024-11-05T06:03:37.251Z"
   },
   {
    "duration": 7,
    "start_time": "2024-11-05T06:03:45.050Z"
   },
   {
    "duration": 5,
    "start_time": "2024-11-05T06:03:52.429Z"
   },
   {
    "duration": 1539,
    "start_time": "2024-11-05T09:03:41.458Z"
   },
   {
    "duration": 1800,
    "start_time": "2024-11-05T09:03:43.000Z"
   },
   {
    "duration": 19,
    "start_time": "2024-11-05T09:03:44.801Z"
   },
   {
    "duration": 1327,
    "start_time": "2024-11-05T09:03:44.822Z"
   },
   {
    "duration": 16,
    "start_time": "2024-11-05T09:03:46.150Z"
   },
   {
    "duration": 210,
    "start_time": "2024-11-05T09:03:46.168Z"
   },
   {
    "duration": 12,
    "start_time": "2024-11-05T09:03:46.379Z"
   },
   {
    "duration": 114,
    "start_time": "2024-11-05T09:03:46.393Z"
   },
   {
    "duration": 129,
    "start_time": "2024-11-05T09:03:46.509Z"
   },
   {
    "duration": 19,
    "start_time": "2024-11-05T09:03:46.640Z"
   },
   {
    "duration": 10,
    "start_time": "2024-11-05T09:03:46.660Z"
   },
   {
    "duration": 35,
    "start_time": "2024-11-05T09:03:46.671Z"
   },
   {
    "duration": 21,
    "start_time": "2024-11-05T09:03:46.708Z"
   },
   {
    "duration": 66,
    "start_time": "2024-11-05T09:03:46.731Z"
   },
   {
    "duration": 56,
    "start_time": "2024-11-05T09:03:46.799Z"
   },
   {
    "duration": 17,
    "start_time": "2024-11-05T09:03:46.857Z"
   },
   {
    "duration": 17,
    "start_time": "2024-11-05T09:03:46.875Z"
   },
   {
    "duration": 266,
    "start_time": "2024-11-05T09:03:46.894Z"
   },
   {
    "duration": 7,
    "start_time": "2024-11-05T09:03:47.161Z"
   },
   {
    "duration": 102,
    "start_time": "2024-11-05T09:03:47.169Z"
   },
   {
    "duration": 74,
    "start_time": "2024-11-05T09:03:47.273Z"
   },
   {
    "duration": 17,
    "start_time": "2024-11-05T09:03:47.350Z"
   },
   {
    "duration": 42,
    "start_time": "2024-11-05T09:03:47.369Z"
   },
   {
    "duration": 208,
    "start_time": "2024-11-05T09:03:47.412Z"
   },
   {
    "duration": 11,
    "start_time": "2024-11-05T09:03:47.621Z"
   },
   {
    "duration": 172,
    "start_time": "2024-11-05T09:03:47.633Z"
   },
   {
    "duration": 19,
    "start_time": "2024-11-05T09:03:47.806Z"
   },
   {
    "duration": 253,
    "start_time": "2024-11-05T09:03:47.828Z"
   },
   {
    "duration": 201,
    "start_time": "2024-11-05T09:03:48.083Z"
   },
   {
    "duration": 274,
    "start_time": "2024-11-05T09:03:48.286Z"
   },
   {
    "duration": 11,
    "start_time": "2024-11-05T09:03:48.562Z"
   },
   {
    "duration": 12,
    "start_time": "2024-11-05T09:03:48.575Z"
   },
   {
    "duration": 172,
    "start_time": "2024-11-05T09:03:48.589Z"
   },
   {
    "duration": 2,
    "start_time": "2024-11-05T09:03:48.763Z"
   },
   {
    "duration": 4,
    "start_time": "2024-11-05T10:01:56.134Z"
   },
   {
    "duration": 15,
    "start_time": "2024-11-05T10:12:42.449Z"
   },
   {
    "duration": 8,
    "start_time": "2024-11-05T10:13:38.415Z"
   },
   {
    "duration": 117,
    "start_time": "2024-11-05T10:17:00.687Z"
   },
   {
    "duration": 87,
    "start_time": "2024-11-05T10:17:56.456Z"
   },
   {
    "duration": 979,
    "start_time": "2024-11-05T10:18:47.371Z"
   },
   {
    "duration": 1360,
    "start_time": "2024-11-05T10:18:57.879Z"
   },
   {
    "duration": 836,
    "start_time": "2024-11-05T10:19:20.324Z"
   },
   {
    "duration": 11,
    "start_time": "2024-11-05T10:19:44.458Z"
   },
   {
    "duration": 17,
    "start_time": "2024-11-05T10:23:45.230Z"
   },
   {
    "duration": 140,
    "start_time": "2024-11-05T10:24:48.402Z"
   },
   {
    "duration": 103,
    "start_time": "2024-11-05T10:25:29.381Z"
   },
   {
    "duration": 3,
    "start_time": "2024-11-05T10:25:50.450Z"
   },
   {
    "duration": 99,
    "start_time": "2024-11-05T10:29:00.745Z"
   },
   {
    "duration": 73,
    "start_time": "2024-11-05T10:30:04.013Z"
   },
   {
    "duration": 28,
    "start_time": "2024-11-05T10:32:07.698Z"
   },
   {
    "duration": 13,
    "start_time": "2024-11-05T10:46:17.739Z"
   },
   {
    "duration": 9,
    "start_time": "2024-11-05T10:46:39.857Z"
   },
   {
    "duration": 11,
    "start_time": "2024-11-05T10:47:05.694Z"
   },
   {
    "duration": 10,
    "start_time": "2024-11-05T10:47:25.196Z"
   },
   {
    "duration": 11,
    "start_time": "2024-11-05T10:54:18.587Z"
   },
   {
    "duration": 9,
    "start_time": "2024-11-05T10:54:52.437Z"
   },
   {
    "duration": 3,
    "start_time": "2024-11-05T10:55:25.990Z"
   },
   {
    "duration": 1362,
    "start_time": "2024-11-05T10:57:13.636Z"
   },
   {
    "duration": 440,
    "start_time": "2024-11-05T10:57:21.111Z"
   },
   {
    "duration": 18,
    "start_time": "2024-11-05T10:57:24.817Z"
   },
   {
    "duration": 321,
    "start_time": "2024-11-05T10:57:29.704Z"
   },
   {
    "duration": 16,
    "start_time": "2024-11-05T10:57:32.617Z"
   },
   {
    "duration": 116,
    "start_time": "2024-11-05T10:57:38.122Z"
   },
   {
    "duration": 11,
    "start_time": "2024-11-05T10:57:40.896Z"
   },
   {
    "duration": 97,
    "start_time": "2024-11-05T10:57:52.531Z"
   },
   {
    "duration": 114,
    "start_time": "2024-11-05T10:57:53.868Z"
   },
   {
    "duration": 20,
    "start_time": "2024-11-05T10:57:55.595Z"
   },
   {
    "duration": 9,
    "start_time": "2024-11-05T10:57:59.130Z"
   },
   {
    "duration": 5,
    "start_time": "2024-11-05T10:58:02.788Z"
   },
   {
    "duration": 4,
    "start_time": "2024-11-05T10:58:04.598Z"
   },
   {
    "duration": 6,
    "start_time": "2024-11-05T10:58:06.861Z"
   },
   {
    "duration": 4,
    "start_time": "2024-11-05T10:58:09.986Z"
   },
   {
    "duration": 35,
    "start_time": "2024-11-05T10:58:18.151Z"
   },
   {
    "duration": 4,
    "start_time": "2024-11-05T10:58:20.696Z"
   },
   {
    "duration": 117,
    "start_time": "2024-11-05T10:58:27.314Z"
   },
   {
    "duration": 10,
    "start_time": "2024-11-05T10:58:49.981Z"
   },
   {
    "duration": 9,
    "start_time": "2024-11-05T11:00:26.635Z"
   },
   {
    "duration": 10,
    "start_time": "2024-11-05T11:01:10.683Z"
   },
   {
    "duration": 9,
    "start_time": "2024-11-05T11:01:36.905Z"
   },
   {
    "duration": 9,
    "start_time": "2024-11-05T11:06:01.629Z"
   },
   {
    "duration": 67,
    "start_time": "2024-11-05T11:06:25.946Z"
   },
   {
    "duration": 12,
    "start_time": "2024-11-05T11:06:40.682Z"
   },
   {
    "duration": 9,
    "start_time": "2024-11-05T11:06:47.242Z"
   },
   {
    "duration": 9,
    "start_time": "2024-11-05T11:07:01.738Z"
   },
   {
    "duration": 11,
    "start_time": "2024-11-05T11:07:36.479Z"
   },
   {
    "duration": 8,
    "start_time": "2024-11-05T11:08:25.853Z"
   },
   {
    "duration": 9,
    "start_time": "2024-11-05T11:08:35.942Z"
   },
   {
    "duration": 4,
    "start_time": "2024-11-05T11:09:18.150Z"
   },
   {
    "duration": 4,
    "start_time": "2024-11-05T11:09:30.881Z"
   },
   {
    "duration": 8,
    "start_time": "2024-11-05T11:10:42.605Z"
   },
   {
    "duration": 7,
    "start_time": "2024-11-05T11:11:18.854Z"
   },
   {
    "duration": 68,
    "start_time": "2024-11-05T11:11:34.483Z"
   },
   {
    "duration": 4,
    "start_time": "2024-11-05T11:11:38.099Z"
   },
   {
    "duration": 3,
    "start_time": "2024-11-05T11:12:41.198Z"
   },
   {
    "duration": 3,
    "start_time": "2024-11-05T11:12:45.836Z"
   },
   {
    "duration": 3,
    "start_time": "2024-11-05T11:13:06.792Z"
   },
   {
    "duration": 3,
    "start_time": "2024-11-05T11:13:41.690Z"
   },
   {
    "duration": 15,
    "start_time": "2024-11-05T11:15:18.247Z"
   },
   {
    "duration": 1416,
    "start_time": "2024-11-05T11:20:08.705Z"
   },
   {
    "duration": 427,
    "start_time": "2024-11-05T11:20:10.122Z"
   },
   {
    "duration": 18,
    "start_time": "2024-11-05T11:20:10.551Z"
   },
   {
    "duration": 310,
    "start_time": "2024-11-05T11:20:10.570Z"
   },
   {
    "duration": 16,
    "start_time": "2024-11-05T11:20:10.881Z"
   },
   {
    "duration": 106,
    "start_time": "2024-11-05T11:20:10.899Z"
   },
   {
    "duration": 16,
    "start_time": "2024-11-05T11:20:11.006Z"
   },
   {
    "duration": 100,
    "start_time": "2024-11-05T11:20:11.023Z"
   },
   {
    "duration": 115,
    "start_time": "2024-11-05T11:20:11.124Z"
   },
   {
    "duration": 20,
    "start_time": "2024-11-05T11:20:11.241Z"
   },
   {
    "duration": 97,
    "start_time": "2024-11-05T11:20:11.262Z"
   },
   {
    "duration": 4,
    "start_time": "2024-11-05T11:20:11.360Z"
   },
   {
    "duration": 10,
    "start_time": "2024-11-05T11:20:11.365Z"
   },
   {
    "duration": 19,
    "start_time": "2024-11-05T11:20:11.376Z"
   },
   {
    "duration": 4,
    "start_time": "2024-11-05T11:20:11.396Z"
   },
   {
    "duration": 13,
    "start_time": "2024-11-05T11:20:11.402Z"
   },
   {
    "duration": 63,
    "start_time": "2024-11-05T11:20:11.417Z"
   },
   {
    "duration": 9,
    "start_time": "2024-11-05T11:20:11.481Z"
   },
   {
    "duration": 9,
    "start_time": "2024-11-05T11:20:11.492Z"
   },
   {
    "duration": 6,
    "start_time": "2024-11-05T11:20:11.520Z"
   },
   {
    "duration": 7,
    "start_time": "2024-11-05T11:20:11.527Z"
   },
   {
    "duration": 271,
    "start_time": "2024-11-05T11:20:11.536Z"
   },
   {
    "duration": 12,
    "start_time": "2024-11-05T11:20:11.809Z"
   },
   {
    "duration": 88,
    "start_time": "2024-11-05T11:20:11.823Z"
   },
   {
    "duration": 12,
    "start_time": "2024-11-05T11:20:11.913Z"
   },
   {
    "duration": 5,
    "start_time": "2024-11-05T11:20:11.926Z"
   },
   {
    "duration": 177,
    "start_time": "2024-11-05T11:20:11.932Z"
   },
   {
    "duration": 15,
    "start_time": "2024-11-05T11:20:12.112Z"
   },
   {
    "duration": 157,
    "start_time": "2024-11-05T11:20:12.129Z"
   },
   {
    "duration": 11,
    "start_time": "2024-11-05T11:20:12.288Z"
   },
   {
    "duration": 187,
    "start_time": "2024-11-05T11:20:12.300Z"
   },
   {
    "duration": 270,
    "start_time": "2024-11-05T11:20:12.488Z"
   },
   {
    "duration": 276,
    "start_time": "2024-11-05T11:20:12.759Z"
   },
   {
    "duration": 11,
    "start_time": "2024-11-05T11:20:13.037Z"
   },
   {
    "duration": 16,
    "start_time": "2024-11-05T11:20:13.050Z"
   },
   {
    "duration": 160,
    "start_time": "2024-11-05T11:20:13.067Z"
   },
   {
    "duration": 4,
    "start_time": "2024-11-05T11:20:13.228Z"
   },
   {
    "duration": 15,
    "start_time": "2024-11-05T11:20:13.233Z"
   },
   {
    "duration": 9,
    "start_time": "2024-11-05T11:20:13.249Z"
   },
   {
    "duration": 168,
    "start_time": "2024-11-05T11:28:42.669Z"
   },
   {
    "duration": 13,
    "start_time": "2024-11-05T11:35:42.378Z"
   },
   {
    "duration": 10,
    "start_time": "2024-11-05T11:37:33.901Z"
   },
   {
    "duration": 70,
    "start_time": "2024-11-05T11:38:04.603Z"
   },
   {
    "duration": 10,
    "start_time": "2024-11-05T11:38:16.437Z"
   },
   {
    "duration": 10,
    "start_time": "2024-11-05T11:38:39.355Z"
   },
   {
    "duration": 418,
    "start_time": "2024-11-05T11:39:15.609Z"
   },
   {
    "duration": 8,
    "start_time": "2024-11-05T11:39:32.977Z"
   },
   {
    "duration": 15,
    "start_time": "2024-11-05T11:39:44.619Z"
   },
   {
    "duration": 7,
    "start_time": "2024-11-05T11:42:40.830Z"
   },
   {
    "duration": 58,
    "start_time": "2024-11-05T11:46:14.621Z"
   },
   {
    "duration": 5,
    "start_time": "2024-11-05T11:46:54.273Z"
   },
   {
    "duration": 5,
    "start_time": "2024-11-05T11:46:55.426Z"
   },
   {
    "duration": 20,
    "start_time": "2024-11-05T11:46:56.556Z"
   },
   {
    "duration": 8,
    "start_time": "2024-11-05T12:01:34.166Z"
   },
   {
    "duration": 8,
    "start_time": "2024-11-05T12:02:03.664Z"
   },
   {
    "duration": 7,
    "start_time": "2024-11-05T12:02:34.229Z"
   },
   {
    "duration": 8,
    "start_time": "2024-11-05T12:02:57.715Z"
   },
   {
    "duration": 14,
    "start_time": "2024-11-05T12:11:14.843Z"
   },
   {
    "duration": 9,
    "start_time": "2024-11-05T12:14:09.606Z"
   },
   {
    "duration": 10,
    "start_time": "2024-11-05T12:15:07.171Z"
   },
   {
    "duration": 12,
    "start_time": "2024-11-05T12:15:29.138Z"
   },
   {
    "duration": 8,
    "start_time": "2024-11-05T12:15:43.374Z"
   },
   {
    "duration": 20,
    "start_time": "2024-11-05T12:18:09.443Z"
   },
   {
    "duration": 18,
    "start_time": "2024-11-05T12:18:53.797Z"
   },
   {
    "duration": 1504,
    "start_time": "2024-11-05T12:22:48.026Z"
   },
   {
    "duration": 446,
    "start_time": "2024-11-05T12:22:49.532Z"
   },
   {
    "duration": 18,
    "start_time": "2024-11-05T12:22:49.980Z"
   },
   {
    "duration": 322,
    "start_time": "2024-11-05T12:22:50.000Z"
   },
   {
    "duration": 19,
    "start_time": "2024-11-05T12:22:50.324Z"
   },
   {
    "duration": 109,
    "start_time": "2024-11-05T12:22:50.344Z"
   },
   {
    "duration": 13,
    "start_time": "2024-11-05T12:22:50.454Z"
   },
   {
    "duration": 114,
    "start_time": "2024-11-05T12:22:50.469Z"
   },
   {
    "duration": 131,
    "start_time": "2024-11-05T12:22:50.585Z"
   },
   {
    "duration": 20,
    "start_time": "2024-11-05T12:22:50.720Z"
   },
   {
    "duration": 9,
    "start_time": "2024-11-05T12:22:50.742Z"
   },
   {
    "duration": 8,
    "start_time": "2024-11-05T12:22:50.752Z"
   },
   {
    "duration": 77,
    "start_time": "2024-11-05T12:22:50.761Z"
   },
   {
    "duration": 50,
    "start_time": "2024-11-05T12:22:50.839Z"
   },
   {
    "duration": 12,
    "start_time": "2024-11-05T12:22:50.891Z"
   },
   {
    "duration": 12,
    "start_time": "2024-11-05T12:22:50.905Z"
   },
   {
    "duration": 10,
    "start_time": "2024-11-05T12:22:50.919Z"
   },
   {
    "duration": 5,
    "start_time": "2024-11-05T12:22:50.931Z"
   },
   {
    "duration": 280,
    "start_time": "2024-11-05T12:22:50.937Z"
   },
   {
    "duration": 10,
    "start_time": "2024-11-05T12:22:51.220Z"
   },
   {
    "duration": 17,
    "start_time": "2024-11-05T12:22:51.232Z"
   },
   {
    "duration": 83,
    "start_time": "2024-11-05T12:22:51.251Z"
   },
   {
    "duration": 5,
    "start_time": "2024-11-05T12:22:51.336Z"
   },
   {
    "duration": 16,
    "start_time": "2024-11-05T12:22:51.343Z"
   },
   {
    "duration": 61,
    "start_time": "2024-11-05T12:22:51.361Z"
   },
   {
    "duration": 7,
    "start_time": "2024-11-05T12:22:51.424Z"
   },
   {
    "duration": 89,
    "start_time": "2024-11-05T12:22:51.432Z"
   },
   {
    "duration": 26,
    "start_time": "2024-11-05T12:22:51.525Z"
   },
   {
    "duration": 79,
    "start_time": "2024-11-05T12:22:51.553Z"
   },
   {
    "duration": 14,
    "start_time": "2024-11-05T12:22:51.634Z"
   },
   {
    "duration": 44,
    "start_time": "2024-11-05T12:22:51.649Z"
   },
   {
    "duration": 180,
    "start_time": "2024-11-05T12:22:51.694Z"
   },
   {
    "duration": 12,
    "start_time": "2024-11-05T12:22:51.875Z"
   },
   {
    "duration": 178,
    "start_time": "2024-11-05T12:22:51.888Z"
   },
   {
    "duration": 12,
    "start_time": "2024-11-05T12:22:52.067Z"
   },
   {
    "duration": 171,
    "start_time": "2024-11-05T12:22:52.080Z"
   },
   {
    "duration": 270,
    "start_time": "2024-11-05T12:22:52.253Z"
   },
   {
    "duration": 253,
    "start_time": "2024-11-05T12:22:52.524Z"
   },
   {
    "duration": 10,
    "start_time": "2024-11-05T12:22:52.779Z"
   },
   {
    "duration": 91,
    "start_time": "2024-11-05T12:22:52.791Z"
   },
   {
    "duration": 160,
    "start_time": "2024-11-05T12:22:52.884Z"
   },
   {
    "duration": 4,
    "start_time": "2024-11-05T12:22:53.046Z"
   },
   {
    "duration": 25,
    "start_time": "2024-11-05T12:22:53.051Z"
   },
   {
    "duration": 19,
    "start_time": "2024-11-05T12:22:53.078Z"
   },
   {
    "duration": 121,
    "start_time": "2024-11-05T12:22:53.099Z"
   },
   {
    "duration": 13,
    "start_time": "2024-11-05T14:05:32.128Z"
   },
   {
    "duration": 1350,
    "start_time": "2024-11-05T14:07:39.071Z"
   },
   {
    "duration": 442,
    "start_time": "2024-11-05T14:07:40.422Z"
   },
   {
    "duration": 17,
    "start_time": "2024-11-05T14:07:40.866Z"
   },
   {
    "duration": 308,
    "start_time": "2024-11-05T14:07:40.885Z"
   },
   {
    "duration": 15,
    "start_time": "2024-11-05T14:07:41.195Z"
   },
   {
    "duration": 105,
    "start_time": "2024-11-05T14:07:41.221Z"
   },
   {
    "duration": 12,
    "start_time": "2024-11-05T14:07:41.327Z"
   },
   {
    "duration": 107,
    "start_time": "2024-11-05T14:07:41.340Z"
   },
   {
    "duration": 123,
    "start_time": "2024-11-05T14:07:41.448Z"
   },
   {
    "duration": 21,
    "start_time": "2024-11-05T14:07:41.573Z"
   },
   {
    "duration": 26,
    "start_time": "2024-11-05T14:07:41.595Z"
   },
   {
    "duration": 4,
    "start_time": "2024-11-05T14:07:41.622Z"
   },
   {
    "duration": 4,
    "start_time": "2024-11-05T14:07:41.627Z"
   },
   {
    "duration": 8,
    "start_time": "2024-11-05T14:07:41.633Z"
   },
   {
    "duration": 3,
    "start_time": "2024-11-05T14:07:41.643Z"
   },
   {
    "duration": 23,
    "start_time": "2024-11-05T14:07:41.647Z"
   },
   {
    "duration": 10,
    "start_time": "2024-11-05T14:07:41.672Z"
   },
   {
    "duration": 6,
    "start_time": "2024-11-05T14:07:41.683Z"
   },
   {
    "duration": 304,
    "start_time": "2024-11-05T14:07:41.691Z"
   },
   {
    "duration": 11,
    "start_time": "2024-11-05T14:07:41.996Z"
   },
   {
    "duration": 29,
    "start_time": "2024-11-05T14:07:42.021Z"
   },
   {
    "duration": 7,
    "start_time": "2024-11-05T14:07:42.052Z"
   },
   {
    "duration": 4,
    "start_time": "2024-11-05T14:07:42.060Z"
   },
   {
    "duration": 9,
    "start_time": "2024-11-05T14:07:42.066Z"
   },
   {
    "duration": 72,
    "start_time": "2024-11-05T14:07:42.077Z"
   },
   {
    "duration": 7,
    "start_time": "2024-11-05T14:07:42.150Z"
   },
   {
    "duration": 6,
    "start_time": "2024-11-05T14:07:42.158Z"
   },
   {
    "duration": 11,
    "start_time": "2024-11-05T14:07:42.167Z"
   },
   {
    "duration": 9,
    "start_time": "2024-11-05T14:07:42.179Z"
   },
   {
    "duration": 36,
    "start_time": "2024-11-05T14:07:42.190Z"
   },
   {
    "duration": 5,
    "start_time": "2024-11-05T14:07:42.227Z"
   },
   {
    "duration": 202,
    "start_time": "2024-11-05T14:07:42.233Z"
   },
   {
    "duration": 15,
    "start_time": "2024-11-05T14:07:42.437Z"
   },
   {
    "duration": 186,
    "start_time": "2024-11-05T14:07:42.454Z"
   },
   {
    "duration": 12,
    "start_time": "2024-11-05T14:07:42.641Z"
   },
   {
    "duration": 172,
    "start_time": "2024-11-05T14:07:42.654Z"
   },
   {
    "duration": 284,
    "start_time": "2024-11-05T14:07:42.828Z"
   },
   {
    "duration": 268,
    "start_time": "2024-11-05T14:07:43.113Z"
   },
   {
    "duration": 12,
    "start_time": "2024-11-05T14:07:43.383Z"
   },
   {
    "duration": 25,
    "start_time": "2024-11-05T14:07:43.396Z"
   },
   {
    "duration": 165,
    "start_time": "2024-11-05T14:07:43.423Z"
   },
   {
    "duration": 3,
    "start_time": "2024-11-05T14:07:43.590Z"
   },
   {
    "duration": 7,
    "start_time": "2024-11-05T14:07:43.595Z"
   },
   {
    "duration": 18,
    "start_time": "2024-11-05T14:07:43.603Z"
   },
   {
    "duration": 176,
    "start_time": "2024-11-05T14:07:43.622Z"
   },
   {
    "duration": 7,
    "start_time": "2024-11-05T14:08:22.015Z"
   },
   {
    "duration": 5,
    "start_time": "2024-11-05T14:08:23.346Z"
   },
   {
    "duration": 897,
    "start_time": "2024-11-05T14:08:24.892Z"
   },
   {
    "duration": 14,
    "start_time": "2024-11-05T14:11:49.170Z"
   },
   {
    "duration": 3,
    "start_time": "2024-11-05T14:16:22.213Z"
   },
   {
    "duration": 110,
    "start_time": "2024-11-05T14:16:26.314Z"
   },
   {
    "duration": 3,
    "start_time": "2024-11-05T14:17:08.763Z"
   },
   {
    "duration": 1104,
    "start_time": "2024-11-05T14:17:11.678Z"
   },
   {
    "duration": 4,
    "start_time": "2024-11-05T14:17:39.153Z"
   },
   {
    "duration": 755,
    "start_time": "2024-11-05T14:17:42.750Z"
   },
   {
    "duration": 767,
    "start_time": "2024-11-05T14:25:07.200Z"
   },
   {
    "duration": 748,
    "start_time": "2024-11-05T14:26:56.948Z"
   },
   {
    "duration": 766,
    "start_time": "2024-11-05T14:28:57.254Z"
   },
   {
    "duration": 862,
    "start_time": "2024-11-05T14:34:14.337Z"
   },
   {
    "duration": 962,
    "start_time": "2024-11-05T14:36:47.865Z"
   },
   {
    "duration": 1166,
    "start_time": "2024-11-05T14:45:27.103Z"
   },
   {
    "duration": 1176,
    "start_time": "2024-11-05T14:50:05.621Z"
   },
   {
    "duration": 920,
    "start_time": "2024-11-05T14:51:57.143Z"
   },
   {
    "duration": 650,
    "start_time": "2024-11-05T14:59:00.869Z"
   },
   {
    "duration": 1120,
    "start_time": "2024-11-05T16:11:01.610Z"
   },
   {
    "duration": 9,
    "start_time": "2024-11-05T16:12:05.860Z"
   },
   {
    "duration": 657,
    "start_time": "2024-11-05T16:12:27.278Z"
   },
   {
    "duration": 4,
    "start_time": "2024-11-05T17:58:15.491Z"
   },
   {
    "duration": 77,
    "start_time": "2024-11-05T17:58:18.417Z"
   },
   {
    "duration": 1285,
    "start_time": "2024-11-05T17:58:56.037Z"
   },
   {
    "duration": 70,
    "start_time": "2024-11-05T17:59:05.124Z"
   },
   {
    "duration": 1340,
    "start_time": "2024-11-05T17:59:14.904Z"
   },
   {
    "duration": 1316,
    "start_time": "2024-11-05T18:04:40.755Z"
   },
   {
    "duration": 421,
    "start_time": "2024-11-05T18:04:42.073Z"
   },
   {
    "duration": 16,
    "start_time": "2024-11-05T18:04:42.495Z"
   },
   {
    "duration": 312,
    "start_time": "2024-11-05T18:04:42.521Z"
   },
   {
    "duration": 17,
    "start_time": "2024-11-05T18:04:42.834Z"
   },
   {
    "duration": 150,
    "start_time": "2024-11-05T18:04:42.852Z"
   },
   {
    "duration": 12,
    "start_time": "2024-11-05T18:04:43.003Z"
   },
   {
    "duration": 94,
    "start_time": "2024-11-05T18:04:43.016Z"
   },
   {
    "duration": 119,
    "start_time": "2024-11-05T18:04:43.111Z"
   },
   {
    "duration": 20,
    "start_time": "2024-11-05T18:04:43.232Z"
   },
   {
    "duration": 8,
    "start_time": "2024-11-05T18:04:43.253Z"
   },
   {
    "duration": 5,
    "start_time": "2024-11-05T18:04:43.262Z"
   },
   {
    "duration": 4,
    "start_time": "2024-11-05T18:04:43.269Z"
   },
   {
    "duration": 11,
    "start_time": "2024-11-05T18:04:43.274Z"
   },
   {
    "duration": 35,
    "start_time": "2024-11-05T18:04:43.286Z"
   },
   {
    "duration": 10,
    "start_time": "2024-11-05T18:04:43.323Z"
   },
   {
    "duration": 10,
    "start_time": "2024-11-05T18:04:43.334Z"
   },
   {
    "duration": 8,
    "start_time": "2024-11-05T18:04:43.345Z"
   },
   {
    "duration": 268,
    "start_time": "2024-11-05T18:04:43.354Z"
   },
   {
    "duration": 9,
    "start_time": "2024-11-05T18:04:43.624Z"
   },
   {
    "duration": 21,
    "start_time": "2024-11-05T18:04:43.634Z"
   },
   {
    "duration": 15,
    "start_time": "2024-11-05T18:04:43.656Z"
   },
   {
    "duration": 7,
    "start_time": "2024-11-05T18:04:43.673Z"
   },
   {
    "duration": 29,
    "start_time": "2024-11-05T18:04:43.682Z"
   },
   {
    "duration": 77,
    "start_time": "2024-11-05T18:04:43.713Z"
   },
   {
    "duration": 7,
    "start_time": "2024-11-05T18:04:43.791Z"
   },
   {
    "duration": 18,
    "start_time": "2024-11-05T18:04:43.799Z"
   },
   {
    "duration": 28,
    "start_time": "2024-11-05T18:04:43.820Z"
   },
   {
    "duration": 48,
    "start_time": "2024-11-05T18:04:43.850Z"
   },
   {
    "duration": 16,
    "start_time": "2024-11-05T18:04:43.900Z"
   },
   {
    "duration": 12,
    "start_time": "2024-11-05T18:04:43.917Z"
   },
   {
    "duration": 185,
    "start_time": "2024-11-05T18:04:43.930Z"
   },
   {
    "duration": 14,
    "start_time": "2024-11-05T18:04:44.116Z"
   },
   {
    "duration": 192,
    "start_time": "2024-11-05T18:04:44.131Z"
   },
   {
    "duration": 12,
    "start_time": "2024-11-05T18:04:44.324Z"
   },
   {
    "duration": 158,
    "start_time": "2024-11-05T18:04:44.337Z"
   },
   {
    "duration": 258,
    "start_time": "2024-11-05T18:04:44.497Z"
   },
   {
    "duration": 254,
    "start_time": "2024-11-05T18:04:44.757Z"
   },
   {
    "duration": 16,
    "start_time": "2024-11-05T18:04:45.012Z"
   },
   {
    "duration": 22,
    "start_time": "2024-11-05T18:04:45.030Z"
   },
   {
    "duration": 159,
    "start_time": "2024-11-05T18:04:45.054Z"
   },
   {
    "duration": 7,
    "start_time": "2024-11-05T18:04:45.214Z"
   },
   {
    "duration": 24,
    "start_time": "2024-11-05T18:04:45.223Z"
   },
   {
    "duration": 16,
    "start_time": "2024-11-05T18:04:45.248Z"
   },
   {
    "duration": 1294,
    "start_time": "2024-11-05T18:04:45.265Z"
   },
   {
    "duration": 1281,
    "start_time": "2024-11-05T18:04:46.560Z"
   },
   {
    "duration": 341884,
    "start_time": "2024-11-05T18:04:47.843Z"
   },
   {
    "duration": 341141,
    "start_time": "2024-11-05T18:10:29.728Z"
   },
   {
    "duration": 371,
    "start_time": "2024-11-05T18:16:10.871Z"
   },
   {
    "duration": 307,
    "start_time": "2024-11-05T18:16:11.243Z"
   },
   {
    "duration": 41,
    "start_time": "2024-11-05T18:16:11.552Z"
   },
   {
    "duration": 3,
    "start_time": "2024-11-05T18:19:38.593Z"
   },
   {
    "duration": 1304,
    "start_time": "2024-11-05T18:33:53.997Z"
   },
   {
    "duration": 1288,
    "start_time": "2024-11-05T18:35:00.373Z"
   },
   {
    "duration": 346989,
    "start_time": "2024-11-05T18:36:24.672Z"
   },
   {
    "duration": 346504,
    "start_time": "2024-11-05T18:42:17.464Z"
   },
   {
    "duration": 3,
    "start_time": "2024-11-05T18:53:44.148Z"
   },
   {
    "duration": 45,
    "start_time": "2024-11-06T04:43:25.991Z"
   },
   {
    "duration": 1493,
    "start_time": "2024-11-06T04:44:28.674Z"
   },
   {
    "duration": 545,
    "start_time": "2024-11-06T04:44:30.169Z"
   },
   {
    "duration": 18,
    "start_time": "2024-11-06T04:44:30.716Z"
   },
   {
    "duration": 384,
    "start_time": "2024-11-06T04:44:30.736Z"
   },
   {
    "duration": 15,
    "start_time": "2024-11-06T04:44:31.121Z"
   },
   {
    "duration": 422,
    "start_time": "2024-11-06T04:44:31.138Z"
   },
   {
    "duration": 10,
    "start_time": "2024-11-06T04:44:31.561Z"
   },
   {
    "duration": 111,
    "start_time": "2024-11-06T04:44:31.572Z"
   },
   {
    "duration": 116,
    "start_time": "2024-11-06T04:44:31.684Z"
   },
   {
    "duration": 18,
    "start_time": "2024-11-06T04:44:31.802Z"
   },
   {
    "duration": 9,
    "start_time": "2024-11-06T04:44:31.821Z"
   },
   {
    "duration": 5,
    "start_time": "2024-11-06T04:44:31.831Z"
   },
   {
    "duration": 21,
    "start_time": "2024-11-06T04:44:31.837Z"
   },
   {
    "duration": 5,
    "start_time": "2024-11-06T04:44:31.859Z"
   },
   {
    "duration": 6,
    "start_time": "2024-11-06T04:44:31.865Z"
   },
   {
    "duration": 22,
    "start_time": "2024-11-06T04:44:31.872Z"
   },
   {
    "duration": 38,
    "start_time": "2024-11-06T04:44:31.895Z"
   },
   {
    "duration": 66,
    "start_time": "2024-11-06T04:44:31.934Z"
   },
   {
    "duration": 228,
    "start_time": "2024-11-06T04:44:32.001Z"
   },
   {
    "duration": 9,
    "start_time": "2024-11-06T04:44:32.231Z"
   },
   {
    "duration": 18,
    "start_time": "2024-11-06T04:44:32.242Z"
   },
   {
    "duration": 6,
    "start_time": "2024-11-06T04:44:32.262Z"
   },
   {
    "duration": 7,
    "start_time": "2024-11-06T04:44:32.269Z"
   },
   {
    "duration": 24,
    "start_time": "2024-11-06T04:44:32.278Z"
   },
   {
    "duration": 67,
    "start_time": "2024-11-06T04:44:32.303Z"
   },
   {
    "duration": 7,
    "start_time": "2024-11-06T04:44:32.371Z"
   },
   {
    "duration": 27,
    "start_time": "2024-11-06T04:44:32.379Z"
   },
   {
    "duration": 9,
    "start_time": "2024-11-06T04:44:32.409Z"
   },
   {
    "duration": 11,
    "start_time": "2024-11-06T04:44:32.420Z"
   },
   {
    "duration": 8,
    "start_time": "2024-11-06T04:44:32.433Z"
   },
   {
    "duration": 2,
    "start_time": "2024-11-06T04:44:32.442Z"
   },
   {
    "duration": 77,
    "start_time": "2024-11-06T04:44:34.757Z"
   },
   {
    "duration": 126,
    "start_time": "2024-11-06T04:44:52.891Z"
   },
   {
    "duration": 299,
    "start_time": "2024-11-06T04:45:39.828Z"
   },
   {
    "duration": 292,
    "start_time": "2024-11-06T04:46:08.327Z"
   },
   {
    "duration": 246,
    "start_time": "2024-11-06T04:48:38.973Z"
   },
   {
    "duration": 258,
    "start_time": "2024-11-06T04:51:02.299Z"
   },
   {
    "duration": 9,
    "start_time": "2024-11-06T04:56:40.537Z"
   },
   {
    "duration": 10,
    "start_time": "2024-11-06T04:56:46.778Z"
   },
   {
    "duration": 230,
    "start_time": "2024-11-06T04:56:48.834Z"
   },
   {
    "duration": 418,
    "start_time": "2024-11-06T04:57:21.345Z"
   },
   {
    "duration": 461,
    "start_time": "2024-11-06T04:57:41.919Z"
   },
   {
    "duration": 8,
    "start_time": "2024-11-06T04:58:40.178Z"
   },
   {
    "duration": 10,
    "start_time": "2024-11-06T04:58:45.977Z"
   },
   {
    "duration": 534,
    "start_time": "2024-11-06T04:58:47.869Z"
   },
   {
    "duration": 484,
    "start_time": "2024-11-06T05:59:06.387Z"
   },
   {
    "duration": 679,
    "start_time": "2024-11-06T05:59:35.655Z"
   },
   {
    "duration": 214,
    "start_time": "2024-11-06T06:06:58.464Z"
   },
   {
    "duration": 233,
    "start_time": "2024-11-06T06:07:42.736Z"
   },
   {
    "duration": 242,
    "start_time": "2024-11-06T06:07:57.207Z"
   },
   {
    "duration": 278,
    "start_time": "2024-11-06T06:08:23.392Z"
   },
   {
    "duration": 299,
    "start_time": "2024-11-06T06:09:51.924Z"
   },
   {
    "duration": 287,
    "start_time": "2024-11-06T06:10:17.297Z"
   },
   {
    "duration": 286,
    "start_time": "2024-11-06T06:11:36.950Z"
   },
   {
    "duration": 611,
    "start_time": "2024-11-06T06:12:55.391Z"
   },
   {
    "duration": 403,
    "start_time": "2024-11-06T06:13:06.309Z"
   },
   {
    "duration": 215,
    "start_time": "2024-11-06T06:14:35.111Z"
   },
   {
    "duration": 289,
    "start_time": "2024-11-06T06:15:11.641Z"
   },
   {
    "duration": 291,
    "start_time": "2024-11-06T06:15:25.140Z"
   },
   {
    "duration": 215,
    "start_time": "2024-11-06T06:15:57.579Z"
   },
   {
    "duration": 251,
    "start_time": "2024-11-06T06:16:28.041Z"
   },
   {
    "duration": 270,
    "start_time": "2024-11-06T06:29:29.682Z"
   },
   {
    "duration": 8,
    "start_time": "2024-11-06T06:42:08.141Z"
   },
   {
    "duration": 8,
    "start_time": "2024-11-06T06:42:15.376Z"
   },
   {
    "duration": 8,
    "start_time": "2024-11-06T06:42:18.845Z"
   },
   {
    "duration": 9,
    "start_time": "2024-11-06T06:42:32.608Z"
   },
   {
    "duration": 10,
    "start_time": "2024-11-06T06:42:34.543Z"
   },
   {
    "duration": 9,
    "start_time": "2024-11-06T06:42:38.683Z"
   },
   {
    "duration": 9,
    "start_time": "2024-11-06T06:42:47.436Z"
   },
   {
    "duration": 563,
    "start_time": "2024-11-06T06:43:18.584Z"
   },
   {
    "duration": 456,
    "start_time": "2024-11-06T06:51:51.629Z"
   },
   {
    "duration": 73,
    "start_time": "2024-11-06T07:47:06.401Z"
   },
   {
    "duration": 37,
    "start_time": "2024-11-06T07:48:41.431Z"
   },
   {
    "duration": 3,
    "start_time": "2024-11-06T07:54:02.477Z"
   },
   {
    "duration": 60,
    "start_time": "2024-11-06T07:54:15.504Z"
   },
   {
    "duration": 9,
    "start_time": "2024-11-06T07:54:37.194Z"
   },
   {
    "duration": 30,
    "start_time": "2024-11-06T07:54:58.562Z"
   },
   {
    "duration": 1332,
    "start_time": "2024-11-06T07:56:37.879Z"
   },
   {
    "duration": 375,
    "start_time": "2024-11-06T07:56:39.212Z"
   },
   {
    "duration": 16,
    "start_time": "2024-11-06T07:56:39.588Z"
   },
   {
    "duration": 256,
    "start_time": "2024-11-06T07:56:39.606Z"
   },
   {
    "duration": 14,
    "start_time": "2024-11-06T07:56:39.864Z"
   },
   {
    "duration": 90,
    "start_time": "2024-11-06T07:56:39.880Z"
   },
   {
    "duration": 11,
    "start_time": "2024-11-06T07:56:39.972Z"
   },
   {
    "duration": 104,
    "start_time": "2024-11-06T07:56:39.984Z"
   },
   {
    "duration": 120,
    "start_time": "2024-11-06T07:56:40.090Z"
   },
   {
    "duration": 19,
    "start_time": "2024-11-06T07:56:40.212Z"
   },
   {
    "duration": 7,
    "start_time": "2024-11-06T07:56:40.232Z"
   },
   {
    "duration": 19,
    "start_time": "2024-11-06T07:56:40.240Z"
   },
   {
    "duration": 7,
    "start_time": "2024-11-06T07:56:40.261Z"
   },
   {
    "duration": 6,
    "start_time": "2024-11-06T07:56:40.269Z"
   },
   {
    "duration": 4,
    "start_time": "2024-11-06T07:56:40.276Z"
   },
   {
    "duration": 11,
    "start_time": "2024-11-06T07:56:40.281Z"
   },
   {
    "duration": 10,
    "start_time": "2024-11-06T07:56:40.293Z"
   },
   {
    "duration": 4,
    "start_time": "2024-11-06T07:56:40.305Z"
   },
   {
    "duration": 268,
    "start_time": "2024-11-06T07:56:40.311Z"
   },
   {
    "duration": 10,
    "start_time": "2024-11-06T07:56:40.581Z"
   },
   {
    "duration": 9,
    "start_time": "2024-11-06T07:56:40.593Z"
   },
   {
    "duration": 10,
    "start_time": "2024-11-06T07:56:40.603Z"
   },
   {
    "duration": 6,
    "start_time": "2024-11-06T07:56:40.615Z"
   },
   {
    "duration": 11,
    "start_time": "2024-11-06T07:56:40.623Z"
   },
   {
    "duration": 29,
    "start_time": "2024-11-06T07:56:40.635Z"
   },
   {
    "duration": 6,
    "start_time": "2024-11-06T07:56:40.665Z"
   },
   {
    "duration": 19,
    "start_time": "2024-11-06T07:56:40.673Z"
   },
   {
    "duration": 9,
    "start_time": "2024-11-06T07:56:40.696Z"
   },
   {
    "duration": 10,
    "start_time": "2024-11-06T07:56:40.706Z"
   },
   {
    "duration": 9,
    "start_time": "2024-11-06T07:56:40.718Z"
   },
   {
    "duration": 497,
    "start_time": "2024-11-06T07:56:40.728Z"
   },
   {
    "duration": 10,
    "start_time": "2024-11-06T07:56:41.226Z"
   },
   {
    "duration": 509,
    "start_time": "2024-11-06T07:56:41.238Z"
   },
   {
    "duration": 15,
    "start_time": "2024-11-06T07:56:41.748Z"
   },
   {
    "duration": 436,
    "start_time": "2024-11-06T07:56:41.764Z"
   },
   {
    "duration": 190,
    "start_time": "2024-11-06T07:56:42.202Z"
   },
   {
    "duration": 3,
    "start_time": "2024-11-06T07:56:42.394Z"
   },
   {
    "duration": 149,
    "start_time": "2024-11-06T07:56:42.398Z"
   },
   {
    "duration": 0,
    "start_time": "2024-11-06T07:56:42.548Z"
   },
   {
    "duration": 0,
    "start_time": "2024-11-06T07:56:42.549Z"
   },
   {
    "duration": 0,
    "start_time": "2024-11-06T07:56:42.550Z"
   },
   {
    "duration": 0,
    "start_time": "2024-11-06T07:56:42.557Z"
   },
   {
    "duration": 0,
    "start_time": "2024-11-06T07:56:42.557Z"
   },
   {
    "duration": 0,
    "start_time": "2024-11-06T07:56:42.558Z"
   },
   {
    "duration": 0,
    "start_time": "2024-11-06T07:56:42.559Z"
   },
   {
    "duration": 0,
    "start_time": "2024-11-06T07:56:42.560Z"
   },
   {
    "duration": 0,
    "start_time": "2024-11-06T07:56:42.560Z"
   },
   {
    "duration": 0,
    "start_time": "2024-11-06T07:56:42.561Z"
   },
   {
    "duration": 0,
    "start_time": "2024-11-06T07:56:42.562Z"
   },
   {
    "duration": 0,
    "start_time": "2024-11-06T07:56:42.563Z"
   },
   {
    "duration": 0,
    "start_time": "2024-11-06T07:56:42.564Z"
   },
   {
    "duration": 0,
    "start_time": "2024-11-06T07:56:42.565Z"
   },
   {
    "duration": 0,
    "start_time": "2024-11-06T07:56:42.565Z"
   },
   {
    "duration": 0,
    "start_time": "2024-11-06T07:56:42.566Z"
   },
   {
    "duration": 0,
    "start_time": "2024-11-06T07:56:42.567Z"
   },
   {
    "duration": 0,
    "start_time": "2024-11-06T07:56:42.568Z"
   },
   {
    "duration": 31,
    "start_time": "2024-11-06T08:01:52.844Z"
   },
   {
    "duration": 7,
    "start_time": "2024-11-06T08:02:41.012Z"
   },
   {
    "duration": 5,
    "start_time": "2024-11-06T08:02:51.697Z"
   },
   {
    "duration": 37,
    "start_time": "2024-11-06T08:04:33.998Z"
   },
   {
    "duration": 30,
    "start_time": "2024-11-06T08:06:11.222Z"
   },
   {
    "duration": 29,
    "start_time": "2024-11-06T08:09:18.034Z"
   },
   {
    "duration": 30,
    "start_time": "2024-11-06T08:09:38.667Z"
   },
   {
    "duration": 4,
    "start_time": "2024-11-06T08:10:12.580Z"
   },
   {
    "duration": 38,
    "start_time": "2024-11-06T08:17:19.675Z"
   },
   {
    "duration": 38,
    "start_time": "2024-11-06T08:17:38.431Z"
   },
   {
    "duration": 266,
    "start_time": "2024-11-06T08:41:52.829Z"
   },
   {
    "duration": 10,
    "start_time": "2024-11-06T08:41:57.255Z"
   },
   {
    "duration": 9,
    "start_time": "2024-11-06T08:41:59.333Z"
   },
   {
    "duration": 142,
    "start_time": "2024-11-06T08:42:01.193Z"
   },
   {
    "duration": 521,
    "start_time": "2024-11-06T08:42:03.915Z"
   },
   {
    "duration": 45,
    "start_time": "2024-11-06T08:42:08.310Z"
   },
   {
    "duration": 3,
    "start_time": "2024-11-06T08:42:12.825Z"
   },
   {
    "duration": 5,
    "start_time": "2024-11-06T08:42:22.987Z"
   },
   {
    "duration": 4,
    "start_time": "2024-11-06T08:42:23.767Z"
   },
   {
    "duration": 4,
    "start_time": "2024-11-06T09:25:57.595Z"
   },
   {
    "duration": 2,
    "start_time": "2024-11-06T10:22:44.769Z"
   },
   {
    "duration": 24,
    "start_time": "2024-11-06T10:23:04.301Z"
   },
   {
    "duration": 23,
    "start_time": "2024-11-06T10:25:16.210Z"
   },
   {
    "duration": 22,
    "start_time": "2024-11-06T10:26:39.914Z"
   },
   {
    "duration": 22,
    "start_time": "2024-11-06T10:29:34.930Z"
   },
   {
    "duration": 22,
    "start_time": "2024-11-06T10:29:36.546Z"
   },
   {
    "duration": 4,
    "start_time": "2024-11-06T10:30:18.464Z"
   },
   {
    "duration": 3,
    "start_time": "2024-11-06T10:30:28.228Z"
   },
   {
    "duration": 5707,
    "start_time": "2024-11-06T10:55:47.709Z"
   },
   {
    "duration": 4723,
    "start_time": "2024-11-06T10:57:49.939Z"
   },
   {
    "duration": 5683,
    "start_time": "2024-11-06T10:58:24.789Z"
   },
   {
    "duration": 5862,
    "start_time": "2024-11-06T11:00:23.598Z"
   },
   {
    "duration": 5643,
    "start_time": "2024-11-06T11:02:17.414Z"
   },
   {
    "duration": 5745,
    "start_time": "2024-11-06T11:02:42.541Z"
   },
   {
    "duration": 3,
    "start_time": "2024-11-06T11:06:24.000Z"
   },
   {
    "duration": 1376290,
    "start_time": "2024-11-06T11:10:03.392Z"
   },
   {
    "duration": 1422588,
    "start_time": "2024-11-06T11:51:31.517Z"
   },
   {
    "duration": 11,
    "start_time": "2024-11-06T12:15:14.106Z"
   },
   {
    "duration": 4,
    "start_time": "2024-11-06T12:15:48.280Z"
   },
   {
    "duration": 4,
    "start_time": "2024-11-06T12:16:22.537Z"
   },
   {
    "duration": 50322,
    "start_time": "2024-11-06T12:16:30.045Z"
   },
   {
    "duration": 50802,
    "start_time": "2024-11-06T12:19:43.763Z"
   },
   {
    "duration": 3,
    "start_time": "2024-11-06T12:24:39.248Z"
   },
   {
    "duration": 13,
    "start_time": "2024-11-06T12:34:05.740Z"
   },
   {
    "duration": 19406,
    "start_time": "2024-11-06T13:12:35.065Z"
   },
   {
    "duration": 19528,
    "start_time": "2024-11-06T13:13:16.675Z"
   },
   {
    "duration": 20252,
    "start_time": "2024-11-06T13:13:36.205Z"
   }
  ],
  "kernelspec": {
   "display_name": "Python 3 (ipykernel)",
   "language": "python",
   "name": "python3"
  },
  "language_info": {
   "codemirror_mode": {
    "name": "ipython",
    "version": 3
   },
   "file_extension": ".py",
   "mimetype": "text/x-python",
   "name": "python",
   "nbconvert_exporter": "python",
   "pygments_lexer": "ipython3",
   "version": "3.12.4"
  },
  "toc": {
   "base_numbering": 1,
   "nav_menu": {},
   "number_sections": true,
   "sideBar": true,
   "skip_h1_title": true,
   "title_cell": "Содержание",
   "title_sidebar": "Contents",
   "toc_cell": true,
   "toc_position": {
    "height": "calc(100% - 180px)",
    "left": "10px",
    "top": "150px",
    "width": "165px"
   },
   "toc_section_display": true,
   "toc_window_display": true
  }
 },
 "nbformat": 4,
 "nbformat_minor": 4
}
